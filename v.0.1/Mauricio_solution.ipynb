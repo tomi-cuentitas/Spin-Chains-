{
 "cells": [
  {
   "cell_type": "code",
   "execution_count": 3,
   "id": "223bb125",
   "metadata": {
    "ExecuteTime": {
     "end_time": "2022-09-15T17:27:35.433686Z",
     "start_time": "2022-09-15T17:27:34.641880Z"
    }
   },
   "outputs": [],
   "source": [
    "import qutip\n",
    "import matplotlib.pyplot as plt\n",
    "import numpy as np\n",
    "from numpy.linalg import norm\n",
    "np.set_printoptions(threshold=1.e-9,linewidth=120,precision=3, formatter={\"float\":lambda x: str(.001*int(1000*x)) })"
   ]
  },
  {
   "cell_type": "code",
   "execution_count": 12,
   "id": "4d939a6a",
   "metadata": {
    "ExecuteTime": {
     "end_time": "2022-09-15T17:42:03.143978Z",
     "start_time": "2022-09-15T17:42:03.065103Z"
    }
   },
   "outputs": [
    {
     "name": "stdout",
     "output_type": "stream",
     "text": [
      "{'[H,n_op]=0': False, '[x,n_op]=0': True, '[p,n_op]=0': False, '[comm,n_op]=0': False, '[corr,n_op]=0': False}\n",
      "valores medios iniciales: {'n_oc': 1.0, 'x': -1.0, 'p': 0.19801980198019806, '[x,p]/I': 0.9801980198019803, 'I [H,p]': 1.5000000000000004}\n"
     ]
    }
   ],
   "source": [
    "# rutinas auxiliares:\n",
    "\n",
    "def check_zero(op):\n",
    "    return max(abs(op.eigenenergies()))<1.e-10\n",
    "\n",
    "def scalar_product_t(op1, op2, rho0):\n",
    "    return (rho0*op1.dag()*op2).tr()\n",
    "\n",
    "def scalar_product_r(op1, op2, rho0):\n",
    "    return 0.5*(rho0*(op1.dag()*op2+op2*op1.dag())).tr()\n",
    "\n",
    "def gs_basis(basis0, rho0, sc_prod):\n",
    "    new_basis = []\n",
    "    \n",
    "    for b in basis0:\n",
    "        nb = b - sum(sc_prod(w, b, rho0)*w for w in new_basis)\n",
    "        norm = sc_prod(nb, nb, rho0)**.5\n",
    "        if norm >1.e-10:\n",
    "            new_basis.append(nb/norm)\n",
    "    return new_basis\n",
    "\n",
    "\n",
    "# Construimos los operadores bÃ¡sicos\n",
    "\n",
    "n=3\n",
    "id_loc = qutip.qeye(2)\n",
    "sz_loc = .5*qutip.sigmaz()\n",
    "sx_loc = .5*qutip.sigmax()\n",
    "sy_loc = .5*qutip.sigmay()\n",
    "\n",
    "\n",
    "\n",
    "\n",
    "# Operadores globales de mi base\n",
    "id_glob = qutip.tensor([id_loc for i in range(n)])\n",
    "\n",
    "magnetization = sum(qutip.tensor([(sz_loc)]) for k in range(n))\n",
    "\n",
    "n_oc =  sum(qutip.tensor([id_loc for i in range(k)]+ \n",
    "                     [(sz_loc + .5*id_loc)]+ \n",
    "                     [id_loc for i in range(n-k-1)]\n",
    "                    ) for k in range(n-1))\n",
    "\n",
    "\n",
    "\n",
    "# Hamiltoniano\n",
    "H = 2*(sum(qutip.tensor([id_loc for i in range(k)]+ \n",
    "                     [sx_loc, sx_loc]+ \n",
    "                     [id_loc for i in range(n-k-2)]\n",
    "                    ) for k in range(n-2)) + \n",
    "    sum(qutip.tensor([id_loc for i in range(k)]+ \n",
    "                     [sy_loc, sy_loc]+ \n",
    "                     [id_loc for i in range(n-k-2)]\n",
    "                    ) for k in range(n-2)) + \n",
    "    qutip.tensor([sx_loc]+[id_loc for i in range(n-2)]+[sx_loc]) + \n",
    "    qutip.tensor([sy_loc]+[id_loc for i in range(n-2)]+[sy_loc]) \n",
    "   )\n",
    "\n",
    "\n",
    "x = sum(qutip.tensor([id_loc for i in range(k)]+ \n",
    "                     [(k-n/2)*(sz_loc + .5*id_loc)]+ \n",
    "                     [id_loc for i in range(n-k-1)]\n",
    "                    ) for k in range(n-1))\n",
    "\n",
    "\n",
    "p = 1j*(H*x-x*H)\n",
    "ac = 1j*(H*p-p*H)\n",
    "\n",
    "corr = .5*(x*p+p*x)\n",
    "comm = -1j*(x*p-p*x)\n",
    "\n",
    "print({\"[H,n_op]=0\":check_zero(H*n_oc-n_oc*H),\n",
    "\"[x,n_op]=0\":check_zero(x*n_oc-n_oc*x),\n",
    "\"[p,n_op]=0\":check_zero(p*n_oc-n_oc*p),\n",
    "\"[comm,n_op]=0\":check_zero(comm*n_oc-n_oc*comm),\n",
    "\"[corr,n_op]=0\":check_zero(corr*n_oc-n_oc*corr)})\n",
    "\n",
    "\n",
    "\n",
    "psi0 = ((1-.1j)*qutip.tensor([qutip.basis(2,1) for k in range(int(n/2)-1)]+\n",
    "                    [qutip.basis(2,0)]+\n",
    "                    [qutip.basis(2,1) for k in range(int(n/2+.5))]\n",
    "                   )\n",
    "        -\n",
    "        (1+.1j)*qutip.tensor([qutip.basis(2,1) for k in range(int(n/2))]+\n",
    "                    [qutip.basis(2,0)]+\n",
    "                    [qutip.basis(2,1) for k in range(int(n/2+.5)-1)]\n",
    "                   )\n",
    "       )*np.sqrt(.5/1.01)\n",
    "\n",
    "\n",
    "\n",
    "print(\"valores medios iniciales:\",{name:qutip.expect(op, psi0) for name, op in zip([\"n_oc\",\"x\",\"p\", \"[x,p]/I\", \n",
    "                                                                         \"I [H,p]\"],[n_oc, x,p,comm, ac])})\n",
    "\n",
    "\n",
    "rho0=psi0*psi0.dag()\n",
    "\n"
   ]
  },
  {
   "cell_type": "code",
   "execution_count": 106,
   "id": "cc1b3094",
   "metadata": {
    "ExecuteTime": {
     "end_time": "2022-09-15T18:04:30.989804Z",
     "start_time": "2022-09-15T18:04:30.615488Z"
    }
   },
   "outputs": [
    {
     "name": "stdout",
     "output_type": "stream",
     "text": [
      "valores medios iniciales: {'n_oc': 1.2295069703019266, 'x': -3.4911145182409324, 'p': -0.17227173883091176, '[x,p]/I': 1.3246707069257064, 'I [H,p]': 2.7737957713656627}\n"
     ]
    },
    {
     "data": {
      "text/plain": [
       "[<matplotlib.lines.Line2D at 0x7f19b2074610>]"
      ]
     },
     "execution_count": 106,
     "metadata": {},
     "output_type": "execute_result"
    },
    {
     "data": {
      "image/png": "[encoded data removed]",
      "text/plain": [
       "<Figure size 432x288 with 1 Axes>"
      ]
     },
     "metadata": {
      "needs_background": "light"
     },
     "output_type": "display_data"
    }
   ],
   "source": [
    "rho_ref = (-H-.5*(n_oc-id_glob)**2).expm()\n",
    "rho_ref = rho_ref/rho_ref.tr()\n",
    "\n",
    "ops=[id_glob, n_oc, n_oc**2, x, p , ac, comm, corr, H]\n",
    "\n",
    "gr_basis = gs_basis(ops, rho_ref, scalar_product_r)\n",
    "\n",
    "# condiciones iniciales\n",
    "phi0 = [0., 4., 2.,  2., .1, 0., -.2, 0., 0.]\n",
    "rho0 = (-sum( f*op  for f, op in  zip(phi0, gr_basis))).expm()\n",
    "phi0[0]=np.log(rho0.tr())\n",
    "rho0 = (-sum( f*op  for f, op in  zip(phi0, gr_basis))).expm()\n",
    "\n",
    "print(\"valores medios iniciales:\",{name:qutip.expect(op, rho0) for name, op in zip([\"n_oc\",\"x\",\"p\", \"[x,p]/I\", \n",
    "                                                                         \"I [H,p]\"],[n_oc, x,p,comm, ac])})\n",
    "\n",
    "HijT = np.array([[scalar_product_r(op2, -1j*(H*op1-op1*H),rho_ref) for op1 in gr_basis] for op2 in gr_basis])\n",
    "plt.plot(qutip.Qobj(HijT).eigenenergies().real)\n",
    "plt.plot(sorted(qutip.Qobj(HijT).eigenenergies().imag))"
   ]
  },
  {
   "cell_type": "code",
   "execution_count": 97,
   "id": "4612252f",
   "metadata": {
    "ExecuteTime": {
     "end_time": "2022-09-15T18:00:58.411148Z",
     "start_time": "2022-09-15T18:00:57.812218Z"
    }
   },
   "outputs": [
    {
     "data": {
      "image/png": "[encoded data removed]",
      "text/plain": [
       "<Figure size 432x288 with 1 Axes>"
      ]
     },
     "metadata": {
      "needs_background": "light"
     },
     "output_type": "display_data"
    },
    {
     "data": {
      "image/png": "[encoded data removed]",
      "text/plain": [
       "<Figure size 432x288 with 1 Axes>"
      ]
     },
     "metadata": {
      "needs_background": "light"
     },
     "output_type": "display_data"
    },
    {
     "data": {
      "image/png": "[encoded data removed]",
      "text/plain": [
       "<Figure size 432x288 with 1 Axes>"
      ]
     },
     "metadata": {
      "needs_background": "light"
     },
     "output_type": "display_data"
    }
   ],
   "source": [
    "# DinÃ¡mica exacta\n",
    "res=qutip.mesolve(H, rho0, np.linspace(0,10,100), c_ops=None, e_ops=[x,p,corr])\n",
    "\n",
    "for indx, name in enumerate([\"x\", \"p\", \"corr\"]):\n",
    "    plt.title(name)\n",
    "    plt.plot(res.times, res.expect[indx])\n",
    "    plt.show()\n"
   ]
  },
  {
   "cell_type": "code",
   "execution_count": 72,
   "id": "93327d05",
   "metadata": {
    "ExecuteTime": {
     "end_time": "2022-09-15T17:42:04.098843Z",
     "start_time": "2022-09-15T17:42:04.001373Z"
    }
   },
   "outputs": [],
   "source": []
  },
  {
   "cell_type": "code",
   "execution_count": 73,
   "id": "b133b43e",
   "metadata": {
    "ExecuteTime": {
     "end_time": "2022-09-15T17:42:04.680186Z",
     "start_time": "2022-09-15T17:42:04.584837Z"
    }
   },
   "outputs": [],
   "source": [
    "\n",
    "\n",
    "gt_basis = gs_basis(ops, rho_ref, scalar_product_t)"
   ]
  },
  {
   "cell_type": "code",
   "execution_count": 88,
   "id": "cfe21c68",
   "metadata": {
    "ExecuteTime": {
     "end_time": "2022-09-15T17:44:45.663029Z",
     "start_time": "2022-09-15T17:44:45.543492Z"
    }
   },
   "outputs": [
    {
     "data": {
      "text/plain": [
       "array([[0.0, 0.0, 0.0, ..., 0.0, -0.074, 0.0],\n",
       "       [0.0, 0.0, 0.0, ..., 0.0, -0.069, 0.0],\n",
       "       [0.0, 0.0, 0.0, ..., 0.0, 0.367, 0.0],\n",
       "       ...,\n",
       "       [0.0, 0.0, 0.0, ..., 0.0, 0.341, 0.0],\n",
       "       [0.0, -0.053, -0.022, ..., -0.232, 0.0, -0.156],\n",
       "       [0.0, 0.0, 0.0, ..., 0.0, 0.107, 0.0]])"
      ]
     },
     "execution_count": 88,
     "metadata": {},
     "output_type": "execute_result"
    }
   ],
   "source": [
    "HijT = np.array([[scalar_product_r(op2, -1j*(H*op1-op1*H),rho_ref) for op1 in gr_basis] for op2 in gr_basis])\n",
    "\n",
    "HijT.real"
   ]
  },
  {
   "cell_type": "markdown",
   "id": "eced38f0",
   "metadata": {},
   "source": [
    "$$\n",
    "\\frac{d \\phi_i}{dt} = \\sum_j{\\cal H}_{ij}\\phi_j\n",
    "$$\n",
    "\n",
    "$$\n",
    "\\phi_i(t)= \\exp({\\cal H}_{ij} t) \\phi_j\n",
    "$$"
   ]
  },
  {
   "cell_type": "code",
   "execution_count": null,
   "id": "f59d16a0",
   "metadata": {
    "ExecuteTime": {
     "end_time": "2022-09-15T17:09:25.278882Z",
     "start_time": "2022-09-15T17:09:25.110519Z"
    }
   },
   "outputs": [],
   "source": [
    "gramm_r=np.array([[ scalar_product_r(b1, b2,rho_ref)  for b1 in gr_basis] for b2 in gr_basis])\n",
    "gramm_t=np.array([[ scalar_product_t(b1, b2,rho_ref)  for b1 in gr_basis] for b2 in gr_basis])"
   ]
  },
  {
   "cell_type": "code",
   "execution_count": null,
   "id": "6fa078af",
   "metadata": {
    "ExecuteTime": {
     "end_time": "2022-09-15T17:09:56.466846Z",
     "start_time": "2022-09-15T17:09:56.460784Z"
    }
   },
   "outputs": [],
   "source": [
    "gramm_t.imag"
   ]
  },
  {
   "cell_type": "code",
   "execution_count": null,
   "id": "0976147b",
   "metadata": {
    "ExecuteTime": {
     "end_time": "2022-09-15T12:13:53.628489Z",
     "start_time": "2022-09-15T12:13:53.531260Z"
    }
   },
   "outputs": [],
   "source": [
    "np.array([[ scalar_product_t(b1, b2,rho_ref).real  for b1 in gr_basis] for b2 in gr_basis])"
   ]
  },
  {
   "cell_type": "code",
   "execution_count": null,
   "id": "7d3246b7",
   "metadata": {
    "ExecuteTime": {
     "end_time": "2022-09-15T12:15:27.509259Z",
     "start_time": "2022-09-15T12:15:27.502517Z"
    }
   },
   "outputs": [],
   "source": [
    "norm(np.array([[0,1],[1,2]]))"
   ]
  },
  {
   "cell_type": "code",
   "execution_count": null,
   "id": "8ccdd5f1",
   "metadata": {
    "ExecuteTime": {
     "end_time": "2022-09-15T17:14:07.044392Z",
     "start_time": "2022-09-15T17:14:06.929212Z"
    }
   },
   "outputs": [],
   "source": []
  },
  {
   "cell_type": "code",
   "execution_count": null,
   "id": "9c8a754f",
   "metadata": {
    "ExecuteTime": {
     "end_time": "2022-09-15T17:14:07.941896Z",
     "start_time": "2022-09-15T17:14:07.935329Z"
    }
   },
   "outputs": [],
   "source": []
  },
  {
   "cell_type": "code",
   "execution_count": null,
   "id": "100b79a9",
   "metadata": {},
   "outputs": [],
   "source": []
  }
 ],
 "metadata": {
  "kernelspec": {
   "display_name": "Python 3 (ipykernel)",
   "language": "python",
   "name": "python3"
  },
  "language_info": {
   "codemirror_mode": {
    "name": "ipython",
    "version": 3
   },
   "file_extension": ".py",
   "mimetype": "text/x-python",
   "name": "python",
   "nbconvert_exporter": "python",
   "pygments_lexer": "ipython3",
   "version": "3.9.12"
  },
  "toc": {
   "base_numbering": 1,
   "nav_menu": {},
   "number_sections": true,
   "sideBar": true,
   "skip_h1_title": false,
   "title_cell": "Table of Contents",
   "title_sidebar": "Contents",
   "toc_cell": false,
   "toc_position": {},
   "toc_section_display": true,
   "toc_window_display": false
  }
 },
 "nbformat": 4,
 "nbformat_minor": 5
}
