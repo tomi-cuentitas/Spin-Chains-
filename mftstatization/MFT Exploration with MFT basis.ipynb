{
 "cells": [
  {
   "cell_type": "code",
   "execution_count": 1,
   "id": "46f13c65",
   "metadata": {},
   "outputs": [],
   "source": [
    "import qutip\n",
    "import numpy as np\n",
    "import matplotlib.pyplot as plt\n",
    "import scipy.linalg as linalg\n",
    "import a_matrix_analysis_lib as matansys\n",
    "import b_spin_representations as su2"
   ]
  },
  {
   "cell_type": "code",
   "execution_count": 62,
   "id": "a5a13129",
   "metadata": {},
   "outputs": [],
   "source": [
    "N = 3\n",
    "spin_ops = su2.one_body_spin_ops(N)\n",
    "identity_op = spin_ops[0]\n",
    "sx_list = spin_ops[1]; sy_list = spin_ops[2]; sz_list = spin_ops[3]"
   ]
  },
  {
   "cell_type": "code",
   "execution_count": 63,
   "id": "f9f73084",
   "metadata": {},
   "outputs": [],
   "source": [
    "J = 1 \n",
    "H = J * (sx_list[0]*sx_list[1] + sx_list[1]*sx_list[2] + sx_list[2]*sx_list[0])\n",
    "H += J * (sy_list[0]*sy_list[1] + sy_list[1]*sy_list[2] + sy_list[2]*sy_list[0])\n",
    "H += J * (sz_list[0]*sz_list[1] + sz_list[1]*sz_list[2] + sz_list[2]*sz_list[0])"
   ]
  },
  {
   "cell_type": "code",
   "execution_count": 64,
   "id": "cffe4cc5",
   "metadata": {},
   "outputs": [],
   "source": [
    "def HS_scalar_product(op1, op2):\n",
    "    return (op1.dag() * op2).tr()\n",
    "\n",
    "def matrix_change_to_orthogonal_basis(basis, threshold = 1.e-10):\n",
    "    \"\"\"\n",
    "    Build the coefficient matrix of the base change to an orthogonal base.\n",
    "    \"\"\"\n",
    "    gram = np.array([[HS_scalar_product(op1, op2) for op1 in basis]\n",
    "                                               for op2 in basis])\n",
    "    \n",
    "    u, svals, v_h = linalg.svd(gram, full_matrices = False)\n",
    "    kappa = len([sv for sv in svals if sv > threshold])\n",
    "    v_h = v_h[:kappa]\n",
    "    return v_h.conj()\n",
    "\n",
    "class quadraticFormOperator:\n",
    "\n",
    "    def __init__(self, quadweights, quadterms):\n",
    "        self.weights = quadweights\n",
    "        self.terms = quadterms \n",
    "        \n",
    "    def displayOperator(self):\n",
    "        w = self.weights\n",
    "        ops = self.terms\n",
    "        res = 0\n",
    "        for i in range(len(basis)):\n",
    "            for j in range(len(basis)):\n",
    "                res += Jmatrix[i][j] * sx_list[i] * sx_list[j]\n",
    "        return res\n"
   ]
  },
  {
   "cell_type": "code",
   "execution_count": 65,
   "id": "a6b92623",
   "metadata": {},
   "outputs": [
    {
     "data": {
      "text/plain": [
       "[[0.5, 0.0, 0.0], [0.0, 0.5, 0.0], [0.0, 0.0, 0.5]]"
      ]
     },
     "execution_count": 65,
     "metadata": {},
     "output_type": "execute_result"
    }
   ],
   "source": []
  },
  {
   "cell_type": "code",
   "execution_count": null,
   "id": "169dca24",
   "metadata": {},
   "outputs": [],
   "source": []
  },
  {
   "cell_type": "code",
   "execution_count": null,
   "id": "698604f1",
   "metadata": {},
   "outputs": [],
   "source": [
    "def matrix_change_to_orthogonal_basis(basis: list, threeshold=1.e-10):\n",
    "    \"\"\"\n",
    "    Build the coefficient matrix of the base change to an orthogonal base.\n",
    "    \"\"\"\n",
    "    def scalar_product(o_1, o_2):\n",
    "        \"\"\"HS scalar product\"\"\"\n",
    "        return (o_1.dag()*o_2).tr()\n",
    "\n",
    "    gram = np.array([[scalar_product(o_1, o_2) for o_1 in basis]\n",
    "                     for o_2 in basis])\n",
    "\n",
    "    u, s_diag, v_h = svd(gram, hermitian=True, full_matrices=False)\n",
    "    kappa = len([sv for sv in s_diag if sv > threeshold])\n",
    "    v_h = v_h[:kappa]\n",
    "    return v_h.conj()\n",
    "\n",
    "\n",
    "def simplify_quadratic_form(operator: QuadraticFormOperator, hermitic=True):\n",
    "    \"\"\"\n",
    "    Takes a 2-body operator and returns lists weights, ops\n",
    "    such that the original operator is sum(w * op.dag()*op for w,op in zip(weights,ops))\n",
    "\n",
    "    \"\"\"\n",
    "    local_ops = operator.terms\n",
    "    coeffs = operator.weights\n",
    "    system = operator.system\n",
    "\n",
    "\n",
    "    # Orthogonalize the basis\n",
    "    u_transp = matrix_change_to_orthogonal_basis(coeffs)\n",
    "    u_dag = u_transp.conj()\n",
    "    # reduced_basis = [ sum(c*old_op  for c, old_op in zip(row,local_ops) ) for row in u_transp]\n",
    "    # Build the coefficients of the quadratic form\n",
    "    coeff_matrix = (u_dag*coeffs).dot(u_transp.transpose())\n",
    "    weights, eig_vecs = eigh(coeff_matrix)\n",
    "    # Remove null eigenvalues\n",
    "    support = abs(weights) > 1.e-10\n",
    "    v_transp = eig_vecs.transpose()[support]\n",
    "    weights = weights[support]\n",
    "    # Build the new set of operators as the composition of the two basis changes: the one that reduces the basis\n",
    "    # by orthogonalizing a metric (u_transp) and the one that diagonalizes the quadratic form in the new basis\n",
    "    # (v_transp):\n",
    "    new_basis = [sum(c*old_op for c, old_op in zip(row, local_ops))\n",
    "                 for row in v_transp.conj().dot(u_transp)]\n",
    "\n",
    "    # Until here, we assumed that\n",
    "    if not hermitic:\n",
    "        cweights, c_new_basis = simplify_quadratic_form(-1j*operator, True)\n",
    "        cweights = 1j*cweights\n",
    "        weights = np.append(weights, cweights)\n",
    "        new_basis = new_basis + c_new_basis\n",
    "    return QuadraticFormOperator(new_basis, weights, system, False)"
   ]
  },
  {
   "cell_type": "code",
   "execution_count": null,
   "id": "e05c328d",
   "metadata": {},
   "outputs": [],
   "source": []
  },
  {
   "cell_type": "code",
   "execution_count": 5,
   "id": "8da4124c",
   "metadata": {},
   "outputs": [],
   "source": [
    "random_no_list = [np.random.rand() for i in range(N)]\n",
    "\n",
    "K = sum(random_no_list[m] * sx_list[m] * sx_list[(m+1) % N] for m in range(N))\n",
    "K += sum(random_no_list[m] * sy_list[m] * sy_list[(m+1) % N] for m in range(N))\n",
    "K += sum(random_no_list[m] * sz_list[m] * sz_list[(m+1) % N] for m in range(N))\n",
    "rho0 = safe_expm_and_normalize(K)"
   ]
  },
  {
   "cell_type": "code",
   "execution_count": 9,
   "id": "16aa519d",
   "metadata": {},
   "outputs": [],
   "source": [
    "def mean_field_iteration(rho0, guesstimates, basis, steps):\n",
    "    trial_K = sum(phi * op for phi,op in zip(guesstimates, basis))\n",
    "    sigma0 = safe_expm_and_normalize(trial_K)\n",
    "    mft_states = [sigma0]\n",
    "    for i in range(1, steps):\n",
    "        sigma_mft = mft_states[i-1]\n",
    "        coeff_list_j = [qutip.expect(sigma_mft, op) for op in basis]\n",
    "        K_j = sum(zeta_j_i * op_i for zeta_j_i, op_i in zip(coeff_list_j, basis))\n",
    "        sigma_j = safe_expm_and_normalize(K_j)\n",
    "        mft_states.append(sigma_j)\n",
    "        coeff_list_j = K_j = sigma_j = None\n",
    "        \n",
    "    return mft_states"
   ]
  },
  {
   "cell_type": "code",
   "execution_count": 10,
   "id": "f6d7f7f0",
   "metadata": {},
   "outputs": [],
   "source": [
    "basis = sx_list \n",
    "guesstimate = [1] + [0 for i in range(len(basis) - 1)]\n",
    "trial_K = sum(zeta * op for zeta, op in zip(random_no_list, basis))\n",
    "\n",
    "iteration = [i for i in range(1, 11)]\n",
    "mftstates = mean_field_iteration(rho0 = rho0, guesstimates = guesstimate,\n",
    "                                 basis = basis, steps = 10)\n",
    "\n",
    "frobenius_norm = [linalg.norm(rho0 - sigma0i) for sigma0i in mftstates]\n",
    "relentr = [rel_entropy(rho0, sigma0i, svd = True) for sigma0i in mftstates]\n",
    "bures_dist = [bures(rho0, sigma0i, svd = True) for sigma0i in mftstates]"
   ]
  },
  {
   "cell_type": "code",
   "execution_count": 11,
   "id": "71faa0c3",
   "metadata": {},
   "outputs": [
    {
     "data": {
      "image/png": "[encoded data removed]",
      "text/plain": [
       "<Figure size 720x432 with 1 Axes>"
      ]
     },
     "metadata": {
      "needs_background": "light"
     },
     "output_type": "display_data"
    }
   ],
   "source": [
    "fig0, ax0 = plt.subplots(figsize=(10,6))\n",
    "plt.title(\"Metrics - Iterative MFT States\")\n",
    "\n",
    "plt.scatter(iteration, frobenius_norm, label = \"Frobenius Norm\")\n",
    "plt.scatter(iteration, relentr, label = \"Relative Entropy\")\n",
    "plt.scatter(iteration, bures_dist, label = \"Bures Metric\")\n",
    "\n",
    "ax0.legend(loc=0)\n",
    "plt.xlabel(\"Iteration\")\n",
    "plt.show()"
   ]
  },
  {
   "cell_type": "markdown",
   "id": "bdc27cd7",
   "metadata": {},
   "source": [
    "# Dependence with dimension"
   ]
  },
  {
   "cell_type": "code",
   "execution_count": 183,
   "id": "6f9c87b0",
   "metadata": {},
   "outputs": [],
   "source": [
    "number_of_spins = [i for i in range(3, 8)]\n",
    "number_of_spins_index = [number_of_spins.index(N) for N in number_of_spins]"
   ]
  },
  {
   "cell_type": "code",
   "execution_count": 184,
   "id": "2514d742",
   "metadata": {},
   "outputs": [],
   "source": [
    "list_of_spin_ops = [su2.one_body_spin_ops(N) for N in number_of_spins]\n",
    "list_of_identity_ops = [list_of_spin_ops[k][0] for k in range(len(number_of_spins))]\n",
    "\n",
    "list_of_sx_lists = [list_of_spin_ops[k][1] for k in range(len(number_of_spins))]\n",
    "list_of_sy_lists = [list_of_spin_ops[k][2] for k in range(len(number_of_spins))]\n",
    "list_of_sz_lists = [list_of_spin_ops[k][3] for k in range(len(number_of_spins))]"
   ]
  },
  {
   "cell_type": "code",
   "execution_count": 185,
   "id": "391b79af",
   "metadata": {},
   "outputs": [],
   "source": [
    "random_no_list = [[np.random.rand() for i in range(N)] for N in number_of_spins]"
   ]
  },
  {
   "cell_type": "code",
   "execution_count": 186,
   "id": "72681e6f",
   "metadata": {},
   "outputs": [
    {
     "data": {
      "text/latex": [
       "Quantum object: dims = [[2, 2, 2], [2, 2, 2]], shape = (8, 8), type = oper, isherm = True\\begin{equation*}\\left(\\begin{array}{*{11}c}0.0 & 0.416 & 0.016 & 0.0 & 0.236 & 0.0 & 0.0 & 0.0\\\\0.416 & 0.0 & 0.0 & 0.016 & 0.0 & 0.236 & 0.0 & 0.0\\\\0.016 & 0.0 & 0.0 & 0.416 & 0.0 & 0.0 & 0.236 & 0.0\\\\0.0 & 0.016 & 0.416 & 0.0 & 0.0 & 0.0 & 0.0 & 0.236\\\\0.236 & 0.0 & 0.0 & 0.0 & 0.0 & 0.416 & 0.016 & 0.0\\\\0.0 & 0.236 & 0.0 & 0.0 & 0.416 & 0.0 & 0.0 & 0.016\\\\0.0 & 0.0 & 0.236 & 0.0 & 0.016 & 0.0 & 0.0 & 0.416\\\\0.0 & 0.0 & 0.0 & 0.236 & 0.0 & 0.016 & 0.416 & 0.0\\\\\\end{array}\\right)\\end{equation*}"
      ],
      "text/plain": [
       "Quantum object: dims = [[2, 2, 2], [2, 2, 2]], shape = (8, 8), type = oper, isherm = True\n",
       "Qobj data =\n",
       "[[0.         0.41573732 0.01551187 0.         0.23625196 0.\n",
       "  0.         0.        ]\n",
       " [0.41573732 0.         0.         0.01551187 0.         0.23625196\n",
       "  0.         0.        ]\n",
       " [0.01551187 0.         0.         0.41573732 0.         0.\n",
       "  0.23625196 0.        ]\n",
       " [0.         0.01551187 0.41573732 0.         0.         0.\n",
       "  0.         0.23625196]\n",
       " [0.23625196 0.         0.         0.         0.         0.41573732\n",
       "  0.01551187 0.        ]\n",
       " [0.         0.23625196 0.         0.         0.41573732 0.\n",
       "  0.         0.01551187]\n",
       " [0.         0.         0.23625196 0.         0.01551187 0.\n",
       "  0.         0.41573732]\n",
       " [0.         0.         0.         0.23625196 0.         0.01551187\n",
       "  0.41573732 0.        ]]"
      ]
     },
     "execution_count": 186,
     "metadata": {},
     "output_type": "execute_result"
    }
   ],
   "source": [
    "sum(random_no_list[0][i] * list_of_sx_lists[0][i] for i in range(3))"
   ]
  },
  {
   "cell_type": "code",
   "execution_count": 187,
   "id": "2b961f87",
   "metadata": {},
   "outputs": [],
   "source": [
    "list_of_Kamiltonians = []\n",
    "\n",
    "for N in number_of_spins:\n",
    "    n = number_of_spins.index(N)\n",
    "    K_N = J * sum(random_no_list[n][m] * list_of_sx_lists[n][m] * list_of_sx_lists[n][(m+1) % N]\n",
    "                             + random_no_list[n][m] * list_of_sy_lists[n][m] * list_of_sy_lists[n][(m+1) % N]\n",
    "                             + random_no_list[n][m] * list_of_sz_lists[n][m] * list_of_sz_lists[n][(m+1) % N]\n",
    "                 for m in range(len(random_no_list[n])))\n",
    "    list_of_Kamiltonians.append(K_N)\n",
    "\n",
    "list_of_rho0s = [safe_expm_and_normalize(K_N) for K_N in list_of_Kamiltonians]"
   ]
  },
  {
   "cell_type": "code",
   "execution_count": 224,
   "id": "300fdb8e",
   "metadata": {},
   "outputs": [],
   "source": [
    "mft_basis = list_of_sz_lists\n",
    "\n",
    "list_of_guesstimates = []\n",
    "for N in number_of_spins:\n",
    "    n = number_of_spins.index(N)\n",
    "    local_list = [-.5] + [0 for i in range(len(list_of_sx_lists[n]) - 1)]\n",
    "    list_of_guesstimates.append(local_list)\n",
    "\n",
    "list_of_trial_Ks = []\n",
    "for N in number_of_spins:\n",
    "    n = number_of_spins.index(N)\n",
    "    trial_K = sum(zeta * op for zeta, op in zip(random_no_list[n], mft_basis[n]))\n",
    "    list_of_trial_Ks.append(trial_K)\n",
    "    \n",
    "\n",
    "iteration = [i for i in range(1, 11)]\n",
    "list_of_list_mftstates = [mean_field_iteration(rho0 = list_of_rho0s[n], \n",
    "                                               guesstimates = list_of_guesstimates[n],\n",
    "                                                 basis = mft_basis[n], steps = 10)\n",
    "                         for n in number_of_spins_index]"
   ]
  },
  {
   "cell_type": "code",
   "execution_count": 225,
   "id": "a0b6f0b7",
   "metadata": {
    "scrolled": true
   },
   "outputs": [],
   "source": [
    "frobenius_norm = [[linalg.norm(list_of_rho0s[n] - sigma0i) for sigma0i in list_of_list_mftstates[n]] \n",
    "                          for n in number_of_spins_index]\n",
    "\n",
    "relentr = [[rel_entropy(list_of_rho0s[n], sigma0i, svd = True) for sigma0i in list_of_list_mftstates[n]] \n",
    "                   for n in number_of_spins_index]\n",
    "\n",
    "bures_dist = [[bures(list_of_rho0s[n], sigma0i, svd = True) for sigma0i in list_of_list_mftstates[n]] \n",
    "                   for n in number_of_spins_index[:4]]\n"
   ]
  },
  {
   "cell_type": "code",
   "execution_count": 226,
   "id": "8b5202d0",
   "metadata": {},
   "outputs": [
    {
     "data": {
      "text/plain": [
       "[3, 4, 5, 6]"
      ]
     },
     "execution_count": 226,
     "metadata": {},
     "output_type": "execute_result"
    }
   ],
   "source": [
    "[number_of_spins[n] for n in number_of_spins_index[:4]]"
   ]
  },
  {
   "cell_type": "code",
   "execution_count": 227,
   "id": "c316ff32",
   "metadata": {},
   "outputs": [
    {
     "data": {
      "image/png": "[encoded data removed]",
      "text/plain": [
       "<Figure size 720x432 with 1 Axes>"
      ]
     },
     "metadata": {
      "needs_background": "light"
     },
     "output_type": "display_data"
    },
    {
     "data": {
      "image/png": "[encoded data removed]",
      "text/plain": [
       "<Figure size 720x432 with 1 Axes>"
      ]
     },
     "metadata": {
      "needs_background": "light"
     },
     "output_type": "display_data"
    }
   ],
   "source": [
    "fig0, ax0 = plt.subplots(figsize=(10,6))\n",
    "plt.title(\"Metrics - Frobenius Norm - Iterative MFT States for different dimensions\")\n",
    "\n",
    "for n in number_of_spins_index:\n",
    "    plt.scatter(iteration, frobenius_norm[n], label = r'Frobenius Norm $N = %d$'%number_of_spins[n])\n",
    "\n",
    "ax0.legend(loc=0)\n",
    "plt.xlabel(\"Iteration\")\n",
    "plt.show()\n",
    "\n",
    "fig1, ax1 = plt.subplots(figsize=(10,6))\n",
    "plt.title(\"Metrics - Bures Metric - Iterative MFT States for different dimensions\")\n",
    "\n",
    "for n in number_of_spins_index[:4]:\n",
    "    plt.scatter(iteration, bures_dist[n], label = r'Bures Metric $N = %d$'%number_of_spins[n])\n",
    "\n",
    "ax1.legend(loc=0)\n",
    "plt.xlabel(\"Iteration\")\n",
    "plt.show()"
   ]
  },
  {
   "cell_type": "code",
   "execution_count": 228,
   "id": "84d4d0f1",
   "metadata": {
    "scrolled": false
   },
   "outputs": [
    {
     "data": {
      "image/png": "[encoded data removed]",
      "text/plain": [
       "<Figure size 720x432 with 1 Axes>"
      ]
     },
     "metadata": {
      "needs_background": "light"
     },
     "output_type": "display_data"
    }
   ],
   "source": [
    "fig0, ax0 = plt.subplots(figsize=(10,6))\n",
    "plt.title(\"Metrics - Relative Entropy - Iterative MFT States for different dimensions\")\n",
    "\n",
    "for n in number_of_spins_index:\n",
    "    plt.scatter(iteration, relentr[n], label = r'Relative Entropies $N = %d$'%number_of_spins[n])\n",
    "\n",
    "ax0.legend(loc=0)\n",
    "plt.xlabel(\"Iteration\")\n",
    "plt.show()"
   ]
  },
  {
   "cell_type": "code",
   "execution_count": null,
   "id": "c07c2385",
   "metadata": {},
   "outputs": [],
   "source": []
  },
  {
   "cell_type": "code",
   "execution_count": null,
   "id": "d32c42a9",
   "metadata": {},
   "outputs": [],
   "source": [
    "1. Que pasa si uso un mal estado?\n",
    "2. Que pasa si uso coeficientes no aleatorios? Lejos y cercanos\n",
    "3. Como se ve en la metrica KMB y la rel entr\n",
    "4. Donde entra en juego las bases jerárquicas?\n",
    "5. Que pasa si uso otros estados??"
   ]
  }
 ],
 "metadata": {
  "kernelspec": {
   "display_name": "Python 3 (ipykernel)",
   "language": "python",
   "name": "python3"
  },
  "language_info": {
   "codemirror_mode": {
    "name": "ipython",
    "version": 3
   },
   "file_extension": ".py",
   "mimetype": "text/x-python",
   "name": "python",
   "nbconvert_exporter": "python",
   "pygments_lexer": "ipython3",
   "version": "3.9.12"
  }
 },
 "nbformat": 4,
 "nbformat_minor": 5
}
