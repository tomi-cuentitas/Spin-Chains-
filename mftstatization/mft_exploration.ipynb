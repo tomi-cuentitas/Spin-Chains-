{
 "cells": [
  {
   "cell_type": "code",
   "execution_count": 1,
   "id": "46f13c65",
   "metadata": {},
   "outputs": [],
   "source": [
    "import qutip\n",
    "import numpy as np\n",
    "import matplotlib.pyplot as plt\n",
    "import scipy.linalg as linalg\n",
    "import a_matrix_analysis_lib as matansys\n",
    "import b_spin_representations as su2"
   ]
  },
  {
   "cell_type": "code",
   "execution_count": 2,
   "id": "a5a13129",
   "metadata": {},
   "outputs": [],
   "source": [
    "N = 6\n",
    "spin_ops = su2.one_body_spin_ops(N)\n",
    "identity_op = spin_ops[0]\n",
    "sx_list = spin_ops[1]; sy_list = spin_ops[2]; sz_list = spin_ops[3]"
   ]
  },
  {
   "cell_type": "code",
   "execution_count": 3,
   "id": "f9f73084",
   "metadata": {},
   "outputs": [],
   "source": [
    "J = 1 \n",
    "H = J * (sx_list[0]*sx_list[1] + sx_list[1]*sx_list[2] + sx_list[2]*sx_list[0])\n",
    "H += J * (sy_list[0]*sy_list[1] + sy_list[1]*sy_list[2] + sy_list[2]*sy_list[0])\n",
    "H += J * (sz_list[0]*sz_list[1] + sz_list[1]*sz_list[2] + sz_list[2]*sz_list[0])"
   ]
  },
  {
   "cell_type": "code",
   "execution_count": 4,
   "id": "6bd817b3",
   "metadata": {},
   "outputs": [],
   "source": [
    "def safe_expm_and_normalize(K, return_free_energy = False, tol = 1e-5):\n",
    "    n_eig = sum(K.dims[0])\n",
    "    if n_eig <= 16:\n",
    "        e0 = max(K.eigenenergies())\n",
    "    else:\n",
    "        e0 = max(K.eigenenergies(sparse=\"True\", sort = \"high\", eigvals = n_eig))\n",
    "    sigma = (K-e0).expm()\n",
    "    z = np.real(sigma.tr())\n",
    "    sigma = sigma/z\n",
    "    if return_free_energy: \n",
    "        f = -np.log(z) - e0;\n",
    "    else:\n",
    "        pass\n",
    "    return sigma"
   ]
  },
  {
   "cell_type": "code",
   "execution_count": 5,
   "id": "8da4124c",
   "metadata": {},
   "outputs": [],
   "source": [
    "random_no_list = [np.random.rand() for i in range(N)]\n",
    "\n",
    "K = sum(random_no_list[m] * sx_list[m] * sx_list[(m+1) % N] for m in range(N))\n",
    "K += sum(random_no_list[m] * sy_list[m] * sy_list[(m+1) % N] for m in range(N))\n",
    "K += sum(random_no_list[m] * sz_list[m] * sz_list[(m+1) % N] for m in range(N))\n",
    "rho0 = safe_expm_and_normalize(K)"
   ]
  },
  {
   "cell_type": "code",
   "execution_count": 6,
   "id": "081cdd0b",
   "metadata": {},
   "outputs": [],
   "source": [
    "def ev_checks(rho, check_positive_definite = False, tol = 1e-5):\n",
    "    \"\"\"\n",
    "    This module checks if a qutip.Qobj, a matrix, is either positive-definite or positive semi-definite, \n",
    "    i.e. whether or not all of its eigenvalues are strictly positive or non-negative, respectively. \n",
    "    This module takes as input the following parameters:\n",
    "    \n",
    "        *♥*♥* 1. rho: a qutip.Qobj.\n",
    "        *♥*♥* 2. check_positive_definite: an optional boolean parameter \n",
    "                                            If it is toggled on, positive-definiteness \n",
    "                                            will be checked via a Cholesky decomposition.\n",
    "                                          Otherwise, only positive semi-definiteness \n",
    "                                            will be analyzed, by explicitly checking the \n",
    "                                            matrix's eigenvalues. \n",
    "        *♥*♥* 3. tol: an optional boolean parameter, used only when positive semi-definiteness\n",
    "                       is being analyzed, by establishing an upper bound on the smallest eigenvalue. \n",
    "        \n",
    "        ====> Returns: a boolean, its truth value\n",
    "                                  being whether or not \n",
    "                                  rho is a positive-definite\n",
    "                                  matrix. \n",
    "        Warnings: None.\n",
    "    \"\"\"\n",
    "    if isinstance(rho, qutip.Qobj):\n",
    "        pass\n",
    "    else:\n",
    "        rho = qutip.Qobj(rho)\n",
    "    \n",
    "    if check_positive_definite: \n",
    "        try:\n",
    "            rho = rho.full()\n",
    "            np.linalg.cholesky(rho)\n",
    "        except:\n",
    "            return False\n",
    "        return True\n",
    "    else:\n",
    "        ev_list = rho.eigenenergies()\n",
    "        ev_list = sorted(rho.eigenenergies())\n",
    "        min_ev = min(ev_list); ev_list = None\n",
    "        if min_ev < tol:\n",
    "            return False\n",
    "        else:\n",
    "            return True\n",
    "    return True\n",
    "        \n",
    "def is_density_op(rho, verbose=False, critical=False, tol = 1e-3):\n",
    "    \"\"\"\n",
    "    This module checks if the user-input QuTip.Qobj, rho, is a density operator or not. This is done \n",
    "    by checking if it is a hermitian, positive semi-definite, and trace-one, matrix. \n",
    "    This module takes as input the following parameters:\n",
    "    \n",
    "        *♥*♥* 1. rho: a qutip.Qobj,\n",
    "        *♥*♥* 2. verbose: an optional boolean parameter for printing out logs,\n",
    "                          stating which tests rho hasn't passed,\n",
    "        *♥*♥* 3. critical: an optional boolean parameter.\n",
    "        *♥*♥* 4. tol: an optional boolean parameter for establishing a maximum tolerance \n",
    "                        for numerical errors, when computing rho's trace. \n",
    "                        See Warnings further below.\n",
    "       \n",
    "        ====> Returns: a boolean, its truth value\n",
    "                                  being whether or not \n",
    "                                  rho is a density matrix.\n",
    "                                  \n",
    "        Warnings: Due to numerical instabilities, it may be possible for the trace \n",
    "                  to not be exactly one, even though it is supposed to be. \n",
    "                  Therefore, a cut-off is implemented to check this condition.\n",
    "    \"\"\"\n",
    "    if not qutip.isherm(rho):\n",
    "        if verbose:\n",
    "            print(\"rho is not hermitian\")\n",
    "        assert not critical\n",
    "        return False\n",
    "    if abs(1 - rho.tr()) > tol:\n",
    "        if verbose:\n",
    "            print(\"Tr rho != 1, Tr rho = \", rho.tr())\n",
    "        assert not critical\n",
    "        return False\n",
    "    if not ev_checks(rho):\n",
    "        if verbose:\n",
    "            print(\"rho is not positive\")\n",
    "        assert not critical\n",
    "        return False\n",
    "    return True"
   ]
  },
  {
   "cell_type": "code",
   "execution_count": 7,
   "id": "06c25028",
   "metadata": {},
   "outputs": [],
   "source": [
    "def logM(rho, svd = True):\n",
    "    \"\"\"\n",
    "    Evaluates the logarithm of a positive matrix rho.\n",
    "    \"\"\"\n",
    "    assert ev_checks(rho), \"Non positive-defined input matrix\"\n",
    "    if isinstance(rho, qutip.Qobj):\n",
    "        qutip_form = True\n",
    "        dims = rho.dims\n",
    "    else:\n",
    "        qutip_form = False        \n",
    "\n",
    "    if svd:            \n",
    "        if qutip_form:\n",
    "            rho = rho.full()\n",
    "        U, Sigma, Vdag = linalg.svd(rho, full_matrices = False)\n",
    "        matrix_log = U @ np.diag(np.log(Sigma)) @ U.conj().transpose() \n",
    "    else: \n",
    "        if qutip_form:\n",
    "            eigvals, eigvecs = rho.eigenstates()\n",
    "            matrix_log = sum([np.log(vl)*vc*vc.dag() for vl, vc in zip(eigvals, eigvecs)]) \n",
    "        else:\n",
    "            rho = rho.full()\n",
    "            eigvals, eigvecs = linalg.eigh(rho)\n",
    "            return evecs @ np.array([np.log(ev)*np.array(f) for ev, f in zip(evals, evecs.transpose().conj())])\n",
    "    \n",
    "    if qutip_form:\n",
    "        matrix_log = qutip.Qobj(matrix_log, dims)\n",
    "    return matrix_log\n",
    "\n",
    "def sqrtM(rho, svd = True):\n",
    "    \"\"\"\n",
    "    Evaluates the square root of a positive matrix rho.\n",
    "    \"\"\"\n",
    "    assert ev_checks(rho), \"Non positive-defined input matrix\"\n",
    "    if isinstance(rho, qutip.Qobj):\n",
    "        qutip_form = True\n",
    "        dims = rho.dims\n",
    "    else:\n",
    "        qutip_form = False\n",
    "\n",
    "    if svd:\n",
    "        if qutip_form:\n",
    "            rho = rho.full()\n",
    "        U, Sigma, Vdag = linalg.svd(rho, full_matrices = False)\n",
    "        matrix_log = U @ np.diag((Sigma)**.5) @ U.conj().transpose() \n",
    "    else: \n",
    "        if qutip_form:\n",
    "            eigvals, eigvecs = rho.eigenstates()\n",
    "            matrix_log = sum([(vl**.5)*vc*vc.dag() for vl, vc in zip(eigvals, eigvecs)]) \n",
    "        else:\n",
    "            rho = rho.full()\n",
    "            eigvals, eigvecs = linalg.eigh(rho)\n",
    "            return evecs @ np.array([(ev**.5)*np.array(f) for ev, f in zip(evals, evecs.transpose().conj())])\n",
    "    \n",
    "    if qutip_form:\n",
    "        matrix_log = qutip.Qobj(matrix_log, dims)\n",
    "    return matrix_log"
   ]
  },
  {
   "cell_type": "code",
   "execution_count": 8,
   "id": "80be921b",
   "metadata": {},
   "outputs": [],
   "source": [
    "def bures(rho, sigma, svd = True):\n",
    "    \"\"\"\n",
    "    Evaluates the Bures metric between two density states. \n",
    "    \"\"\"\n",
    "    assert is_density_op(rho), \"rho is not a density operator\"\n",
    "    assert is_density_op(sigma), \"sigma is not a density operator\"\n",
    "    \n",
    "    sqrt_sigma = sqrtM(sigma.full(), svd=svd)\n",
    "    \n",
    "    fidelity = sqrtM((sqrt_sigma @ rho.full()  @sqrt_sigma),svd=True).trace().real\n",
    "\n",
    "    assert abs(fidelity.imag)<1.e-10, f\"complex fidelity? fidelity={fidelity}\"\n",
    "    fidelity = fidelity.real\n",
    "    assert 0 <= fidelity, f\"negative fidelity? fidelity={fidelity}\"\n",
    "    if fidelity>1.05:\n",
    "        assert (fidelity-1)<1.e-8, f\"error in fidelity too large fidelity={fidelity}\"\n",
    "        return 0.\n",
    "    return  np.arccos(fidelity)/np.pi\n",
    "\n",
    "def rel_entropy(rho, sigma, svd = True):\n",
    "    if svd:\n",
    "        val = (rho*(logM(rho, True) - logM(sigma, True))).tr()\n",
    "    else:\n",
    "        assert ((ev_checks(rho) and ev_checks(sigma))), \"Either rho or sigma have negative ev.\"\n",
    "        val = (rho*(logM(rho, False)-logM(sigma, False))).tr()\n",
    "        if (abs(val.imag - 0)>1.e-10):\n",
    "            val = None\n",
    "            raise Exception(\"Either rho or sigma have negative ev.\")\n",
    "    return val.real"
   ]
  },
  {
   "cell_type": "code",
   "execution_count": 9,
   "id": "16aa519d",
   "metadata": {},
   "outputs": [],
   "source": [
    "def mean_field_iteration(rho0, guesstimates, basis, steps):\n",
    "    trial_K = sum(phi * op for phi,op in zip(guesstimates, basis))\n",
    "    sigma0 = safe_expm_and_normalize(trial_K)\n",
    "    mft_states = [sigma0]\n",
    "    for i in range(1, steps):\n",
    "        sigma_mft = mft_states[i-1]\n",
    "        coeff_list_j = [qutip.expect(sigma_mft, op) for op in basis]\n",
    "        K_j = sum(zeta_j_i * op_i for zeta_j_i, op_i in zip(coeff_list_j, basis))\n",
    "        sigma_j = safe_expm_and_normalize(K_j)\n",
    "        mft_states.append(sigma_j)\n",
    "        coeff_list_j = K_j = sigma_j = None\n",
    "        \n",
    "    return mft_states"
   ]
  },
  {
   "cell_type": "code",
   "execution_count": 10,
   "id": "f6d7f7f0",
   "metadata": {},
   "outputs": [],
   "source": [
    "basis = sx_list \n",
    "guesstimate = [1] + [0 for i in range(len(basis) - 1)]\n",
    "trial_K = sum(zeta * op for zeta, op in zip(random_no_list, basis))\n",
    "\n",
    "iteration = [i for i in range(1, 11)]\n",
    "mftstates = mean_field_iteration(rho0 = rho0, guesstimates = guesstimate,\n",
    "                                 basis = basis, steps = 10)\n",
    "\n",
    "frobenius_norm = [linalg.norm(rho0 - sigma0i) for sigma0i in mftstates]\n",
    "relentr = [rel_entropy(rho0, sigma0i, svd = True) for sigma0i in mftstates]\n",
    "bures_dist = [bures(rho0, sigma0i, svd = True) for sigma0i in mftstates]"
   ]
  },
  {
   "cell_type": "code",
   "execution_count": 11,
   "id": "71faa0c3",
   "metadata": {},
   "outputs": [
    {
     "data": {
      "image/png": "[encoded data removed]",
      "text/plain": [
       "<Figure size 720x432 with 1 Axes>"
      ]
     },
     "metadata": {
      "needs_background": "light"
     },
     "output_type": "display_data"
    }
   ],
   "source": [
    "fig0, ax0 = plt.subplots(figsize=(10,6))\n",
    "plt.title(\"Metrics - Iterative MFT States\")\n",
    "\n",
    "plt.scatter(iteration, frobenius_norm, label = \"Frobenius Norm\")\n",
    "plt.scatter(iteration, relentr, label = \"Relative Entropy\")\n",
    "plt.scatter(iteration, bures_dist, label = \"Bures Metric\")\n",
    "\n",
    "ax0.legend(loc=0)\n",
    "plt.xlabel(\"Iteration\")\n",
    "plt.show()"
   ]
  },
  {
   "cell_type": "markdown",
   "id": "bdc27cd7",
   "metadata": {},
   "source": [
    "# Dependence with dimension"
   ]
  },
  {
   "cell_type": "code",
   "execution_count": 183,
   "id": "6f9c87b0",
   "metadata": {},
   "outputs": [],
   "source": [
    "number_of_spins = [i for i in range(3, 8)]\n",
    "number_of_spins_index = [number_of_spins.index(N) for N in number_of_spins]"
   ]
  },
  {
   "cell_type": "code",
   "execution_count": 184,
   "id": "2514d742",
   "metadata": {},
   "outputs": [],
   "source": [
    "list_of_spin_ops = [su2.one_body_spin_ops(N) for N in number_of_spins]\n",
    "list_of_identity_ops = [list_of_spin_ops[k][0] for k in range(len(number_of_spins))]\n",
    "\n",
    "list_of_sx_lists = [list_of_spin_ops[k][1] for k in range(len(number_of_spins))]\n",
    "list_of_sy_lists = [list_of_spin_ops[k][2] for k in range(len(number_of_spins))]\n",
    "list_of_sz_lists = [list_of_spin_ops[k][3] for k in range(len(number_of_spins))]"
   ]
  },
  {
   "cell_type": "code",
   "execution_count": 185,
   "id": "391b79af",
   "metadata": {},
   "outputs": [],
   "source": [
    "random_no_list = [[np.random.rand() for i in range(N)] for N in number_of_spins]"
   ]
  },
  {
   "cell_type": "code",
   "execution_count": 186,
   "id": "9e2dde83",
   "metadata": {},
   "outputs": [
    {
     "data": {
      "text/latex": [
       "Quantum object: dims = [[2, 2, 2], [2, 2, 2]], shape = (8, 8), type = oper, isherm = True\\begin{equation*}\\left(\\begin{array}{*{11}c}0.0 & 0.416 & 0.016 & 0.0 & 0.236 & 0.0 & 0.0 & 0.0\\\\0.416 & 0.0 & 0.0 & 0.016 & 0.0 & 0.236 & 0.0 & 0.0\\\\0.016 & 0.0 & 0.0 & 0.416 & 0.0 & 0.0 & 0.236 & 0.0\\\\0.0 & 0.016 & 0.416 & 0.0 & 0.0 & 0.0 & 0.0 & 0.236\\\\0.236 & 0.0 & 0.0 & 0.0 & 0.0 & 0.416 & 0.016 & 0.0\\\\0.0 & 0.236 & 0.0 & 0.0 & 0.416 & 0.0 & 0.0 & 0.016\\\\0.0 & 0.0 & 0.236 & 0.0 & 0.016 & 0.0 & 0.0 & 0.416\\\\0.0 & 0.0 & 0.0 & 0.236 & 0.0 & 0.016 & 0.416 & 0.0\\\\\\end{array}\\right)\\end{equation*}"
      ],
      "text/plain": [
       "Quantum object: dims = [[2, 2, 2], [2, 2, 2]], shape = (8, 8), type = oper, isherm = True\n",
       "Qobj data =\n",
       "[[0.         0.41573732 0.01551187 0.         0.23625196 0.\n",
       "  0.         0.        ]\n",
       " [0.41573732 0.         0.         0.01551187 0.         0.23625196\n",
       "  0.         0.        ]\n",
       " [0.01551187 0.         0.         0.41573732 0.         0.\n",
       "  0.23625196 0.        ]\n",
       " [0.         0.01551187 0.41573732 0.         0.         0.\n",
       "  0.         0.23625196]\n",
       " [0.23625196 0.         0.         0.         0.         0.41573732\n",
       "  0.01551187 0.        ]\n",
       " [0.         0.23625196 0.         0.         0.41573732 0.\n",
       "  0.         0.01551187]\n",
       " [0.         0.         0.23625196 0.         0.01551187 0.\n",
       "  0.         0.41573732]\n",
       " [0.         0.         0.         0.23625196 0.         0.01551187\n",
       "  0.41573732 0.        ]]"
      ]
     },
     "execution_count": 186,
     "metadata": {},
     "output_type": "execute_result"
    }
   ],
   "source": [
    "sum(random_no_list[0][i] * list_of_sx_lists[0][i] for i in range(3))"
   ]
  },
  {
   "cell_type": "code",
   "execution_count": 187,
   "id": "6b43d411",
   "metadata": {},
   "outputs": [],
   "source": [
    "list_of_Kamiltonians = []\n",
    "\n",
    "for N in number_of_spins:\n",
    "    n = number_of_spins.index(N)\n",
    "    K_N = J * sum(random_no_list[n][m] * list_of_sx_lists[n][m] * list_of_sx_lists[n][(m+1) % N]\n",
    "                             + random_no_list[n][m] * list_of_sy_lists[n][m] * list_of_sy_lists[n][(m+1) % N]\n",
    "                             + random_no_list[n][m] * list_of_sz_lists[n][m] * list_of_sz_lists[n][(m+1) % N]\n",
    "                 for m in range(len(random_no_list[n])))\n",
    "    list_of_Kamiltonians.append(K_N)\n",
    "\n",
    "list_of_rho0s = [safe_expm_and_normalize(K_N) for K_N in list_of_Kamiltonians]"
   ]
  },
  {
   "cell_type": "code",
   "execution_count": 213,
   "id": "3d455a66",
   "metadata": {},
   "outputs": [],
   "source": [
    "mft_basis = list_of_sx_lists\n",
    "\n",
    "list_of_guesstimates = []\n",
    "for N in number_of_spins:\n",
    "    n = number_of_spins.index(N)\n",
    "    local_list = [-.5] + [0 for i in range(len(list_of_sx_lists[n]) - 1)]\n",
    "    list_of_guesstimates.append(local_list)\n",
    "\n",
    "list_of_trial_Ks = []\n",
    "for N in number_of_spins:\n",
    "    n = number_of_spins.index(N)\n",
    "    trial_K = sum(zeta * op for zeta, op in zip(random_no_list[n], mft_basis[n]))\n",
    "    list_of_trial_Ks.append(trial_K)\n",
    "    \n",
    "\n",
    "iteration = [i for i in range(1, 11)]\n",
    "list_of_list_mftstates = [mean_field_iteration(rho0 = list_of_rho0s[n], \n",
    "                                               guesstimates = list_of_guesstimates[n],\n",
    "                                                 basis = mft_basis[n], steps = 10)\n",
    "                         for n in number_of_spins_index]"
   ]
  },
  {
   "cell_type": "code",
   "execution_count": 214,
   "id": "927f7ced",
   "metadata": {
    "scrolled": true
   },
   "outputs": [],
   "source": [
    "frobenius_norm = [[linalg.norm(list_of_rho0s[n] - sigma0i) for sigma0i in list_of_list_mftstates[n]] \n",
    "                          for n in number_of_spins_index]\n",
    "\n",
    "relentr = [[rel_entropy(list_of_rho0s[n], sigma0i, svd = True) for sigma0i in list_of_list_mftstates[n]] \n",
    "                   for n in number_of_spins_index]\n",
    "\n",
    "bures_dist = [[bures(list_of_rho0s[n], sigma0i, svd = True) for sigma0i in list_of_list_mftstates[n]] \n",
    "                   for n in number_of_spins_index[:4]]\n"
   ]
  },
  {
   "cell_type": "code",
   "execution_count": 215,
   "id": "d3e6bfdd",
   "metadata": {},
   "outputs": [
    {
     "data": {
      "text/plain": [
       "[3, 4, 5, 6]"
      ]
     },
     "execution_count": 215,
     "metadata": {},
     "output_type": "execute_result"
    }
   ],
   "source": [
    "[number_of_spins[n] for n in number_of_spins_index[:4]]"
   ]
  },
  {
   "cell_type": "code",
   "execution_count": 216,
   "id": "5c6d5d87",
   "metadata": {},
   "outputs": [
    {
     "data": {
      "image/png": "[encoded data removed]",
      "text/plain": [
       "<Figure size 720x432 with 1 Axes>"
      ]
     },
     "metadata": {
      "needs_background": "light"
     },
     "output_type": "display_data"
    },
    {
     "data": {
      "image/png": "[encoded data removed]",
      "text/plain": [
       "<Figure size 720x432 with 1 Axes>"
      ]
     },
     "metadata": {
      "needs_background": "light"
     },
     "output_type": "display_data"
    }
   ],
   "source": [
    "fig0, ax0 = plt.subplots(figsize=(10,6))\n",
    "plt.title(\"Metrics - Frobenius Norm - Iterative MFT States for different dimensions\")\n",
    "\n",
    "for n in number_of_spins_index:\n",
    "    plt.scatter(iteration, frobenius_norm[n], label = r'Frobenius Norm $N = %d$'%number_of_spins[n])\n",
    "\n",
    "ax0.legend(loc=0)\n",
    "plt.xlabel(\"Iteration\")\n",
    "plt.show()\n",
    "\n",
    "fig1, ax1 = plt.subplots(figsize=(10,6))\n",
    "plt.title(\"Metrics - Bures Metric - Iterative MFT States for different dimensions\")\n",
    "\n",
    "for n in number_of_spins_index[:4]:\n",
    "    plt.scatter(iteration, bures_dist[n], label = r'Bures Metric $N = %d$'%number_of_spins[n])\n",
    "\n",
    "ax1.legend(loc=0)\n",
    "plt.xlabel(\"Iteration\")\n",
    "plt.show()"
   ]
  },
  {
   "cell_type": "code",
   "execution_count": 217,
   "id": "fc44dbe5",
   "metadata": {
    "scrolled": false
   },
   "outputs": [
    {
     "data": {
      "image/png": "[encoded data removed]",
      "text/plain": [
       "<Figure size 720x432 with 1 Axes>"
      ]
     },
     "metadata": {
      "needs_background": "light"
     },
     "output_type": "display_data"
    }
   ],
   "source": [
    "fig0, ax0 = plt.subplots(figsize=(10,6))\n",
    "plt.title(\"Metrics - Relative Entropy - Iterative MFT States for different dimensions\")\n",
    "\n",
    "for n in number_of_spins_index:\n",
    "    plt.scatter(iteration, relentr[n], label = r'Relative Entropies $N = %d$'%number_of_spins[n])\n",
    "\n",
    "ax0.legend(loc=0)\n",
    "plt.xlabel(\"Iteration\")\n",
    "plt.show()"
   ]
  },
  {
   "cell_type": "code",
   "execution_count": null,
   "id": "df77c1b9",
   "metadata": {},
   "outputs": [],
   "source": []
  },
  {
   "cell_type": "code",
   "execution_count": null,
   "id": "d32c42a9",
   "metadata": {},
   "outputs": [],
   "source": [
    "1. Que pasa si uso un mal estado?\n",
    "2. Que pasa si uso coeficientes no aleatorios? Lejos y cercanos\n",
    "3. Como se ve en la metrica KMB y la rel entr\n",
    "4. Donde entra en juego las bases jerárquicas?\n",
    "5. Que pasa si uso otros estados??"
   ]
  }
 ],
 "metadata": {
  "kernelspec": {
   "display_name": "Python 3 (ipykernel)",
   "language": "python",
   "name": "python3"
  },
  "language_info": {
   "codemirror_mode": {
    "name": "ipython",
    "version": 3
   },
   "file_extension": ".py",
   "mimetype": "text/x-python",
   "name": "python",
   "nbconvert_exporter": "python",
   "pygments_lexer": "ipython3",
   "version": "3.9.12"
  }
 },
 "nbformat": 4,
 "nbformat_minor": 5
}
