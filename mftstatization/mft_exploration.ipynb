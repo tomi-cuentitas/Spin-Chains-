{
 "cells": [
  {
   "cell_type": "code",
   "execution_count": 1,
   "id": "46f13c65",
   "metadata": {},
   "outputs": [],
   "source": [
    "import qutip\n",
    "import numpy as np\n",
    "import matplotlib.pyplot as plt\n",
    "import scipy.linalg as linalg\n",
    "import a_matrix_analysis_lib as matansys\n",
    "import b_spin_representations as su2"
   ]
  },
  {
   "cell_type": "code",
   "execution_count": 2,
   "id": "a5a13129",
   "metadata": {},
   "outputs": [],
   "source": [
    "N = 3\n",
    "spin_ops = su2.one_body_spin_ops(N)\n",
    "identity_op = spin_ops[0]\n",
    "sx_list = spin_ops[1]; sy_list = spin_ops[2]; sz_list = spin_ops[3]"
   ]
  },
  {
   "cell_type": "code",
   "execution_count": 3,
   "id": "f9f73084",
   "metadata": {},
   "outputs": [],
   "source": [
    "J = 1 \n",
    "H = J * (sx_list[0]*sx_list[1] + sx_list[1]*sx_list[2] + sx_list[2]*sx_list[0])\n",
    "H += J * (sy_list[0]*sy_list[1] + sy_list[1]*sy_list[2] + sy_list[2]*sy_list[0])\n",
    "H += J * (sz_list[0]*sz_list[1] + sz_list[1]*sz_list[2] + sz_list[2]*sz_list[0])"
   ]
  },
  {
   "cell_type": "code",
   "execution_count": 4,
   "id": "6bd817b3",
   "metadata": {},
   "outputs": [],
   "source": [
    "def safe_expm_and_normalize(K, return_free_energy = True, tol = 1e-5):\n",
    "    n_eig = sum(K.dims[0])\n",
    "    if n_eig <= 16:\n",
    "        e0 = max(K.eigenenergies())\n",
    "    else:\n",
    "        e0 = max(K.eigenenergies(sparse=\"True\", sort = \"high\", eigvals = n_eig))\n",
    "    sigma = (K-e0).expm()\n",
    "    z = np.real(sigma.tr())\n",
    "    sigma = sigma/z\n",
    "    if return_free_energy: \n",
    "        f = -np.log(z) - e0;\n",
    "    else:\n",
    "        pass\n",
    "    return sigma"
   ]
  },
  {
   "cell_type": "code",
   "execution_count": 5,
   "id": "8da4124c",
   "metadata": {},
   "outputs": [],
   "source": [
    "random_no_list = [np.random.rand() for i in range(N)]\n",
    "\n",
    "K = sum(random_no_list[m] * sx_list[m] * sx_list[(m+1) % N] for m in range(N))\n",
    "K += sum(random_no_list[m] * sy_list[m] * sy_list[(m+1) % N] for m in range(N))\n",
    "K += sum(random_no_list[m] * sz_list[m] * sz_list[(m+1) % N] for m in range(N))\n",
    "rho0 = safe_expm_and_normalize(K, False)"
   ]
  },
  {
   "cell_type": "code",
   "execution_count": 14,
   "id": "758908bd",
   "metadata": {},
   "outputs": [
    {
     "name": "stdout",
     "output_type": "stream",
     "text": [
      "0.1908517141103419\n",
      "0.2763714463310511\n"
     ]
    }
   ],
   "source": [
    "basis = sx_list \n",
    "trial_K = sum(zeta * op for zeta, op in zip(random_no_list, basis))\n",
    "sigma0 = safe_expm_and_normalize(trial_K, False)\n",
    "\n",
    "coeff_list1 = [qutip.expect(sigma0, op) for op in basis]\n",
    "K1 = sum(zeta1 * op for zeta1, op in zip(coeff_list1, basis))\n",
    "sigma1 = safe_expm_and_normalize(K1, False)\n",
    "\n",
    "print(linalg.norm(rho0 - sigma1))\n",
    "print(linalg.norm(rho0 - sigma0))"
   ]
  },
  {
   "cell_type": "code",
   "execution_count": 19,
   "id": "d64a870a",
   "metadata": {},
   "outputs": [],
   "source": [
    "basis_of_basis = [sx_list, sy_list, sz_list]\n",
    "trial_Ks = [sum(zeta * op for zeta, op in zip(random_no_list, basis)) for basis in basis_of_basis]\n",
    "sigma0s = [safe_expm_and_normalize(K0, False) for K0 in trial_Ks]\n",
    "\n",
    "mft_coefficients = []\n",
    "for sigma0_i, basis_i in zip(sigma0s, basis_of_basis):\n",
    "    local_list = [qutip.expect(sigma0_i, op) for op in basis_i]\n",
    "    mft_coefficients.append(local_list)\n",
    "    local_list = None\n",
    "\n",
    "first_iteration_Ks = []\n",
    "for mft_coefficients_i, basis_i in zip(mft_coefficients, basis_of_basis):\n",
    "    local_K = sum(zeta_j * op_j for zeta_j, op_j in zip(mft_coefficients_i, basis_i))\n",
    "    first_iteration_Ks.append(local_K)\n",
    "    local_K = 0\n",
    "    \n",
    "first_iterations_mft_states = [safe_expm_and_normalize(K1, False) for K1 in first_iteration_Ks] \n",
    "initial_distances = [linalg.norm(rho0 - sigma0) for sigma0 in sigma0s]\n",
    "first_iteration_distances = [linalg.norm(rho0 - sigma1) for sigma1 in first_iterations_mft_states]"
   ]
  },
  {
   "cell_type": "code",
   "execution_count": 20,
   "id": "8f33afdf",
   "metadata": {},
   "outputs": [
    {
     "data": {
      "text/plain": [
       "[0.2507800319535709, 0.25078003195357096, 0.2507800319535709]"
      ]
     },
     "execution_count": 20,
     "metadata": {},
     "output_type": "execute_result"
    }
   ],
   "source": [
    "initial_distances"
   ]
  },
  {
   "cell_type": "code",
   "execution_count": 21,
   "id": "a9c24468",
   "metadata": {},
   "outputs": [
    {
     "data": {
      "text/plain": [
       "[0.16023946168978892, 0.16023946168978892, 0.16023946168978892]"
      ]
     },
     "execution_count": 21,
     "metadata": {},
     "output_type": "execute_result"
    }
   ],
   "source": [
    "first_iteration_distances"
   ]
  },
  {
   "cell_type": "code",
   "execution_count": null,
   "id": "073c1401",
   "metadata": {},
   "outputs": [],
   "source": [
    "### ERROR ACA"
   ]
  },
  {
   "cell_type": "code",
   "execution_count": 42,
   "id": "3ee55525",
   "metadata": {
    "scrolled": false
   },
   "outputs": [
    {
     "data": {
      "text/latex": [
       "Quantum object: dims = [[2, 2, 2], [2, 2, 2]], shape = (8, 8), type = oper, isherm = True\\begin{equation*}\\left(\\begin{array}{*{11}c}0.0 & -0.401j & -0.294j & 0.0 & -0.471j & 0.0 & 0.0 & 0.0\\\\0.401j & 0.0 & 0.0 & -0.294j & 0.0 & -0.471j & 0.0 & 0.0\\\\0.294j & 0.0 & 0.0 & -0.401j & 0.0 & 0.0 & -0.471j & 0.0\\\\0.0 & 0.294j & 0.401j & 0.0 & 0.0 & 0.0 & 0.0 & -0.471j\\\\0.471j & 0.0 & 0.0 & 0.0 & 0.0 & -0.401j & -0.294j & 0.0\\\\0.0 & 0.471j & 0.0 & 0.0 & 0.401j & 0.0 & 0.0 & -0.294j\\\\0.0 & 0.0 & 0.471j & 0.0 & 0.294j & 0.0 & 0.0 & -0.401j\\\\0.0 & 0.0 & 0.0 & 0.471j & 0.0 & 0.294j & 0.401j & 0.0\\\\\\end{array}\\right)\\end{equation*}"
      ],
      "text/plain": [
       "Quantum object: dims = [[2, 2, 2], [2, 2, 2]], shape = (8, 8), type = oper, isherm = True\n",
       "Qobj data =\n",
       "[[0.+0.j         0.-0.4013647j  0.-0.2940203j  0.+0.j\n",
       "  0.-0.47113643j 0.+0.j         0.+0.j         0.+0.j        ]\n",
       " [0.+0.4013647j  0.+0.j         0.+0.j         0.-0.2940203j\n",
       "  0.+0.j         0.-0.47113643j 0.+0.j         0.+0.j        ]\n",
       " [0.+0.2940203j  0.+0.j         0.+0.j         0.-0.4013647j\n",
       "  0.+0.j         0.+0.j         0.-0.47113643j 0.+0.j        ]\n",
       " [0.+0.j         0.+0.2940203j  0.+0.4013647j  0.+0.j\n",
       "  0.+0.j         0.+0.j         0.+0.j         0.-0.47113643j]\n",
       " [0.+0.47113643j 0.+0.j         0.+0.j         0.+0.j\n",
       "  0.+0.j         0.-0.4013647j  0.-0.2940203j  0.+0.j        ]\n",
       " [0.+0.j         0.+0.47113643j 0.+0.j         0.+0.j\n",
       "  0.+0.4013647j  0.+0.j         0.+0.j         0.-0.2940203j ]\n",
       " [0.+0.j         0.+0.j         0.+0.47113643j 0.+0.j\n",
       "  0.+0.2940203j  0.+0.j         0.+0.j         0.-0.4013647j ]\n",
       " [0.+0.j         0.+0.j         0.+0.j         0.+0.47113643j\n",
       "  0.+0.j         0.+0.2940203j  0.+0.4013647j  0.+0.j        ]]"
      ]
     },
     "execution_count": 42,
     "metadata": {},
     "output_type": "execute_result"
    }
   ],
   "source": [
    "trial_Ks[1]"
   ]
  },
  {
   "cell_type": "code",
   "execution_count": 38,
   "id": "7b589887",
   "metadata": {},
   "outputs": [
    {
     "data": {
      "text/plain": [
       "2.7408351979994605"
      ]
     },
     "execution_count": 38,
     "metadata": {},
     "output_type": "execute_result"
    }
   ],
   "source": [
    "linalg.norm(trial_Ks[0] - trial_Ks[1])"
   ]
  },
  {
   "cell_type": "code",
   "execution_count": 29,
   "id": "f15a623c",
   "metadata": {
    "scrolled": true
   },
   "outputs": [
    {
     "data": {
      "text/plain": [
       "[0.2763714463310511, 0.2763714463310512, 0.2763714463310512]"
      ]
     },
     "execution_count": 29,
     "metadata": {},
     "output_type": "execute_result"
    }
   ],
   "source": [
    "initial_distances"
   ]
  },
  {
   "cell_type": "code",
   "execution_count": 30,
   "id": "f72bfd5e",
   "metadata": {},
   "outputs": [
    {
     "data": {
      "text/plain": [
       "[0.18501328855051866, 0.18501328855051866, 0.1908517141103419]"
      ]
     },
     "execution_count": 30,
     "metadata": {},
     "output_type": "execute_result"
    }
   ],
   "source": [
    "first_iteration_distances"
   ]
  },
  {
   "cell_type": "code",
   "execution_count": 7,
   "id": "645ae5ba",
   "metadata": {},
   "outputs": [],
   "source": [
    "def mean_field_state(rho0, basis, init_guesstimates, steps):\n",
    "    \n",
    "    trial_K = sum(zeta * op for zeta, op in zip(random_no_list, basis))\n",
    "    sigma0 = safe_expm_and_normalize(trial_K, False)\n",
    "    mft_states = [sigma0]\n",
    "    for i in range(1, steps):\n",
    "        sigma_mft = mft_states[i-1]\n",
    "        coeff_list_j = [qutip.expect(sigma_mft, op) for op in basis]\n",
    "        K_j = sum(zeta_j * op for zeta_j, op in zip(coeff_list_j, basis))\n",
    "        sigma_j = safe_expm_and_normalize(K_j, False)\n",
    "        mft_states.append(sigma_j)\n",
    "    \n",
    "    return mft_states"
   ]
  },
  {
   "cell_type": "code",
   "execution_count": 8,
   "id": "99efa352",
   "metadata": {},
   "outputs": [],
   "source": [
    "mft_states = mean_field_state(rho0, basis, random_no_list, 10)\n",
    "distances = [linalg.norm(rho0 - mftstate) for mftstate in mft_states]"
   ]
  },
  {
   "cell_type": "code",
   "execution_count": 9,
   "id": "55de137e",
   "metadata": {},
   "outputs": [
    {
     "data": {
      "text/plain": [
       "<matplotlib.collections.PathCollection at 0x25dc823d5e0>"
      ]
     },
     "execution_count": 9,
     "metadata": {},
     "output_type": "execute_result"
    },
    {
     "data": {
      "image/png": "[encoded data removed]",
      "text/plain": [
       "<Figure size 432x288 with 1 Axes>"
      ]
     },
     "metadata": {
      "needs_background": "light"
     },
     "output_type": "display_data"
    }
   ],
   "source": [
    "plt.scatter([i for i in range(10)], distances)"
   ]
  },
  {
   "cell_type": "code",
   "execution_count": null,
   "id": "d32c42a9",
   "metadata": {},
   "outputs": [],
   "source": [
    "1. Que pasa si uso un mal estado?\n",
    "2. Que pasa si uso coeficientes no aleatorios? Lejos y cercanos\n",
    "3. Como se ve en la metrica KMB y la rel entr\n",
    "4. Donde entra en juego las bases jerárquicas?\n",
    "5. Que pasa si uso otros estados??"
   ]
  }
 ],
 "metadata": {
  "kernelspec": {
   "display_name": "Python 3 (ipykernel)",
   "language": "python",
   "name": "python3"
  },
  "language_info": {
   "codemirror_mode": {
    "name": "ipython",
    "version": 3
   },
   "file_extension": ".py",
   "mimetype": "text/x-python",
   "name": "python",
   "nbconvert_exporter": "python",
   "pygments_lexer": "ipython3",
   "version": "3.9.12"
  }
 },
 "nbformat": 4,
 "nbformat_minor": 5
}
