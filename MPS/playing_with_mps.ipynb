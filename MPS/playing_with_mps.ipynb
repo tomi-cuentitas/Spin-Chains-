{
 "cells": [
  {
   "cell_type": "code",
   "execution_count": 1,
   "id": "35bd31d8-aba0-4927-a1a1-bb477123a300",
   "metadata": {},
   "outputs": [],
   "source": [
    "import numpy as np \n",
    "import numpy.linalg as la \n",
    "import qutip\n",
    "\n",
    "import matplotlib.pyplot as plt"
   ]
  },
  {
   "cell_type": "code",
   "execution_count": 164,
   "id": "d592f6c6-93c5-41c8-b990-c5900d116a57",
   "metadata": {},
   "outputs": [],
   "source": [
    "d=2; L=6; max_bond=4 #maximum bond dimension allowed\n",
    "random_state=np.random.rand(d**L, 1)\n",
    "GHZ_state=np.array([1.]+[0. for i in range(0,d**L - 2)] + [1.])\n",
    "matrix_Psi=np.reshape(random_state, (d, d**(L-1)))"
   ]
  },
  {
   "cell_type": "code",
   "execution_count": 165,
   "id": "0e7f4723-f460-4c3a-b3c9-9dfd85b48e93",
   "metadata": {},
   "outputs": [],
   "source": [
    "def true_Singular(original_S, dims):\n",
    "    true_S=np.zeros(dims)\n",
    "    true_S[:original_S.size, :original_S.size]=np.diag(original_S)\n",
    "    return true_S"
   ]
  },
  {
   "cell_type": "code",
   "execution_count": 166,
   "id": "c4104ac3-2865-40a0-ad1a-7a05726f5b10",
   "metadata": {},
   "outputs": [
    {
     "data": {
      "text/plain": [
       "(2, 32)"
      ]
     },
     "execution_count": 166,
     "metadata": {},
     "output_type": "execute_result"
    }
   ],
   "source": [
    "matrix_Psi.shape"
   ]
  },
  {
   "cell_type": "code",
   "execution_count": 167,
   "id": "c3c2d19a-fb63-4492-a15e-0fa54f748c0c",
   "metadata": {},
   "outputs": [
    {
     "name": "stdout",
     "output_type": "stream",
     "text": [
      "(2, 2) (4, 16)\n"
     ]
    }
   ],
   "source": [
    "first_MPS_matrix, first_S, first_Vh=la.svd(matrix_Psi)\n",
    "first_S=true_Singular(first_S, dims=(first_MPS_matrix.shape[1], first_Vh.shape[0]))\n",
    "first_Vh=np.reshape(first_true_s@first_Vh, (len(first_S)*d, d**(L-2)))\n",
    "print(first_MPS_matrix.shape, first_Vh.shape)"
   ]
  },
  {
   "cell_type": "code",
   "execution_count": 168,
   "id": "6a2c22a5-7ecf-4ba7-834b-ad5f9a9e6061",
   "metadata": {},
   "outputs": [
    {
     "name": "stdout",
     "output_type": "stream",
     "text": [
      "(2, 8) (8, 8)\n"
     ]
    }
   ],
   "source": [
    "second_MPS_matrix, second_S, second_Vh=la.svd(first_Vh)\n",
    "second_S=true_Singular(second_S, dims=(second_MPS_matrix.shape[1], second_Vh.shape[0]))\n",
    "second_Vh=np.reshape(second_S@second_Vh, (len(second_S)*d, d**(L-3)))\n",
    "second_MPS_matrix=np.reshape(second_MPS_matrix, (d, len(first_S)*len(second_S)))\n",
    "print(second_MPS_matrix.shape, second_Vh.shape)"
   ]
  },
  {
   "cell_type": "code",
   "execution_count": 170,
   "id": "12e75aba-0962-4fe7-a91e-8021ff0e77c6",
   "metadata": {},
   "outputs": [
    {
     "name": "stdout",
     "output_type": "stream",
     "text": [
      "(8, 8) (16, 4)\n"
     ]
    }
   ],
   "source": [
    "third_MPS_matrix, third_S, third_Vh=la.svd(second_Vh)\n",
    "third_S=true_Singular(third_S, dims=(third_MPS_matrix.shape[1], third_Vh.shape[0]))\n",
    "third_Vh=np.reshape(third_S@third_Vh, (len(third_S)*d, d**(L-4)))\n",
    "third_MPS_matrix=np.reshape(third_MPS_matrix, (len(first_S)*len(second_S), len(first_S)*len(second_S)))\n",
    "print(third_MPS_matrix.shape, third_Vh.shape)"
   ]
  },
  {
   "cell_type": "code",
   "execution_count": 177,
   "id": "95286d65-3872-4610-8d73-395bbda23edb",
   "metadata": {},
   "outputs": [
    {
     "name": "stdout",
     "output_type": "stream",
     "text": [
      "(8, 2) (32, 2)\n"
     ]
    }
   ],
   "source": [
    "fourth_MPS_matrix, fourth_S, fourth_Vh=la.svd(third_Vh)\n",
    "fourth_S=true_Singular(fourth_S, dims=(fourth_MPS_matrix.shape[1], fourth_Vh.shape[0]))\n",
    "fourth_Vh=np.reshape(fourth_S@fourth_Vh, (len(fourth_S)*d, d**(L-5)))\n",
    "fourth_MPS_matrix=fourth_MPS_matrix[np.ix_([i for i in range(0, d**(L-3))],[0,1])]\n",
    "print(fourth_MPS_matrix.shape, fourth_Vh.shape)"
   ]
  },
  {
   "cell_type": "code",
   "execution_count": 172,
   "id": "82ca261d-2e76-4917-bec8-3493619244c7",
   "metadata": {},
   "outputs": [
    {
     "name": "stdout",
     "output_type": "stream",
     "text": [
      "(2, 2) (32, 2)\n"
     ]
    }
   ],
   "source": [
    "fifth_MPS_matrix, fifth_S, fifth_Vh=la.svd(fourth_Vh)\n",
    "fifth_S=true_Singular(fifth_S, dims=(fifth_MPS_matrix.shape[1], fifth_Vh.shape[0]))\n",
    "fifth_MPS_matrix=fourth_MPS_matrix[np.ix_([0,1],[0,1])]\n",
    "fifth_Vh=fifth_S@fifth_Vh\n",
    "print(fifth_MPS_matrix.shape, fifth_Vh.shape)"
   ]
  },
  {
   "cell_type": "code",
   "execution_count": 173,
   "id": "91405fd6-55fc-4365-aa23-8a8c0b25af22",
   "metadata": {},
   "outputs": [
    {
     "data": {
      "text/plain": [
       "array([[3.90702621, 0.        , 0.        , 0.        , 0.        ,\n",
       "        0.        , 0.        , 0.        ],\n",
       "       [0.        , 1.61452774, 0.        , 0.        , 0.        ,\n",
       "        0.        , 0.        , 0.        ],\n",
       "       [0.        , 0.        , 1.01800462, 0.        , 0.        ,\n",
       "        0.        , 0.        , 0.        ],\n",
       "       [0.        , 0.        , 0.        , 0.75112201, 0.        ,\n",
       "        0.        , 0.        , 0.        ],\n",
       "       [0.        , 0.        , 0.        , 0.        , 0.62638827,\n",
       "        0.        , 0.        , 0.        ],\n",
       "       [0.        , 0.        , 0.        , 0.        , 0.        ,\n",
       "        0.46718354, 0.        , 0.        ],\n",
       "       [0.        , 0.        , 0.        , 0.        , 0.        ,\n",
       "        0.        , 0.31328726, 0.        ],\n",
       "       [0.        , 0.        , 0.        , 0.        , 0.        ,\n",
       "        0.        , 0.        , 0.11409064]])"
      ]
     },
     "execution_count": 173,
     "metadata": {},
     "output_type": "execute_result"
    }
   ],
   "source": [
    "third_S"
   ]
  },
  {
   "cell_type": "code",
   "execution_count": 175,
   "id": "ff768bf2-0552-4da5-9d38-373db1b9a741",
   "metadata": {},
   "outputs": [
    {
     "data": {
      "text/plain": [
       "-0.6284219561921265"
      ]
     },
     "execution_count": 175,
     "metadata": {},
     "output_type": "execute_result"
    }
   ],
   "source": [
    "(first_MPS_matrix@second_MPS_matrix@third_MPS_matrix@fourth_MPS_matrix@fifth_MPS_matrix).trace()"
   ]
  },
  {
   "cell_type": "code",
   "execution_count": null,
   "id": "041d3e13-f58d-4e2d-be22-f39adc53cb55",
   "metadata": {},
   "outputs": [],
   "source": []
  },
  {
   "cell_type": "code",
   "execution_count": null,
   "id": "11b37772-08e2-40ef-98a8-93d41e36517f",
   "metadata": {},
   "outputs": [],
   "source": []
  },
  {
   "cell_type": "code",
   "execution_count": null,
   "id": "20877577-2c2b-4d8f-946b-c78a38554dd6",
   "metadata": {},
   "outputs": [],
   "source": []
  },
  {
   "cell_type": "code",
   "execution_count": 49,
   "id": "c31a1e1d-1b31-409d-91f2-346d2167a4c0",
   "metadata": {},
   "outputs": [
    {
     "data": {
      "text/plain": [
       "array([[-0.64953269, -0.16562442,  0.02798412,  0.2949868 , -0.09266492,\n",
       "         0.21574537,  0.49695832,  0.19554398,  0.24793258,  0.06998846,\n",
       "         0.01654321,  0.2070625 ,  0.02799267, -0.09641161, -0.03969656,\n",
       "         0.03695305],\n",
       "       [-0.72007141,  0.08794496, -0.06554541, -0.19878013, -0.02595294,\n",
       "         0.03920748, -0.55132332, -0.20726652, -0.18795988,  0.05138094,\n",
       "         0.04841396, -0.16845895, -0.04015222,  0.10039119,  0.01344646,\n",
       "        -0.01621337],\n",
       "       [ 0.14207655, -0.17656685, -0.45196934, -0.03021406,  0.27540468,\n",
       "         0.36959508, -0.01773528, -0.26982867,  0.13665289,  0.56079243,\n",
       "         0.34093837,  0.02070139,  0.02360443, -0.04632526, -0.06617834,\n",
       "         0.03108797],\n",
       "       [-0.10891628,  0.72500817, -0.03470797, -0.15829615,  0.58306811,\n",
       "         0.00768869,  0.20643415,  0.15750591, -0.00160069,  0.05998656,\n",
       "        -0.1024187 ,  0.00839367, -0.01251944, -0.11684555, -0.02846675,\n",
       "         0.00253151],\n",
       "       [-0.10317615, -0.57610253, -0.0831633 , -0.48504875,  0.51970836,\n",
       "        -0.13736904,  0.09631084,  0.11496912,  0.02470004, -0.2906506 ,\n",
       "        -0.1053517 ,  0.06073127,  0.00949294,  0.05002954,  0.03630057,\n",
       "        -0.00504933],\n",
       "       [ 0.1086274 ,  0.06455614,  0.16018828, -0.36812569, -0.17908022,\n",
       "         0.84313611,  0.00741108,  0.09090672, -0.04566893, -0.23023028,\n",
       "        -0.12075664, -0.00289071, -0.00458367,  0.0289419 ,  0.02987103,\n",
       "        -0.01247126],\n",
       "       [-0.05121055,  0.14849932, -0.60236671, -0.28306632, -0.37197329,\n",
       "        -0.14078679,  0.47240033, -0.18496376, -0.19783906, -0.16175866,\n",
       "        -0.00434751, -0.15441056, -0.02614374,  0.15373892,  0.05022545,\n",
       "        -0.02801968],\n",
       "       [ 0.03634869, -0.01784205, -0.41793238,  0.07160387, -0.089569  ,\n",
       "         0.02053189, -0.26758052,  0.8453447 , -0.06899373,  0.06032586,\n",
       "         0.07716092, -0.0748487 , -0.00855829,  0.06149472,  0.00778655,\n",
       "        -0.00661338]])"
      ]
     },
     "execution_count": 49,
     "metadata": {},
     "output_type": "execute_result"
    }
   ],
   "source": [
    "fourth_MPS_matrix[:8][:8]"
   ]
  },
  {
   "cell_type": "code",
   "execution_count": null,
   "id": "b29a9feb-6d3e-4980-b94f-94af0ceee124",
   "metadata": {},
   "outputs": [],
   "source": []
  },
  {
   "cell_type": "code",
   "execution_count": 40,
   "id": "ad2eaec9-3a21-426a-b4fa-cf38cf1a3c95",
   "metadata": {},
   "outputs": [
    {
     "ename": "ValueError",
     "evalue": "cannot reshape array of size 256 into shape (8,2)",
     "output_type": "error",
     "traceback": [
      "\u001b[1;31m---------------------------------------------------------------------------\u001b[0m",
      "\u001b[1;31mValueError\u001b[0m                                Traceback (most recent call last)",
      "Cell \u001b[1;32mIn[40], line 1\u001b[0m\n\u001b[1;32m----> 1\u001b[0m np\u001b[38;5;241m.\u001b[39mreshape(fourth_MPS_matrix, (\u001b[38;5;241m8\u001b[39m,\u001b[38;5;241m2\u001b[39m))\n",
      "File \u001b[1;32m<__array_function__ internals>:180\u001b[0m, in \u001b[0;36mreshape\u001b[1;34m(*args, **kwargs)\u001b[0m\n",
      "File \u001b[1;32m~\\anaconda3\\Lib\\site-packages\\numpy\\core\\fromnumeric.py:298\u001b[0m, in \u001b[0;36mreshape\u001b[1;34m(a, newshape, order)\u001b[0m\n\u001b[0;32m    198\u001b[0m \u001b[38;5;129m@array_function_dispatch\u001b[39m(_reshape_dispatcher)\n\u001b[0;32m    199\u001b[0m \u001b[38;5;28;01mdef\u001b[39;00m \u001b[38;5;21mreshape\u001b[39m(a, newshape, order\u001b[38;5;241m=\u001b[39m\u001b[38;5;124m'\u001b[39m\u001b[38;5;124mC\u001b[39m\u001b[38;5;124m'\u001b[39m):\n\u001b[0;32m    200\u001b[0m \u001b[38;5;250m    \u001b[39m\u001b[38;5;124;03m\"\"\"\u001b[39;00m\n\u001b[0;32m    201\u001b[0m \u001b[38;5;124;03m    Gives a new shape to an array without changing its data.\u001b[39;00m\n\u001b[0;32m    202\u001b[0m \n\u001b[1;32m   (...)\u001b[0m\n\u001b[0;32m    296\u001b[0m \u001b[38;5;124;03m           [5, 6]])\u001b[39;00m\n\u001b[0;32m    297\u001b[0m \u001b[38;5;124;03m    \"\"\"\u001b[39;00m\n\u001b[1;32m--> 298\u001b[0m     \u001b[38;5;28;01mreturn\u001b[39;00m _wrapfunc(a, \u001b[38;5;124m'\u001b[39m\u001b[38;5;124mreshape\u001b[39m\u001b[38;5;124m'\u001b[39m, newshape, order\u001b[38;5;241m=\u001b[39morder)\n",
      "File \u001b[1;32m~\\anaconda3\\Lib\\site-packages\\numpy\\core\\fromnumeric.py:57\u001b[0m, in \u001b[0;36m_wrapfunc\u001b[1;34m(obj, method, *args, **kwds)\u001b[0m\n\u001b[0;32m     54\u001b[0m     \u001b[38;5;28;01mreturn\u001b[39;00m _wrapit(obj, method, \u001b[38;5;241m*\u001b[39margs, \u001b[38;5;241m*\u001b[39m\u001b[38;5;241m*\u001b[39mkwds)\n\u001b[0;32m     56\u001b[0m \u001b[38;5;28;01mtry\u001b[39;00m:\n\u001b[1;32m---> 57\u001b[0m     \u001b[38;5;28;01mreturn\u001b[39;00m bound(\u001b[38;5;241m*\u001b[39margs, \u001b[38;5;241m*\u001b[39m\u001b[38;5;241m*\u001b[39mkwds)\n\u001b[0;32m     58\u001b[0m \u001b[38;5;28;01mexcept\u001b[39;00m \u001b[38;5;167;01mTypeError\u001b[39;00m:\n\u001b[0;32m     59\u001b[0m     \u001b[38;5;66;03m# A TypeError occurs if the object does have such a method in its\u001b[39;00m\n\u001b[0;32m     60\u001b[0m     \u001b[38;5;66;03m# class, but its signature is not identical to that of NumPy's. This\u001b[39;00m\n\u001b[1;32m   (...)\u001b[0m\n\u001b[0;32m     64\u001b[0m     \u001b[38;5;66;03m# Call _wrapit from within the except clause to ensure a potential\u001b[39;00m\n\u001b[0;32m     65\u001b[0m     \u001b[38;5;66;03m# exception has a traceback chain.\u001b[39;00m\n\u001b[0;32m     66\u001b[0m     \u001b[38;5;28;01mreturn\u001b[39;00m _wrapit(obj, method, \u001b[38;5;241m*\u001b[39margs, \u001b[38;5;241m*\u001b[39m\u001b[38;5;241m*\u001b[39mkwds)\n",
      "\u001b[1;31mValueError\u001b[0m: cannot reshape array of size 256 into shape (8,2)"
     ]
    }
   ],
   "source": [
    "anp.reshape(fourth_MPS_matrix, (8,2))"
   ]
  },
  {
   "cell_type": "code",
   "execution_count": 33,
   "id": "1fd3a55c-8919-496a-a4a9-3478b958d495",
   "metadata": {},
   "outputs": [
    {
     "data": {
      "text/plain": [
       "(8, 8)"
      ]
     },
     "execution_count": 33,
     "metadata": {},
     "output_type": "execute_result"
    }
   ],
   "source": [
    "third_MPS_matrix.shape"
   ]
  },
  {
   "cell_type": "code",
   "execution_count": 24,
   "id": "73e0442f-a33e-4c6d-af58-6c817d2dcfd6",
   "metadata": {},
   "outputs": [
    {
     "data": {
      "text/plain": [
       "(16, 8)"
      ]
     },
     "execution_count": 24,
     "metadata": {},
     "output_type": "execute_result"
    }
   ],
   "source": [
    "(len(third_S)*d, d**(L-3))"
   ]
  },
  {
   "cell_type": "code",
   "execution_count": 6,
   "id": "87ebe306-ed43-4397-8b92-58fa53c79a63",
   "metadata": {},
   "outputs": [
    {
     "ename": "SyntaxError",
     "evalue": "invalid character '´' (U+00B4) (2382889492.py, line 3)",
     "output_type": "error",
     "traceback": [
      "\u001b[1;36m  Cell \u001b[1;32mIn[6], line 3\u001b[1;36m\u001b[0m\n\u001b[1;33m    third´´´´_Vh.shape\u001b[0m\n\u001b[1;37m         ^\u001b[0m\n\u001b[1;31mSyntaxError\u001b[0m\u001b[1;31m:\u001b[0m invalid character '´' (U+00B4)\n"
     ]
    }
   ],
   "source": [
    "third_MPS_matrix, third_S, third_Vh=la.svd(second_Vh)\n",
    "third_Vh=np.diag(third_S)@third_Vh\n",
    "third´´´´_Vh.shape"
   ]
  },
  {
   "cell_type": "code",
   "execution_count": null,
   "id": "8410d4a0-938e-4a9f-a346-a1d4bc52ccb4",
   "metadata": {},
   "outputs": [],
   "source": [
    "fourth_MPS_matrix, fourth_S, fourth_Vh=la.svd(third_Vh)\n",
    "fourth_Vh=np.reshape(np.diag(fourth_S)@fourth_Vh, (len(fourth_S)*d, d**(L-4)))\n",
    "fourth_Vh.shape"
   ]
  },
  {
   "cell_type": "code",
   "execution_count": 160,
   "id": "b5bf931c-8c95-48ef-9cf6-642512f9c621",
   "metadata": {},
   "outputs": [
    {
     "data": {
      "text/plain": [
       "(8, 2)"
      ]
     },
     "execution_count": 160,
     "metadata": {},
     "output_type": "execute_result"
    }
   ],
   "source": [
    "fifth_MPS_matrix, fifth_S, fifth_Vh=la.svd(fourth_Vh)\n",
    "fifth_Vh=np.reshape(np.diag(fifth_S)@fifth_Vh, (len(fifth_S)*d, d**(L-5)))\n",
    "fifth_Vh.shape"
   ]
  },
  {
   "cell_type": "code",
   "execution_count": null,
   "id": "2437a0f9-4ebe-4715-adb4-98a2bd6c8d22",
   "metadata": {},
   "outputs": [],
   "source": []
  },
  {
   "cell_type": "code",
   "execution_count": 154,
   "id": "b9df9640-0073-49c4-90d8-c2f652d8d3a3",
   "metadata": {},
   "outputs": [
    {
     "data": {
      "text/plain": [
       "(16, 4)"
      ]
     },
     "execution_count": 154,
     "metadata": {},
     "output_type": "execute_result"
    }
   ],
   "source": [
    "(len(fourth_S)*d, d**(L-4))"
   ]
  },
  {
   "cell_type": "code",
   "execution_count": 137,
   "id": "e9259504-3e26-451a-8d3b-b7fb49c2ca2d",
   "metadata": {},
   "outputs": [
    {
     "data": {
      "text/plain": [
       "(8, 8)"
      ]
     },
     "execution_count": 137,
     "metadata": {},
     "output_type": "execute_result"
    }
   ],
   "source": [
    "fourth_MPS_matrix, fourth_S, fourth_Vh=la.svd(third_Vh)\n",
    "fourth_true_s=np.zeros((fourth_MPS_matrix.shape[1], fourth_Vh.shape[0]))\n",
    "fourth_true_s[:fourth_S.size, :fourth_S.size]=np.diag(fourth_S)\n",
    "fourth_Vh=np.reshape(fourth_true_s@fourth_Vh, (d*len(fourth_S), d**(L-4)))\n",
    "fourth_MPS_matrix.shape"
   ]
  },
  {
   "cell_type": "code",
   "execution_count": 147,
   "id": "78505102-0308-4333-a607-917c3ca2583d",
   "metadata": {},
   "outputs": [
    {
     "data": {
      "text/plain": [
       "(16, 4)"
      ]
     },
     "execution_count": 147,
     "metadata": {},
     "output_type": "execute_result"
    }
   ],
   "source": [
    "fourth_Vh.shape"
   ]
  },
  {
   "cell_type": "code",
   "execution_count": 142,
   "id": "6bd013e2-42c8-402b-b073-efd3a7e4b6f5",
   "metadata": {},
   "outputs": [
    {
     "ename": "ValueError",
     "evalue": "cannot reshape array of size 64 into shape (8,2)",
     "output_type": "error",
     "traceback": [
      "\u001b[1;31m---------------------------------------------------------------------------\u001b[0m",
      "\u001b[1;31mValueError\u001b[0m                                Traceback (most recent call last)",
      "Cell \u001b[1;32mIn[142], line 4\u001b[0m\n\u001b[0;32m      2\u001b[0m fifth_true_s\u001b[38;5;241m=\u001b[39mnp\u001b[38;5;241m.\u001b[39mzeros((fifth_MPS_matrix\u001b[38;5;241m.\u001b[39mshape[\u001b[38;5;241m1\u001b[39m], fifth_Vh\u001b[38;5;241m.\u001b[39mshape[\u001b[38;5;241m0\u001b[39m]))\n\u001b[0;32m      3\u001b[0m fifth_true_s[:fifth_S\u001b[38;5;241m.\u001b[39msize, :fifth_S\u001b[38;5;241m.\u001b[39msize]\u001b[38;5;241m=\u001b[39mnp\u001b[38;5;241m.\u001b[39mdiag(fifth_S)\n\u001b[1;32m----> 4\u001b[0m fifth_Vh\u001b[38;5;241m=\u001b[39mnp\u001b[38;5;241m.\u001b[39mreshape(fifth_true_s\u001b[38;5;129m@fifth_Vh\u001b[39m, (d\u001b[38;5;241m*\u001b[39m\u001b[38;5;28mlen\u001b[39m(fifth_S), d\u001b[38;5;241m*\u001b[39m\u001b[38;5;241m*\u001b[39m(L\u001b[38;5;241m-\u001b[39m\u001b[38;5;241m5\u001b[39m)))\n",
      "File \u001b[1;32m<__array_function__ internals>:180\u001b[0m, in \u001b[0;36mreshape\u001b[1;34m(*args, **kwargs)\u001b[0m\n",
      "File \u001b[1;32m~\\anaconda3\\Lib\\site-packages\\numpy\\core\\fromnumeric.py:298\u001b[0m, in \u001b[0;36mreshape\u001b[1;34m(a, newshape, order)\u001b[0m\n\u001b[0;32m    198\u001b[0m \u001b[38;5;129m@array_function_dispatch\u001b[39m(_reshape_dispatcher)\n\u001b[0;32m    199\u001b[0m \u001b[38;5;28;01mdef\u001b[39;00m \u001b[38;5;21mreshape\u001b[39m(a, newshape, order\u001b[38;5;241m=\u001b[39m\u001b[38;5;124m'\u001b[39m\u001b[38;5;124mC\u001b[39m\u001b[38;5;124m'\u001b[39m):\n\u001b[0;32m    200\u001b[0m \u001b[38;5;250m    \u001b[39m\u001b[38;5;124;03m\"\"\"\u001b[39;00m\n\u001b[0;32m    201\u001b[0m \u001b[38;5;124;03m    Gives a new shape to an array without changing its data.\u001b[39;00m\n\u001b[0;32m    202\u001b[0m \n\u001b[1;32m   (...)\u001b[0m\n\u001b[0;32m    296\u001b[0m \u001b[38;5;124;03m           [5, 6]])\u001b[39;00m\n\u001b[0;32m    297\u001b[0m \u001b[38;5;124;03m    \"\"\"\u001b[39;00m\n\u001b[1;32m--> 298\u001b[0m     \u001b[38;5;28;01mreturn\u001b[39;00m _wrapfunc(a, \u001b[38;5;124m'\u001b[39m\u001b[38;5;124mreshape\u001b[39m\u001b[38;5;124m'\u001b[39m, newshape, order\u001b[38;5;241m=\u001b[39morder)\n",
      "File \u001b[1;32m~\\anaconda3\\Lib\\site-packages\\numpy\\core\\fromnumeric.py:57\u001b[0m, in \u001b[0;36m_wrapfunc\u001b[1;34m(obj, method, *args, **kwds)\u001b[0m\n\u001b[0;32m     54\u001b[0m     \u001b[38;5;28;01mreturn\u001b[39;00m _wrapit(obj, method, \u001b[38;5;241m*\u001b[39margs, \u001b[38;5;241m*\u001b[39m\u001b[38;5;241m*\u001b[39mkwds)\n\u001b[0;32m     56\u001b[0m \u001b[38;5;28;01mtry\u001b[39;00m:\n\u001b[1;32m---> 57\u001b[0m     \u001b[38;5;28;01mreturn\u001b[39;00m bound(\u001b[38;5;241m*\u001b[39margs, \u001b[38;5;241m*\u001b[39m\u001b[38;5;241m*\u001b[39mkwds)\n\u001b[0;32m     58\u001b[0m \u001b[38;5;28;01mexcept\u001b[39;00m \u001b[38;5;167;01mTypeError\u001b[39;00m:\n\u001b[0;32m     59\u001b[0m     \u001b[38;5;66;03m# A TypeError occurs if the object does have such a method in its\u001b[39;00m\n\u001b[0;32m     60\u001b[0m     \u001b[38;5;66;03m# class, but its signature is not identical to that of NumPy's. This\u001b[39;00m\n\u001b[1;32m   (...)\u001b[0m\n\u001b[0;32m     64\u001b[0m     \u001b[38;5;66;03m# Call _wrapit from within the except clause to ensure a potential\u001b[39;00m\n\u001b[0;32m     65\u001b[0m     \u001b[38;5;66;03m# exception has a traceback chain.\u001b[39;00m\n\u001b[0;32m     66\u001b[0m     \u001b[38;5;28;01mreturn\u001b[39;00m _wrapit(obj, method, \u001b[38;5;241m*\u001b[39margs, \u001b[38;5;241m*\u001b[39m\u001b[38;5;241m*\u001b[39mkwds)\n",
      "\u001b[1;31mValueError\u001b[0m: cannot reshape array of size 64 into shape (8,2)"
     ]
    }
   ],
   "source": [
    "fifth_MPS_matrix, fifth_S, fifth_Vh=la.svd(fourth_Vh)\n",
    "fifth_true_s=np.zeros((fifth_MPS_matrix.shape[1], fifth_Vh.shape[0]))\n",
    "fifth_true_s[:fifth_S.size, :fifth_S.size]=np.diag(fifth_S)\n",
    "fifth_Vh=np.reshape(fifth_true_s@fifth_Vh, (d*len(fifth_S), d**(L-5)))"
   ]
  },
  {
   "cell_type": "code",
   "execution_count": 145,
   "id": "cd2f23be-b6b6-40f9-844b-8606f4c470d5",
   "metadata": {},
   "outputs": [
    {
     "data": {
      "text/plain": [
       "array([3.39721768, 1.3834625 , 1.23849509, 0.85404728])"
      ]
     },
     "execution_count": 145,
     "metadata": {},
     "output_type": "execute_result"
    }
   ],
   "source": [
    "fifth_S"
   ]
  },
  {
   "cell_type": "code",
   "execution_count": 146,
   "id": "e7c8a26e-0798-4bff-b69a-342822c741cc",
   "metadata": {},
   "outputs": [
    {
     "data": {
      "text/plain": [
       "(16, 16)"
      ]
     },
     "execution_count": 146,
     "metadata": {},
     "output_type": "execute_result"
    }
   ],
   "source": [
    "fifth_MPS_matrix.shape"
   ]
  },
  {
   "cell_type": "code",
   "execution_count": 144,
   "id": "83390f6e-91d0-4afd-9efb-35453d2f72d0",
   "metadata": {},
   "outputs": [
    {
     "data": {
      "text/plain": [
       "(8, 2)"
      ]
     },
     "execution_count": 144,
     "metadata": {},
     "output_type": "execute_result"
    }
   ],
   "source": [
    "(d*len(fifth_S), d**(L-5))"
   ]
  },
  {
   "cell_type": "code",
   "execution_count": null,
   "id": "4b9280b2-d219-436e-8333-055114a12140",
   "metadata": {},
   "outputs": [],
   "source": []
  }
 ],
 "metadata": {
  "kernelspec": {
   "display_name": "Python 3 (ipykernel)",
   "language": "python",
   "name": "python3"
  },
  "language_info": {
   "codemirror_mode": {
    "name": "ipython",
    "version": 3
   },
   "file_extension": ".py",
   "mimetype": "text/x-python",
   "name": "python",
   "nbconvert_exporter": "python",
   "pygments_lexer": "ipython3",
   "version": "3.11.7"
  }
 },
 "nbformat": 4,
 "nbformat_minor": 5
}
