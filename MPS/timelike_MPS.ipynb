{
 "cells": [
  {
   "cell_type": "code",
   "execution_count": 1,
   "id": "76996104-5c20-4f5f-99fb-3bf4c64bf15a",
   "metadata": {},
   "outputs": [],
   "source": [
    "import numpy as np "
   ]
  },
  {
   "cell_type": "code",
   "execution_count": 2,
   "id": "9eaa5e79-bb99-4988-a30b-a6078fbf13a9",
   "metadata": {},
   "outputs": [],
   "source": [
    "import scipy.linalg as la\n",
    "def true_Singular(original_S, dims):\n",
    "    true_S=np.zeros(dims)\n",
    "    true_S[:original_S.size, :original_S.size]=np.diag(original_S)\n",
    "    return true_S"
   ]
  },
  {
   "cell_type": "markdown",
   "id": "93fa929c-91e2-4911-9e28-4151279beefb",
   "metadata": {},
   "source": [
    "# $|\\Psi\\rangle$-state construction\n",
    "\n",
    "En esta sección, estuve buscando una forma alternativa y capaz más eficiente (al menos para $N$-grande) de la construcción del \n",
    "tensor, no lo logré (aún) pero otro día le pego una vuelta. "
   ]
  },
  {
   "cell_type": "code",
   "execution_count": 8,
   "id": "0598060e-bba0-4e53-8dc2-a0b47cea8a8b",
   "metadata": {},
   "outputs": [
    {
     "name": "stdout",
     "output_type": "stream",
     "text": [
      "[0, 0, 1, 1, 0]\n"
     ]
    }
   ],
   "source": [
    "def extract_digits(x, d, N):\n",
    "    alphas = []\n",
    "    for _ in range(N):\n",
    "        alpha_k = x % d    # Extract the remainder (alpha_k)\n",
    "        alphas.insert(0,alpha_k)\n",
    "        x = x // d         # Update x by removing the current digit\n",
    "    return alphas\n",
    "\n",
    "# Example usage\n",
    "x = 6   # Number to decompose\n",
    "d = 2      # Base\n",
    "N = 5       # Number of coefficients to extract\n",
    "\n",
    "alphas = extract_digits(x, d, N)\n",
    "print(alphas)  # This will print the list of alpha_k coefficients\n",
    "\n",
    "def extract_digits_2(x, d, N): \n",
    "    alphas = []\n",
    "    for _ in range(N):\n",
    "        alpha_k = x % d**2    # Extract the remainder (alpha_k)\n",
    "        #alphas.append(alpha_k)\n",
    "        alphas.insert(0,alpha_k)\n",
    "        x = x // d**2         # Update x by removing the current digit\n",
    "    alphas2 = []\n",
    "    for i in range(N):        #writes alpha_k=(i_j,j_k) \n",
    "        i_k = alphas[i]//d %d\n",
    "        alphas2.append(i_k)\n",
    "        j_k = alphas[i]%d\n",
    "        alphas2.append(j_k)\n",
    "    return alphas2\n",
    "\n",
    "def tensor_function(x,d,N):\n",
    "    alphas=extract_digits_2(x,d,N)\n",
    "    num = 1\n",
    "    for i in range(0,N-1):\n",
    "        if alphas[2*i+2]!=alphas[2*i+1] or alphas[0]!=alphas[2*N-1]: \n",
    "           num=num*0\n",
    "    return num\n",
    "    \n",
    "x = 6   # Number to decompose\n",
    "d = 2      # Base\n",
    "N = 3       # Number of coefficients to extract\n",
    "\n",
    "alphas = extract_digits(x, d**2, N)\n",
    "alphas2 = extract_digits_2(x, d, N)"
   ]
  },
  {
   "cell_type": "code",
   "execution_count": 9,
   "id": "db13de6b-a928-417f-8efa-05230d809d5e",
   "metadata": {},
   "outputs": [
    {
     "name": "stdout",
     "output_type": "stream",
     "text": [
      "Original state: ['1.0' 'a' '2.0' 'b' '3.0' 'c' '4.0' 'd']\n",
      "SWAP 0,1 result: ['2.0' 'b' '1.0' 'a' '3.0' 'c' '4.0' 'd']\n"
     ]
    }
   ],
   "source": [
    "def swap_tensor_identity_flat(state, indices):\n",
    "    # Ensure the state is a NumPy array\n",
    "    state = np.array(state)\n",
    "    n = len(state)\n",
    "    i, j = indices\n",
    "    if i >= n // 2 or j >= n // 2 or i < 0 or j < 0:\n",
    "        raise ValueError(\"Indices must be within the range of pairs.\")\n",
    "\n",
    "    # Create the swapped state\n",
    "    swapped_state = np.copy(state)\n",
    "    \n",
    "    # Perform the SWAP * Identity operation on pairs\n",
    "    swapped_state[2*i], swapped_state[2*j] = state[2*j], state[2*i]\n",
    "    swapped_state[2*i+1], swapped_state[2*j+1] = state[2*j+1], state[2*i+1]\n",
    "\n",
    "    return swapped_state\n",
    "    \n",
    "state = np.array([1., \"a\", 2., \"b\", 3., \"c\", 4., \"d\"])  # |ij>_0 |ab>_1 format\n",
    "swapped_state = swap_tensor_identity_flat(state, (0, 1))\n",
    "\n",
    "print(\"Original state:\", state)\n",
    "print(\"SWAP 0,1 result:\", swapped_state)"
   ]
  },
  {
   "cell_type": "code",
   "execution_count": 10,
   "id": "a78b3adb-4618-4391-8403-b9a14edd711c",
   "metadata": {},
   "outputs": [
    {
     "data": {
      "text/plain": [
       "array([1, 0, 0, 1, 0, 0, 0, 0, 0, 0, 0, 0, 1, 0, 0, 1])"
      ]
     },
     "execution_count": 10,
     "metadata": {},
     "output_type": "execute_result"
    }
   ],
   "source": [
    "import itertools\n",
    "N=2 ## number of temporal slices\n",
    "d=2 ## internal, physical, dimension \n",
    "\n",
    "total_states = d ** (2 * N)\n",
    "# This function generates the correct weights for the Phi+ superstate \n",
    "def is_valid_state(state):\n",
    "    binary_state = bin(state)[2:].zfill(2 * N)  # Binary representation of the state\n",
    "    return all(binary_state[i:i+2] == '00' or binary_state[i:i+2] == '11' for i in range(0, len(binary_state), 2))\n",
    "\n",
    "weights = np.array([1 if is_valid_state(i) else 0 for i in range(total_states)])\n",
    "weights"
   ]
  },
  {
   "cell_type": "markdown",
   "id": "3d9c9181-f25a-4a2e-9816-c86db838c365",
   "metadata": {},
   "source": [
    "swap_tensor_identity_flat(weights, )"
   ]
  },
  {
   "cell_type": "markdown",
   "id": "e70cc83e-45a4-499c-b3cd-d41c4f2fc8de",
   "metadata": {},
   "source": [
    "### MPS Decomposition "
   ]
  },
  {
   "cell_type": "code",
   "execution_count": 11,
   "id": "e02a3ebb-386c-4e7a-8cad-f9e16cdc96e0",
   "metadata": {},
   "outputs": [
    {
     "name": "stdout",
     "output_type": "stream",
     "text": [
      "(64,)\n"
     ]
    }
   ],
   "source": [
    "d=2 #Size of the original Hilbert space (d=2 qubit; d=3 qutrit)\n",
    "N=3 #Number of time slices\n",
    "tensor = np.array([tensor_function(x,d,N) for x in np.arange(0,d**(2*N))])\n",
    "print(tensor.shape)"
   ]
  },
  {
   "cell_type": "code",
   "execution_count": 12,
   "id": "b0b1b441-bdc4-4889-85e7-aff1f65f8fbb",
   "metadata": {},
   "outputs": [
    {
     "data": {
      "text/plain": [
       "(4, 16)"
      ]
     },
     "execution_count": 12,
     "metadata": {},
     "output_type": "execute_result"
    }
   ],
   "source": [
    "tensor.reshape(d**2, -1).shape"
   ]
  },
  {
   "cell_type": "code",
   "execution_count": 15,
   "id": "c126f0c1-1416-4fbf-90ab-fa29d823a4c5",
   "metadata": {},
   "outputs": [],
   "source": [
    "def mps_decomposition(state_weights, N, d, bond_dim=None):\n",
    "    reshaped_matrix = state_weights.reshape(d**2, -1)\n",
    "    mps_matrices = []  # To store U matrices\n",
    "    svd_vals = []      # To store singular values\n",
    "    all_matrices = []\n",
    "    \n",
    "    current_matrix = reshaped_matrix\n",
    "    for n in range(0, N-1):\n",
    "        \n",
    "        # Perform SVD with full_matrices=True\n",
    "        U, S, Vh = np.linalg.svd(current_matrix, full_matrices=True)\n",
    "        \n",
    "        # Store U and S values\n",
    "        mps_matrices.append(U)\n",
    "        svd_vals.append(S)\n",
    "\n",
    "        # Update current_matrix for the next iteration\n",
    "        current_matrix = (true_Singular(S, (U.shape[1], Vh.shape[0])) @ Vh)\n",
    "        \n",
    "        # Reshape current_matrix correctly (rows reduce after SVD)\n",
    "        current_matrix = current_matrix.reshape(Vh.shape[0], U.shape[0])\n",
    "        all_matrices.append(current_matrix)\n",
    "\n",
    "        # Check if there's a size issue for the next iteration\n",
    "        if current_matrix.shape[0] == 0:\n",
    "            print(\"Terminated early due to zero rows.\")\n",
    "            break\n",
    "\n",
    "    # Append the final matrix product of S and Vh to mps_matrices\n",
    "    current_matrix = current_matrix.reshape(U.shape[0], Vh.shape[0])\n",
    "    all_matrices.append(current_matrix) ## Just to make sure, we extract all matrices involved.\n",
    "    mps_matrices.append(current_matrix) ## append the last matrix as an MPS matrix \n",
    "\n",
    "    return svd_vals, mps_matrices, all_matrices"
   ]
  },
  {
   "cell_type": "code",
   "execution_count": null,
   "id": "d15681dd-fdc4-4e79-a9a3-cba2453acce0",
   "metadata": {},
   "outputs": [],
   "source": []
  },
  {
   "cell_type": "code",
   "execution_count": 21,
   "id": "315f4623-df55-4dba-9f9a-5abe45481335",
   "metadata": {},
   "outputs": [],
   "source": [
    "## solución a mano: \n",
    "U1, S1, Vh1=np.linalg.svd(tensor.reshape(4, 16))\n",
    "U2, S2, Vh2=np.linalg.svd((true_Singular(S1, (4,16)) @ Vh1).reshape(16,4))\n",
    "U3 = true_Singular(S2, (16,4))@Vh2 \n",
    "#U2, S2, Vh2=np.linalg.svd((true_Singular(S1, (4, 16))@Vh1).reshape(16,4))\n",
    "#U3_F=true_Singular(S2, (4, 16))@Vh2"
   ]
  },
  {
   "cell_type": "code",
   "execution_count": 22,
   "id": "968d42e7-2f7b-47d1-a8b9-0a2fddeae07d",
   "metadata": {
    "scrolled": true
   },
   "outputs": [],
   "source": [
    "svd_vals, mps_matrices, all_matrices =mps_decomposition(tensor, 3, 2, np.inf)"
   ]
  },
  {
   "cell_type": "code",
   "execution_count": 54,
   "id": "a4d49d3a-c5e2-4a91-a656-c1bf6c5e3ab6",
   "metadata": {},
   "outputs": [],
   "source": [
    "bigTensor= np.array([[\n",
    "    [sum(mps_matrices[0][k0, a1] * mps_matrices[1][k1*4+a1, a2] * mps_matrices[2][k2, a2]  ## 99% seguro que esto está bien\n",
    "        for a1 in range(d**2)\n",
    "        for a2 in range(d**2))\n",
    "      for k2 in range(d**2)]\n",
    "     for k1 in range(d**2)]\n",
    "for k0 in range(d**2)])"
   ]
  },
  {
   "cell_type": "code",
   "execution_count": 56,
   "id": "1823b276-61ed-4d23-a193-5c1e2f1c6001",
   "metadata": {},
   "outputs": [
    {
     "data": {
      "text/plain": [
       "array([[[ 0.00000000e+00, -7.07106781e-01,  0.00000000e+00,\n",
       "          0.00000000e+00],\n",
       "        [ 0.00000000e+00,  0.00000000e+00,  0.00000000e+00,\n",
       "          0.00000000e+00],\n",
       "        [-2.23711432e-17,  0.00000000e+00,  0.00000000e+00,\n",
       "         -7.07106781e-01],\n",
       "        [ 0.00000000e+00,  0.00000000e+00,  0.00000000e+00,\n",
       "          0.00000000e+00]],\n",
       "\n",
       "       [[-7.07106781e-01,  0.00000000e+00,  0.00000000e+00,\n",
       "          0.00000000e+00],\n",
       "        [ 0.00000000e+00,  0.00000000e+00,  0.00000000e+00,\n",
       "          0.00000000e+00],\n",
       "        [ 0.00000000e+00,  0.00000000e+00, -7.07106781e-01,\n",
       "          0.00000000e+00],\n",
       "        [ 0.00000000e+00,  0.00000000e+00,  0.00000000e+00,\n",
       "          0.00000000e+00]],\n",
       "\n",
       "       [[ 0.00000000e+00,  0.00000000e+00,  0.00000000e+00,\n",
       "          0.00000000e+00],\n",
       "        [ 0.00000000e+00, -7.07106781e-01,  0.00000000e+00,\n",
       "          0.00000000e+00],\n",
       "        [ 0.00000000e+00,  5.61334798e-17,  0.00000000e+00,\n",
       "          0.00000000e+00],\n",
       "        [ 1.01465364e-17,  0.00000000e+00,  0.00000000e+00,\n",
       "         -7.07106781e-01]],\n",
       "\n",
       "       [[ 0.00000000e+00,  0.00000000e+00,  0.00000000e+00,\n",
       "          0.00000000e+00],\n",
       "        [-7.07106781e-01,  0.00000000e+00,  0.00000000e+00,\n",
       "          0.00000000e+00],\n",
       "        [ 5.61334798e-17,  0.00000000e+00,  0.00000000e+00,\n",
       "          0.00000000e+00],\n",
       "        [ 0.00000000e+00,  0.00000000e+00, -7.07106781e-01,\n",
       "          0.00000000e+00]]])"
      ]
     },
     "execution_count": 56,
     "metadata": {},
     "output_type": "execute_result"
    }
   ],
   "source": [
    "bigTensor"
   ]
  },
  {
   "cell_type": "code",
   "execution_count": null,
   "id": "f06f2a96-ddb8-4649-b7ef-decfd53d9c63",
   "metadata": {},
   "outputs": [],
   "source": []
  },
  {
   "cell_type": "code",
   "execution_count": null,
   "id": "5a4cd471-0048-4540-b616-02e3ecf9814a",
   "metadata": {},
   "outputs": [],
   "source": [
    "result = np.array([[\n",
    "    [sum(A1[ke, a1] * A2[k1 * 4 + a1, a2] * A3[k2, a2] \n",
    "         for a1 in range(4) \n",
    "         for a2 in range(4))\n",
    "     for k2 in range(4)]\n",
    "    for k1 in range(4)]\n",
    "for ke in range(4)])"
   ]
  },
  {
   "cell_type": "code",
   "execution_count": null,
   "id": "f9d9dd02-02c3-4f82-9008-2256b152a35a",
   "metadata": {},
   "outputs": [],
   "source": []
  },
  {
   "cell_type": "code",
   "execution_count": 37,
   "id": "f7949695-b2c0-4745-8d18-c75f482e938a",
   "metadata": {},
   "outputs": [
    {
     "data": {
      "text/plain": [
       "array([[ 0.        ,  0.        , -1.41421356,  0.        ],\n",
       "       [ 0.        ,  0.        ,  0.        , -1.41421356],\n",
       "       [-1.41421356,  0.        ,  0.        ,  0.        ],\n",
       "       [ 0.        , -1.41421356,  0.        ,  0.        ],\n",
       "       [ 0.        ,  0.        ,  0.        ,  0.        ],\n",
       "       [ 0.        ,  0.        ,  0.        ,  0.        ],\n",
       "       [ 0.        ,  0.        ,  0.        ,  0.        ],\n",
       "       [ 0.        ,  0.        ,  0.        ,  0.        ],\n",
       "       [ 0.        ,  0.        ,  0.        ,  0.        ],\n",
       "       [ 0.        ,  0.        ,  0.        ,  0.        ],\n",
       "       [ 0.        ,  0.        ,  0.        ,  0.        ],\n",
       "       [ 0.        ,  0.        ,  0.        ,  0.        ],\n",
       "       [ 0.        ,  0.        ,  0.        ,  0.        ],\n",
       "       [ 0.        ,  0.        ,  0.        ,  0.        ],\n",
       "       [ 0.        ,  0.        ,  0.        ,  0.        ],\n",
       "       [ 0.        ,  0.        ,  0.        ,  0.        ]])"
      ]
     },
     "execution_count": 37,
     "metadata": {},
     "output_type": "execute_result"
    }
   ],
   "source": [
    "mps_matrices[2]"
   ]
  },
  {
   "cell_type": "code",
   "execution_count": 403,
   "id": "2a96c97b-a3f8-453e-b71e-194349445a34",
   "metadata": {},
   "outputs": [
    {
     "data": {
      "text/plain": [
       "(64,)"
      ]
     },
     "execution_count": 403,
     "metadata": {},
     "output_type": "execute_result"
    }
   ],
   "source": [
    "tensor.shape"
   ]
  },
  {
   "cell_type": "code",
   "execution_count": null,
   "id": "245d0d94-3122-4388-88d2-6f1d9d8fc918",
   "metadata": {},
   "outputs": [],
   "source": []
  },
  {
   "cell_type": "code",
   "execution_count": null,
   "id": "dfa953b0-7822-4be4-b9cc-2d6228809e61",
   "metadata": {},
   "outputs": [],
   "source": []
  },
  {
   "cell_type": "code",
   "execution_count": null,
   "id": "5d97eacd-a935-495a-b758-ebb4808a849c",
   "metadata": {},
   "outputs": [],
   "source": []
  },
  {
   "cell_type": "code",
   "execution_count": 332,
   "id": "3d859c2e-4ef6-43f7-9891-686d58d5d036",
   "metadata": {},
   "outputs": [
    {
     "data": {
      "text/plain": [
       "array([[-1.41421356,  0.        ,  0.        ,  0.        ,  0.        ,\n",
       "        -1.41421356,  0.        ,  0.        ,  0.        ,  0.        ,\n",
       "        -1.41421356,  0.        ,  0.        ,  0.        ,  0.        ,\n",
       "        -1.41421356],\n",
       "       [ 0.        ,  0.        ,  0.        ,  0.        ,  0.        ,\n",
       "         0.        ,  0.        ,  0.        ,  0.        ,  0.        ,\n",
       "         0.        ,  0.        ,  0.        ,  0.        ,  0.        ,\n",
       "         0.        ],\n",
       "       [ 0.        ,  0.        ,  0.        ,  0.        ,  0.        ,\n",
       "         0.        ,  0.        ,  0.        ,  0.        ,  0.        ,\n",
       "         0.        ,  0.        ,  0.        ,  0.        ,  0.        ,\n",
       "         0.        ],\n",
       "       [ 0.        ,  0.        ,  0.        ,  0.        ,  0.        ,\n",
       "         0.        ,  0.        ,  0.        ,  0.        ,  0.        ,\n",
       "         0.        ,  0.        ,  0.        ,  0.        ,  0.        ,\n",
       "         0.        ]])"
      ]
     },
     "execution_count": 332,
     "metadata": {},
     "output_type": "execute_result"
    }
   ],
   "source": [
    "U3_F"
   ]
  },
  {
   "cell_type": "code",
   "execution_count": 227,
   "id": "4a4ebb96-9029-41e4-be0d-9f4c5b0872aa",
   "metadata": {},
   "outputs": [
    {
     "data": {
      "text/plain": [
       "array([2.82842712, 0.        , 0.        , 0.        ])"
      ]
     },
     "execution_count": 227,
     "metadata": {},
     "output_type": "execute_result"
    }
   ],
   "source": [
    "S2"
   ]
  },
  {
   "cell_type": "code",
   "execution_count": 79,
   "id": "6c2da8d7-607e-49a0-8089-6171c0c1e3cd",
   "metadata": {},
   "outputs": [
    {
     "name": "stdout",
     "output_type": "stream",
     "text": [
      "[[1. 0. 0. 0.]\n",
      " [0. 0. 0. 1.]\n",
      " [0. 1. 0. 0.]\n",
      " [0. 0. 1. 0.]]\n"
     ]
    }
   ],
   "source": [
    "print(U2)"
   ]
  },
  {
   "cell_type": "code",
   "execution_count": 50,
   "id": "602ff01b-2611-4a8e-ba6e-5852ffbd5cad",
   "metadata": {},
   "outputs": [],
   "source": [
    "svd_vals, mps_decomp=mps_decomposition(tensor, 3, 2, 4)"
   ]
  },
  {
   "cell_type": "code",
   "execution_count": 51,
   "id": "09d066cd-8df2-488d-916d-d8b58f4661ed",
   "metadata": {},
   "outputs": [
    {
     "data": {
      "text/plain": [
       "[array([1.41421356, 1.41421356, 1.41421356, 1.41421356]),\n",
       " array([1.41421356, 1.41421356, 1.41421356, 1.41421356]),\n",
       " array([1.41421356, 1.41421356, 1.41421356, 1.41421356])]"
      ]
     },
     "execution_count": 51,
     "metadata": {},
     "output_type": "execute_result"
    }
   ],
   "source": [
    "svd_vals"
   ]
  },
  {
   "cell_type": "code",
   "execution_count": 29,
   "id": "b429150d-612a-4c78-8c3b-54b8eea9ff9e",
   "metadata": {},
   "outputs": [
    {
     "data": {
      "text/plain": [
       "array([[-0.5,  0. ],\n",
       "       [ 0. ,  0. ],\n",
       "       [ 0. ,  0. ],\n",
       "       [-0.5,  0. ],\n",
       "       [ 0. ,  0. ],\n",
       "       [ 0. ,  0. ],\n",
       "       [ 0. ,  0. ],\n",
       "       [ 0. ,  0. ],\n",
       "       [ 0. ,  0. ],\n",
       "       [ 0. ,  0. ],\n",
       "       [ 0. ,  0. ],\n",
       "       [ 0. ,  0. ],\n",
       "       [-0.5,  0. ],\n",
       "       [ 0. ,  0. ],\n",
       "       [ 0. ,  0. ],\n",
       "       [-0.5,  0. ],\n",
       "       [ 0. , -0.5],\n",
       "       [ 0. ,  0. ],\n",
       "       [ 0. ,  0. ],\n",
       "       [ 0. , -0.5],\n",
       "       [ 0. ,  0. ],\n",
       "       [ 0. ,  0. ],\n",
       "       [ 0. ,  0. ],\n",
       "       [ 0. ,  0. ],\n",
       "       [ 0. ,  0. ],\n",
       "       [ 0. ,  0. ],\n",
       "       [ 0. ,  0. ],\n",
       "       [ 0. ,  0. ],\n",
       "       [ 0. , -0.5],\n",
       "       [ 0. ,  0. ],\n",
       "       [ 0. ,  0. ],\n",
       "       [ 0. , -0.5]])"
      ]
     },
     "execution_count": 29,
     "metadata": {},
     "output_type": "execute_result"
    }
   ],
   "source": [
    "mps_decomp[0]"
   ]
  },
  {
   "cell_type": "code",
   "execution_count": null,
   "id": "91e4feaf-9f79-4043-9704-c7938c30c242",
   "metadata": {},
   "outputs": [],
   "source": []
  },
  {
   "cell_type": "code",
   "execution_count": null,
   "id": "9a352013-87fd-4df5-842d-55f105393f3c",
   "metadata": {},
   "outputs": [],
   "source": []
  },
  {
   "cell_type": "code",
   "execution_count": 55,
   "id": "ab4ccce5-f5c5-4dc7-a876-866e9f98e8bf",
   "metadata": {},
   "outputs": [],
   "source": [
    "N=4 # number of copies \n",
    "d=2 # internal dimensionality of the system\n",
    "\n",
    "Phi_plus=np.array([ [np.random.rand() for i in range(-1,d-1)] for j in range(N)])\n",
    "local_state=Phi_plus\n",
    "local_state=swap_tensor_identity(local_state, (3,0))\n",
    "local_state=swap_tensor_identity(local_state, (2,3))\n",
    "local_state=swap_tensor_identity(local_state, (1,2))"
   ]
  },
  {
   "cell_type": "code",
   "execution_count": 58,
   "id": "c536ad89-0527-40c6-88b7-618bb0957610",
   "metadata": {},
   "outputs": [
    {
     "data": {
      "text/plain": [
       "array([[0.5421803 , 0.10684483],\n",
       "       [0.76674341, 0.40250495],\n",
       "       [0.98470778, 0.8753654 ],\n",
       "       [0.04026931, 0.98993984]])"
      ]
     },
     "execution_count": 58,
     "metadata": {},
     "output_type": "execute_result"
    }
   ],
   "source": [
    "Phi_plus"
   ]
  },
  {
   "cell_type": "code",
   "execution_count": 59,
   "id": "8fe150f3-dcb2-46e2-89e6-97171198b177",
   "metadata": {},
   "outputs": [
    {
     "data": {
      "text/plain": [
       "array([[0.04026931, 0.10684483],\n",
       "       [0.5421803 , 0.40250495],\n",
       "       [0.76674341, 0.8753654 ],\n",
       "       [0.98470778, 0.98993984]])"
      ]
     },
     "execution_count": 59,
     "metadata": {},
     "output_type": "execute_result"
    }
   ],
   "source": [
    "local_state"
   ]
  },
  {
   "cell_type": "code",
   "execution_count": 269,
   "id": "f07d3dba-4bfe-4ad3-ad11-b5c16294e67b",
   "metadata": {},
   "outputs": [
    {
     "name": "stdout",
     "output_type": "stream",
     "text": [
      "SVD Values:\n",
      "SVD 0: [1.41421356 1.41421356]\n",
      "SVD 1: [1.41421356 1.41421356]\n",
      "\n",
      "MPS Matrices:\n",
      "MPS Matrix 0:\n",
      " [[-0.70710678  0.        ]\n",
      " [ 0.         -0.70710678]\n",
      " [ 0.          0.        ]\n",
      " [ 0.          0.        ]\n",
      " [ 0.          0.        ]\n",
      " [ 0.          0.        ]\n",
      " [-0.70710678  0.        ]\n",
      " [ 0.         -0.70710678]\n",
      " [ 0.          0.        ]\n",
      " [ 0.          0.        ]\n",
      " [ 0.          0.        ]\n",
      " [ 0.          0.        ]\n",
      " [ 0.          0.        ]\n",
      " [ 0.          0.        ]\n",
      " [ 0.          0.        ]\n",
      " [ 0.          0.        ]\n",
      " [ 0.          0.        ]\n",
      " [ 0.          0.        ]\n",
      " [ 0.          0.        ]\n",
      " [ 0.          0.        ]\n",
      " [ 0.          0.        ]\n",
      " [ 0.          0.        ]\n",
      " [ 0.          0.        ]\n",
      " [ 0.          0.        ]\n",
      " [ 0.          0.        ]\n",
      " [ 0.          0.        ]\n",
      " [ 0.          0.        ]\n",
      " [ 0.          0.        ]\n",
      " [ 0.          0.        ]\n",
      " [ 0.          0.        ]\n",
      " [ 0.          0.        ]\n",
      " [ 0.          0.        ]\n",
      " [ 0.          0.        ]\n",
      " [ 0.          0.        ]\n",
      " [ 0.          0.        ]\n",
      " [ 0.          0.        ]\n",
      " [ 0.          0.        ]\n",
      " [ 0.          0.        ]\n",
      " [ 0.          0.        ]\n",
      " [ 0.          0.        ]\n",
      " [ 0.          0.        ]\n",
      " [ 0.          0.        ]\n",
      " [ 0.          0.        ]\n",
      " [ 0.          0.        ]\n",
      " [ 0.          0.        ]\n",
      " [ 0.          0.        ]\n",
      " [ 0.          0.        ]\n",
      " [ 0.          0.        ]\n",
      " [ 0.          0.        ]\n",
      " [ 0.          0.        ]\n",
      " [ 0.          0.        ]\n",
      " [ 0.          0.        ]\n",
      " [ 0.          0.        ]\n",
      " [ 0.          0.        ]\n",
      " [ 0.          0.        ]\n",
      " [ 0.          0.        ]\n",
      " [ 0.          0.        ]\n",
      " [ 0.          0.        ]\n",
      " [ 0.          0.        ]\n",
      " [ 0.          0.        ]\n",
      " [ 0.          0.        ]\n",
      " [ 0.          0.        ]\n",
      " [ 0.          0.        ]\n",
      " [ 0.          0.        ]\n",
      " [ 0.          0.        ]\n",
      " [ 0.          0.        ]\n",
      " [ 0.          0.        ]\n",
      " [ 0.          0.        ]\n",
      " [ 0.          0.        ]\n",
      " [ 0.          0.        ]\n",
      " [ 0.          0.        ]\n",
      " [ 0.          0.        ]\n",
      " [ 0.          0.        ]\n",
      " [ 0.          0.        ]\n",
      " [ 0.          0.        ]\n",
      " [ 0.          0.        ]\n",
      " [ 0.          0.        ]\n",
      " [ 0.          0.        ]\n",
      " [ 0.          0.        ]\n",
      " [ 0.          0.        ]\n",
      " [ 0.          0.        ]\n",
      " [ 0.          0.        ]\n",
      " [ 0.          0.        ]\n",
      " [ 0.          0.        ]\n",
      " [ 0.          0.        ]\n",
      " [ 0.          0.        ]\n",
      " [ 0.          0.        ]\n",
      " [ 0.          0.        ]\n",
      " [ 0.          0.        ]\n",
      " [ 0.          0.        ]\n",
      " [ 0.          0.        ]\n",
      " [ 0.          0.        ]\n",
      " [ 0.          0.        ]\n",
      " [ 0.          0.        ]\n",
      " [ 0.          0.        ]\n",
      " [ 0.          0.        ]\n",
      " [ 0.          0.        ]\n",
      " [ 0.          0.        ]\n",
      " [ 0.          0.        ]\n",
      " [ 0.          0.        ]\n",
      " [ 0.          0.        ]\n",
      " [ 0.          0.        ]\n",
      " [ 0.          0.        ]\n",
      " [ 0.          0.        ]\n",
      " [ 0.          0.        ]\n",
      " [ 0.          0.        ]\n",
      " [ 0.          0.        ]\n",
      " [ 0.          0.        ]\n",
      " [ 0.          0.        ]\n",
      " [ 0.          0.        ]\n",
      " [ 0.          0.        ]\n",
      " [ 0.          0.        ]\n",
      " [ 0.          0.        ]\n",
      " [ 0.          0.        ]\n",
      " [ 0.          0.        ]\n",
      " [ 0.          0.        ]\n",
      " [ 0.          0.        ]\n",
      " [ 0.          0.        ]\n",
      " [ 0.          0.        ]\n",
      " [ 0.          0.        ]\n",
      " [ 0.          0.        ]\n",
      " [ 0.          0.        ]\n",
      " [ 0.          0.        ]\n",
      " [ 0.          0.        ]\n",
      " [ 0.          0.        ]\n",
      " [ 0.          0.        ]\n",
      " [ 0.          0.        ]\n",
      " [ 0.          0.        ]]\n",
      "MPS Matrix 1:\n",
      " [[1. 0.]\n",
      " [0. 1.]]\n"
     ]
    }
   ],
   "source": [
    "import numpy as np\n",
    "\n",
    "def mps_decomposition(state_weights, N, d, bond_dim):\n",
    "    # Reshape the state weights into a 2D matrix of shape (d^N, d)\n",
    "    reshaped_matrix = state_weights.reshape(-1, d)\n",
    "    mps_matrices = []  # To store U matrices\n",
    "    svd_vals = []      # To store singular values\n",
    "    \n",
    "    current_matrix = reshaped_matrix\n",
    "    for n in range(N):\n",
    "        # Perform SVD\n",
    "        U, S, Vh = np.linalg.svd(current_matrix, full_matrices=False)\n",
    "\n",
    "        # Apply bond dimension cutoff\n",
    "        if bond_dim < len(S):\n",
    "            U = U[:, :bond_dim]   # Keep only the first 'bond_dim' columns of U\n",
    "            S = S[:bond_dim]      # Keep only the first 'bond_dim' singular values\n",
    "            Vh = Vh[:bond_dim, :] # Keep only the first 'bond_dim' rows of Vh\n",
    "\n",
    "        # Append U and singular values to their respective lists\n",
    "        mps_matrices.append(U)\n",
    "        svd_vals.append(S)\n",
    "\n",
    "        # Reconstruct the current_matrix for the next iteration\n",
    "        current_matrix = np.dot(np.diag(S), Vh)\n",
    "\n",
    "        # Check if current_matrix has valid dimensions for the next SVD\n",
    "        if current_matrix.shape[0] == 0:  # No remaining rows\n",
    "            break\n",
    "    \n",
    "    return svd_vals, mps_matrices\n",
    "\n",
    "# Example usage\n",
    "weights_full = np.zeros(256)\n",
    "weights_full[0] = 1  # Example input state |0000>\n",
    "weights_full[3] = 1  # Example input state |0011>\n",
    "weights_full[12] = 1  # Example input state |1100>\n",
    "weights_full[15] = 1  # Example input state |1111>\n",
    "\n",
    "N = 2  # Number of copies\n",
    "d = 2  # Physical dimension\n",
    "bond_dim = 5  # Set bond dimension cutoff\n",
    "\n",
    "svd_values, mps_matrices = mps_decomposition(weights_full, N, d, bond_dim)\n",
    "\n",
    "# Print the SVD values and MPS matrices\n",
    "print(\"SVD Values:\")\n",
    "for i, sv in enumerate(svd_values):\n",
    "    print(f\"SVD {i}:\", sv)\n",
    "\n",
    "print(\"\\nMPS Matrices:\")\n",
    "for i, matrix in enumerate(mps_matrices):\n",
    "    print(f\"MPS Matrix {i}:\\n\", matrix)"
   ]
  },
  {
   "cell_type": "code",
   "execution_count": null,
   "id": "cfc2ad39-0f46-4238-901e-86b84ca6cb90",
   "metadata": {},
   "outputs": [],
   "source": []
  },
  {
   "cell_type": "code",
   "execution_count": 121,
   "id": "2727420f-7753-4e16-919a-7c83158fb63a",
   "metadata": {},
   "outputs": [
    {
     "data": {
      "text/plain": [
       "array([[0.42758846, 0.49951572],\n",
       "       [0.74313709, 0.52018825],\n",
       "       [0.22730234, 0.26888561],\n",
       "       [0.07200348, 0.07470163]])"
      ]
     },
     "execution_count": 121,
     "metadata": {},
     "output_type": "execute_result"
    }
   ],
   "source": [
    "Phi_plus"
   ]
  },
  {
   "cell_type": "code",
   "execution_count": 122,
   "id": "435bcd66-3548-4d97-9b14-2c727f837065",
   "metadata": {},
   "outputs": [
    {
     "data": {
      "text/plain": [
       "array([[0.42758846, 0.49951572],\n",
       "       [0.22730234, 0.52018825],\n",
       "       [0.07200348, 0.26888561],\n",
       "       [0.74313709, 0.07470163]])"
      ]
     },
     "execution_count": 122,
     "metadata": {},
     "output_type": "execute_result"
    }
   ],
   "source": [
    "local_state"
   ]
  },
  {
   "cell_type": "code",
   "execution_count": 93,
   "id": "f497bb0e-8b22-421a-9af4-c46c0d8f92db",
   "metadata": {},
   "outputs": [
    {
     "data": {
      "text/plain": [
       "array([[0.67769074, 0.10646232],\n",
       "       [0.20935205, 0.12720757],\n",
       "       [0.70763754, 0.05422026],\n",
       "       [0.59056801, 0.41011425]])"
      ]
     },
     "execution_count": 93,
     "metadata": {},
     "output_type": "execute_result"
    }
   ],
   "source": [
    "Phi_plus=swap_tensor_identity(Phi_plus, (1,2))\n",
    "Phi_plus"
   ]
  },
  {
   "cell_type": "code",
   "execution_count": null,
   "id": "7f1a3366-29a9-4d77-a05f-48b4432dc3a8",
   "metadata": {},
   "outputs": [],
   "source": []
  },
  {
   "cell_type": "code",
   "execution_count": null,
   "id": "906c50f1-563a-40ab-9928-178a8b1d169f",
   "metadata": {},
   "outputs": [],
   "source": []
  },
  {
   "cell_type": "code",
   "execution_count": null,
   "id": "3a57133d-e11d-421f-801d-4994eb36db47",
   "metadata": {},
   "outputs": [],
   "source": []
  }
 ],
 "metadata": {
  "kernelspec": {
   "display_name": "Python 3 (ipykernel)",
   "language": "python",
   "name": "python3"
  },
  "language_info": {
   "codemirror_mode": {
    "name": "ipython",
    "version": 3
   },
   "file_extension": ".py",
   "mimetype": "text/x-python",
   "name": "python",
   "nbconvert_exporter": "python",
   "pygments_lexer": "ipython3",
   "version": "3.11.7"
  }
 },
 "nbformat": 4,
 "nbformat_minor": 5
}
