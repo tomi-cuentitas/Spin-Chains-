{
 "cells": [
  {
   "cell_type": "code",
   "execution_count": 41,
   "id": "db13de6b-a928-417f-8efa-05230d809d5e",
   "metadata": {},
   "outputs": [
    {
     "name": "stdout",
     "output_type": "stream",
     "text": [
      "[ 1 10  2 20  3 30  4 40]\n",
      "[ 2 10  1 20  3 30  4 40]\n"
     ]
    }
   ],
   "source": [
    "import numpy as np\n",
    "\n",
    "def swap_tensor_identity(state, indices, phys_dim):\n",
    "    state = np.array(state)\n",
    "    \n",
    "    n = state.size // 2\n",
    "    if len(indices) != 2:\n",
    "        raise ValueError(\"Exactly two indices must be provided.\")\n",
    "    \n",
    "    i, j = indices; d=phys_dim\n",
    "    if i >= n or j >= n or i < 0 or j < 0:\n",
    "        raise ValueError(\"Indices must be within the dimensions of the state.\")\n",
    "\n",
    "    swapped_state = np.zeros_like(state)\n",
    "\n",
    "    # Perform the SWAP * Identity operation\n",
    "    for k in range(n):\n",
    "        # Copy the second part of the pairs unchanged\n",
    "        swapped_state[d*k+1] = state[d*k+1]  # Second indices remain the same\n",
    "        \n",
    "        if k == i:\n",
    "            swapped_state[d*i] = state[d*j]  # Swap first part of i with j\n",
    "        elif k == j:\n",
    "            swapped_state[d*j] = state[d*i]  # Swap first part of j with i\n",
    "        else:\n",
    "            swapped_state[d*k] = state[d*k]  # Keep other first parts unchanged\n",
    "            \n",
    "    return swapped_state\n",
    "\n",
    "# Example usage\n",
    "state = np.array([1, 10, 2, 20, 3, 30, 4, 40])  # |00|01|00>\n",
    "swapped_state = swap_tensor_identity(state, (0, 1), d)\n",
    "print(state)\n",
    "print(swapped_state) "
   ]
  },
  {
   "cell_type": "code",
   "execution_count": 17,
   "id": "ab4ccce5-f5c5-4dc7-a876-866e9f98e8bf",
   "metadata": {},
   "outputs": [],
   "source": [
    "N=4 # number of copies \n",
    "d=2 # internal dimensionality of the system\n",
    "\n",
    "Phi_plus=np.array([ [np.random.rand() for i in range(-1,d-1)] for j in range(N)])"
   ]
  },
  {
   "cell_type": "code",
   "execution_count": 18,
   "id": "2727420f-7753-4e16-919a-7c83158fb63a",
   "metadata": {},
   "outputs": [
    {
     "data": {
      "text/plain": [
       "array([[0.49956873, 0.4040745 ],\n",
       "       [0.87829859, 0.26140389],\n",
       "       [0.17921457, 0.05301662],\n",
       "       [0.35465452, 0.00362765]])"
      ]
     },
     "execution_count": 18,
     "metadata": {},
     "output_type": "execute_result"
    }
   ],
   "source": [
    "Phi_plus"
   ]
  },
  {
   "cell_type": "code",
   "execution_count": 20,
   "id": "f497bb0e-8b22-421a-9af4-c46c0d8f92db",
   "metadata": {},
   "outputs": [
    {
     "data": {
      "text/plain": [
       "array([[0.49956873, 0.4040745 ],\n",
       "       [0.87829859, 0.26140389],\n",
       "       [0.87829859, 0.26140389],\n",
       "       [0.35465452, 0.00362765]])"
      ]
     },
     "execution_count": 20,
     "metadata": {},
     "output_type": "execute_result"
    }
   ],
   "source": [
    "Phi_plus=SWAPed(Phi_plus, (0,1))\n",
    "Phi_plus"
   ]
  },
  {
   "cell_type": "code",
   "execution_count": null,
   "id": "7f1a3366-29a9-4d77-a05f-48b4432dc3a8",
   "metadata": {},
   "outputs": [],
   "source": []
  },
  {
   "cell_type": "code",
   "execution_count": null,
   "id": "906c50f1-563a-40ab-9928-178a8b1d169f",
   "metadata": {},
   "outputs": [],
   "source": []
  }
 ],
 "metadata": {
  "kernelspec": {
   "display_name": "Python 3 (ipykernel)",
   "language": "python",
   "name": "python3"
  },
  "language_info": {
   "codemirror_mode": {
    "name": "ipython",
    "version": 3
   },
   "file_extension": ".py",
   "mimetype": "text/x-python",
   "name": "python",
   "nbconvert_exporter": "python",
   "pygments_lexer": "ipython3",
   "version": "3.11.7"
  }
 },
 "nbformat": 4,
 "nbformat_minor": 5
}
