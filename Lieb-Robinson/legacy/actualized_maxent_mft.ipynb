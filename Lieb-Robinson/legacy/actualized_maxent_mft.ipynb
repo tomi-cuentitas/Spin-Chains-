{
 "cells": [
  {
   "cell_type": "code",
   "execution_count": 1,
   "id": "e4d03e90-4568-45ad-9112-e468580e4d6a",
   "metadata": {},
   "outputs": [],
   "source": [
    "import qutip, pickle, sys\n",
    "import matplotlib.pyplot as plt \n",
    "import numpy as np\n",
    "import scipy.optimize as opt \n",
    "import scipy.linalg as linalg\n",
    "import time as time\n",
    "import math, cmath\n",
    "\n",
    "from datetime import datetime\n",
    "from qutip.qobj import Qobj\n",
    "from collections.abc import Iterable\n",
    "from typing import Callable, List, Optional, Tuple\n",
    "from datetime import datetime\n",
    "from scipy.integrate import odeint, solve_ivp"
   ]
  },
  {
   "cell_type": "code",
   "execution_count": 2,
   "id": "b983a4e0-2160-4740-b2c8-9fdc1578ddab",
   "metadata": {},
   "outputs": [],
   "source": [
    "import sys \n",
    "path = 'C:/Users/Tomas/PhD_Physics/3rd_Year/Max-Ent_Library'\n",
    "sys.path.insert(1, path) \n",
    "\n",
    "import a_quantum_geometries as gij\n",
    "import b_spin_ops as su2\n",
    "import c_maxent_tools as me"
   ]
  },
  {
   "cell_type": "code",
   "execution_count": 143,
   "id": "37881403-1f9a-4bae-a869-5694be7844df",
   "metadata": {},
   "outputs": [],
   "source": [
    "params={}\n",
    "\n",
    "params['size']=6\n",
    "params['beta']=1.\n",
    "\n",
    "params['omega']=.5*np.pi*2.; \n",
    "\n",
    "params['Jx']=5*10**-1*params['omega']; params['Jy'] = .75*params['Jx']; params['Jz']=.5*params['Jx']; params['chain_type']='XY'"
   ]
  },
  {
   "cell_type": "code",
   "execution_count": 144,
   "id": "2f316fb2-6f1f-4e16-b5da-04fcf9a034a6",
   "metadata": {},
   "outputs": [],
   "source": [
    "spin_ops=su2.one_body_spin_ops(args=params)\n",
    "\n",
    "idop=spin_ops['idop']\n",
    "sx_total=sum(sx for sx in spin_ops['sx'])\n",
    "sy_total=sum(sx for sx in spin_ops['sy'])\n",
    "sz_total=sum(sx for sx in spin_ops['sz'])"
   ]
  },
  {
   "cell_type": "code",
   "execution_count": 145,
   "id": "fef88e45-1b7a-4a21-8e81-25739e62765c",
   "metadata": {},
   "outputs": [],
   "source": [
    "H0=params['omega']*sz_total\n",
    "Hint=1.*su2.Heisenberg_1D_Hamiltonian(spin_ops=spin_ops, args=params)\n",
    "HXYZ=H0+Hint\n",
    "vLR=max(params['Jx'], params['Jy'], params['Jz'])"
   ]
  },
  {
   "cell_type": "code",
   "execution_count": 146,
   "id": "3c143102-d05f-4f7f-9293-ba6b5b0c9338",
   "metadata": {},
   "outputs": [
    {
     "data": {
      "text/plain": [
       "array([4.92160769e-01, 1.42572586e-17, 1.62630326e-19, 5.42101086e-20,\n",
       "       0.00000000e+00, 0.00000000e+00])"
      ]
     },
     "execution_count": 146,
     "metadata": {},
     "output_type": "execute_result"
    }
   ],
   "source": [
    "HBB0=[idop, spin_ops['sx'][0], spin_ops['sy'][0], spin_ops['sz'][0]]\n",
    "phi0=[0., -.25, -.25, -5]\n",
    "K0 = gij.Kstate_from_phi_basis(phi=phi0, basis=HBB0)\n",
    "sigma0=gij.safe_expm_and_normalize(K=K0)\n",
    "phi0[0]=np.log(sigma0.tr())\n",
    "K0 = gij.Kstate_from_phi_basis(phi=phi0, basis=HBB0)\n",
    "sigma0=gij.safe_expm_and_normalize(K=K0)\n",
    "#HBB0+=[K0]\n",
    "\n",
    "qutip.expect(spin_ops['sz'], sigma0)"
   ]
  },
  {
   "cell_type": "code",
   "execution_count": 147,
   "id": "1053a574-dd43-4e80-8be3-af0c048689e5",
   "metadata": {},
   "outputs": [
    {
     "data": {
      "text/plain": [
       "0.5729577951308232"
      ]
     },
     "execution_count": 147,
     "metadata": {},
     "output_type": "execute_result"
    }
   ],
   "source": [
    "N=100\n",
    "ell_max=2\n",
    "T=.45*ell_max/vLR; \n",
    "timespan = np.linspace(0,T,N)\n",
    "timespan[-1]"
   ]
  },
  {
   "cell_type": "code",
   "execution_count": 148,
   "id": "973e8844-3425-47b4-8229-3de2c977c193",
   "metadata": {},
   "outputs": [],
   "source": [
    "resex_XYZ=qutip.mesolve(H=HXYZ, rho0=K0, tlist=timespan)\n",
    "rhos_XYZ=[gij.safe_expm_and_normalize(K=Kt) for Kt in resex_XYZ.states]"
   ]
  },
  {
   "cell_type": "code",
   "execution_count": 150,
   "id": "d63cb2db-7024-482b-b727-c5a444d61ba6",
   "metadata": {},
   "outputs": [],
   "source": [
    "def mft_restricted_maxent(generator: Qobj, basis0: List[Qobj], phi0: np.array, vLR: float, tlist: np.array):\n",
    "\n",
    "    ells=[ell for ell in range(0, int((vLR)*tlist[-1])+2,1)]\n",
    "    tcuts=[ell/(vLR) for ell in ells]\n",
    "\n",
    "    sliced_times=[]\n",
    "    for d in range(len(tcuts)):\n",
    "        local_tlist=np.array([t for t in tlist if t >= tcuts[d-1] and t < tcuts[d]])\n",
    "        sliced_times.append(local_tlist)\n",
    "    sliced_times.append(([t for t in tlist if t >= tcuts[-1]]))\n",
    "\n",
    "    list_of_last_mft_phi0s=[phi0]\n",
    "    list_of_last_mft_sigmas=[gij.safe_expm_and_normalize(K=gij.Kstate_from_phi_basis(phi0,basis0))]\n",
    "\n",
    "    all_phit=[phi0]; all_Kts=[[K0]]; all_res=[]\n",
    "    \n",
    "    for ell in ells[1:]:\n",
    "        print(\"*** Starting simulation: d=\", ell)\n",
    "\n",
    "        ###\n",
    "        local_O=all_Kts[ell-1][-1]\n",
    "        orth_basis0=gij.orthogonalize_basis(basis0, gij.fetch_covar_scalar_product(list_of_last_mft_sigmas[-1]))\n",
    "        phi_mft=list_of_last_mft_phi0s[-1]; K_mft=gij.Kstate_from_phi_basis(phi_mft, basis0); #print(K_mft.dims[0])\n",
    "        \n",
    "        list_of_last_mft_sigmas.append(gij.safe_expm_and_normalize(K_mft));sp_local=gij.fetch_covar_scalar_product(list_of_last_mft_sigmas[-1])\n",
    "        print(\"MFT Projection Error ||Kmft-K||\", linalg.norm(K_mft-local_O, 1), \"T0 = \", sliced_times[ell][0])\n",
    "        ###\n",
    "\n",
    "        basis_ell=basis0+gij.build_HierarchicalBasis(generator=generator, seed_operator=all_Kts[ell-1][-1], depth=1)\n",
    "        phi0_mft=np.array(list(phi_mft) + [.0 for i in range(0, len(basis_ell) - len(phi_mft))])\n",
    "        inv_gram_matrix=qutip.Qobj(linalg.pinv(gij.gram_matrix(basis=basis_ell, sp=sp_local)))\n",
    "        Hij_tensor=qutip.Qobj(gij.Hij_tensor(basis=basis_ell, generator=generator, sp=sp_local))\n",
    "\n",
    "        phit_ell=np.array([(inv_gram_matrix*Hij_tensor*(t-sliced_times[ell][0])).expm() * phi0_mft for t in sliced_times[ell]])\n",
    "        K_at_timet=[gij.Kstate_from_phi_basis(phi=phit_ell_timeti, basis=basis_ell) for phit_ell_timeti in phit_ell]\n",
    "        list_of_last_mft_phi0s.append(phi0[0:len(basis0)])\n",
    "        all_phit.append(all_phit); all_Kts.append(K_at_timet)\n",
    "        \n",
    "    print(\"*** Finishing simulation\")\n",
    "    return all_phit, all_Kts"
   ]
  },
  {
   "cell_type": "code",
   "execution_count": 154,
   "id": "fb3ce3bc-5bc2-4917-8c35-ebf639bfb530",
   "metadata": {},
   "outputs": [
    {
     "name": "stdout",
     "output_type": "stream",
     "text": [
      "*** Starting simulation: d= 1\n",
      "MFT Projection Error ||Kmft-K|| 0.0 T0 =  0.0\n",
      "*** Starting simulation: d= 2\n",
      "MFT Projection Error ||Kmft-K|| 2.552870574290743 T0 =  0.3183098861837907\n",
      "*** Finishing simulation\n"
     ]
    }
   ],
   "source": [
    "all_phit, all_Kts =mft_restricted_maxent(generator=HXYZ, phi0=phi0, basis0=HBB0, vLR=2*vLR, tlist=timespan)"
   ]
  },
  {
   "cell_type": "code",
   "execution_count": 159,
   "id": "dcfb571a-2ceb-4cd3-8ea9-36b7d4d7d5c1",
   "metadata": {},
   "outputs": [
    {
     "data": {
      "text/plain": [
       "100"
      ]
     },
     "execution_count": 159,
     "metadata": {},
     "output_type": "execute_result"
    }
   ],
   "source": [
    "#Kmaxent=all_Kts[0]\n",
    "Kmaxent=all_Kts[1]\n",
    "Kmaxent+=all_Kts[2]\n",
    "#Kmaxent+=all_Kts[3]\n",
    "#Kmaxent+=all_Kts[4]\n",
    "len(Kmaxent)"
   ]
  },
  {
   "cell_type": "code",
   "execution_count": 160,
   "id": "2f92c530-79a5-4fae-9a3a-d661fdee0c79",
   "metadata": {},
   "outputs": [
    {
     "data": {
      "image/png": "[encoded data removed]",
      "text/plain": [
       "<Figure size 800x600 with 1 Axes>"
      ]
     },
     "metadata": {},
     "output_type": "display_data"
    }
   ],
   "source": [
    "#obs1=spin_ops['sy'][2]*spin_ops['sy'][3]\n",
    "obs=sz_total\n",
    "sigma_maxent=[gij.safe_expm_and_normalize(K=Kti) for Kti in Kmaxent]\n",
    "obs_evex=np.array([(rho*obs).tr() for rho in rhos_XYZ])\n",
    "obs_maxent=np.array([(sigmat*obs).tr() for sigmat in sigma_maxent])\n",
    "\n",
    "fig0,ax0=plt.subplots(figsize=(8,6))\n",
    "list_of_colors_1=['r','g', 'b']\n",
    "\n",
    "#Knorms=np.array([linalg.norm(Kex_ti- Kmaxent_ti) for Kex_ti, Kmaxent_ti in zip(resex_XY.states, Kmaxent)])\n",
    "\n",
    "plt.plot(timespan, obs_evex, label='Exact', linestyle='dashed')\n",
    "plt.scatter(timespan, obs_maxent, label=r'MFT(1) - Restricted')\n",
    "\n",
    "#plt.plot(timespan, Knorms)\n",
    "\n",
    "ax0.legend(loc=0)\n",
    "plt.xlabel(\"Time[s]\")\n",
    "plt.ylabel(r\"$\\langle O \\rangle_{\\sigma^\\ell}$\")\n",
    "plt.show()"
   ]
  },
  {
   "cell_type": "code",
   "execution_count": null,
   "id": "ce763368-5f26-42cb-8dd1-50eae2ae94ef",
   "metadata": {},
   "outputs": [],
   "source": []
  }
 ],
 "metadata": {
  "kernelspec": {
   "display_name": "Python 3 (ipykernel)",
   "language": "python",
   "name": "python3"
  },
  "language_info": {
   "codemirror_mode": {
    "name": "ipython",
    "version": 3
   },
   "file_extension": ".py",
   "mimetype": "text/x-python",
   "name": "python",
   "nbconvert_exporter": "python",
   "pygments_lexer": "ipython3",
   "version": "3.11.7"
  }
 },
 "nbformat": 4,
 "nbformat_minor": 5
}
