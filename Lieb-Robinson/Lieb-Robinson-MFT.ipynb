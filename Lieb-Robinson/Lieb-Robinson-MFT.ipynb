{
 "cells": [
  {
   "cell_type": "code",
   "execution_count": 1,
   "id": "e4d03e90-4568-45ad-9112-e468580e4d6a",
   "metadata": {},
   "outputs": [],
   "source": [
    "import qutip, pickle, sys\n",
    "import matplotlib.pyplot as plt \n",
    "import numpy as np\n",
    "import scipy.optimize as opt \n",
    "import scipy.linalg as linalg\n",
    "import time as time\n",
    "import math, cmath\n",
    "\n",
    "from datetime import datetime\n",
    "from qutip.qobj import Qobj\n",
    "from collections.abc import Iterable\n",
    "from typing import Callable, List, Optional, Tuple\n",
    "from datetime import datetime\n",
    "from scipy.integrate import odeint, solve_ivp"
   ]
  },
  {
   "cell_type": "code",
   "execution_count": 2,
   "id": "b983a4e0-2160-4740-b2c8-9fdc1578ddab",
   "metadata": {},
   "outputs": [],
   "source": [
    "import sys \n",
    "path = 'C:/Users/Tomas/PhD_Physics/3rd_Year/Max-Ent_Library'\n",
    "sys.path.insert(1, path) \n",
    "\n",
    "import a_quantum_geometries as gij\n",
    "import b_spin_ops as su2\n",
    "import c_maxent_tools as me"
   ]
  },
  {
   "cell_type": "code",
   "execution_count": 3,
   "id": "37881403-1f9a-4bae-a869-5694be7844df",
   "metadata": {},
   "outputs": [],
   "source": [
    "params={}\n",
    "\n",
    "params['size']=6\n",
    "params['beta']=1.\n",
    "\n",
    "params['Jx']=5*10**-1; params['Jy'] = .75*params['Jx']; params['Jz']=.5*params['Jx']; params['chain_type']='XY'"
   ]
  },
  {
   "cell_type": "code",
   "execution_count": 4,
   "id": "2f316fb2-6f1f-4e16-b5da-04fcf9a034a6",
   "metadata": {},
   "outputs": [],
   "source": [
    "spin_ops=su2.one_body_spin_ops(args=params)\n",
    "\n",
    "idop=spin_ops['idop']\n",
    "sx_total=sum(sx for sx in spin_ops['sx'])\n",
    "sy_total=sum(sx for sx in spin_ops['sy'])\n",
    "sz_total=sum(sx for sx in spin_ops['sz'])"
   ]
  },
  {
   "cell_type": "code",
   "execution_count": 5,
   "id": "fef88e45-1b7a-4a21-8e81-25739e62765c",
   "metadata": {},
   "outputs": [],
   "source": [
    "H0=params['Jx']*sz_total\n",
    "Hint=1.*su2.Heisenberg_1D_Hamiltonian(spin_ops=spin_ops, args=params)\n",
    "HXY=H0+Hint\n",
    "vLR=2*max(params['Jx'], params['Jy'], params['Jz'])"
   ]
  },
  {
   "cell_type": "code",
   "execution_count": 6,
   "id": "3c143102-d05f-4f7f-9293-ba6b5b0c9338",
   "metadata": {},
   "outputs": [
    {
     "data": {
      "text/plain": [
       "array([4.92160769e-01, 1.42572586e-17, 1.62630326e-19, 5.42101086e-20,\n",
       "       0.00000000e+00, 0.00000000e+00])"
      ]
     },
     "execution_count": 6,
     "metadata": {},
     "output_type": "execute_result"
    }
   ],
   "source": [
    "HBB0=[idop, spin_ops['sx'][0], spin_ops['sy'][0], spin_ops['sz'][0]]\n",
    "phi0=np.array([0., -.25, -.25, -5])\n",
    "K0 = gij.Kstate_from_phi_basis(phi=phi0, basis=HBB0)\n",
    "sigma0=gij.safe_expm_and_normalize(K=K0)\n",
    "phi0[0]=np.log(sigma0.tr())\n",
    "K0 = gij.Kstate_from_phi_basis(phi=phi0, basis=HBB0)\n",
    "sigma0=gij.safe_expm_and_normalize(K=K0)\n",
    "#HBB0+=[K0]\n",
    "\n",
    "qutip.expect(spin_ops['sz'], sigma0)"
   ]
  },
  {
   "cell_type": "code",
   "execution_count": 7,
   "id": "d63cb2db-7024-482b-b727-c5a444d61ba6",
   "metadata": {},
   "outputs": [],
   "source": [
    "def slice_times(tlist: np.array, tcuts: List[float]):\n",
    "    sliced_times=[np.array([t for t in tlist if t <= tcuts[1]])]\n",
    "    for d in range(2,len(tcuts)):\n",
    "        local_tlist=np.array([t for t in tlist if t > tcuts[d-1] and t <= tcuts[d]])\n",
    "        sliced_times.append(local_tlist) \n",
    "        \n",
    "    if tlist[-1] > tcuts[-1]:\n",
    "        sliced_times.append(np.array([t for t in timespan if t > tcuts[-1]]))\n",
    "    return sliced_times"
   ]
  },
  {
   "cell_type": "code",
   "execution_count": 43,
   "id": "8938f751-8d63-481f-96be-52ac621bcd6d",
   "metadata": {},
   "outputs": [
    {
     "data": {
      "text/plain": [
       "[0.0, 1.0033444816053512, 2.0066889632107023]"
      ]
     },
     "execution_count": 43,
     "metadata": {},
     "output_type": "execute_result"
    }
   ],
   "source": [
    "Tmax=2.5/(vLR)\n",
    "N=300\n",
    "timespan=np.linspace(0, Tmax, N)\n",
    "ells=[ell for ell in range(0, int((vLR)*timespan[-1])+1,1)]\n",
    "tcuts=[ell/(vLR) for ell in ells]\n",
    "sliced_times=slice_times(timespan, tcuts)\n",
    "[sliced_times[ell][0] for ell in ells]"
   ]
  },
  {
   "cell_type": "code",
   "execution_count": 44,
   "id": "e51c10fd-fba5-44a7-8f0f-5bb4cf83df44",
   "metadata": {},
   "outputs": [
    {
     "data": {
      "text/plain": [
       "[array([0.        , 0.0083612 , 0.01672241, 0.02508361, 0.03344482,\n",
       "        0.04180602, 0.05016722, 0.05852843, 0.06688963, 0.07525084,\n",
       "        0.08361204, 0.09197324, 0.10033445, 0.10869565, 0.11705686,\n",
       "        0.12541806, 0.13377926, 0.14214047, 0.15050167, 0.15886288,\n",
       "        0.16722408, 0.17558528, 0.18394649, 0.19230769, 0.2006689 ,\n",
       "        0.2090301 , 0.2173913 , 0.22575251, 0.23411371, 0.24247492,\n",
       "        0.25083612, 0.25919732, 0.26755853, 0.27591973, 0.28428094,\n",
       "        0.29264214, 0.30100334, 0.30936455, 0.31772575, 0.32608696,\n",
       "        0.33444816, 0.34280936, 0.35117057, 0.35953177, 0.36789298,\n",
       "        0.37625418, 0.38461538, 0.39297659, 0.40133779, 0.409699  ,\n",
       "        0.4180602 , 0.4264214 , 0.43478261, 0.44314381, 0.45150502,\n",
       "        0.45986622, 0.46822742, 0.47658863, 0.48494983, 0.49331104,\n",
       "        0.50167224, 0.51003344, 0.51839465, 0.52675585, 0.53511706,\n",
       "        0.54347826, 0.55183946, 0.56020067, 0.56856187, 0.57692308,\n",
       "        0.58528428, 0.59364548, 0.60200669, 0.61036789, 0.6187291 ,\n",
       "        0.6270903 , 0.63545151, 0.64381271, 0.65217391, 0.66053512,\n",
       "        0.66889632, 0.67725753, 0.68561873, 0.69397993, 0.70234114,\n",
       "        0.71070234, 0.71906355, 0.72742475, 0.73578595, 0.74414716,\n",
       "        0.75250836, 0.76086957, 0.76923077, 0.77759197, 0.78595318,\n",
       "        0.79431438, 0.80267559, 0.81103679, 0.81939799, 0.8277592 ,\n",
       "        0.8361204 , 0.84448161, 0.85284281, 0.86120401, 0.86956522,\n",
       "        0.87792642, 0.88628763, 0.89464883, 0.90301003, 0.91137124,\n",
       "        0.91973244, 0.92809365, 0.93645485, 0.94481605, 0.95317726,\n",
       "        0.96153846, 0.96989967, 0.97826087, 0.98662207, 0.99498328]),\n",
       " array([1.00334448, 1.01170569, 1.02006689, 1.02842809, 1.0367893 ,\n",
       "        1.0451505 , 1.05351171, 1.06187291, 1.07023411, 1.07859532,\n",
       "        1.08695652, 1.09531773, 1.10367893, 1.11204013, 1.12040134,\n",
       "        1.12876254, 1.13712375, 1.14548495, 1.15384615, 1.16220736,\n",
       "        1.17056856, 1.17892977, 1.18729097, 1.19565217, 1.20401338,\n",
       "        1.21237458, 1.22073579, 1.22909699, 1.23745819, 1.2458194 ,\n",
       "        1.2541806 , 1.26254181, 1.27090301, 1.27926421, 1.28762542,\n",
       "        1.29598662, 1.30434783, 1.31270903, 1.32107023, 1.32943144,\n",
       "        1.33779264, 1.34615385, 1.35451505, 1.36287625, 1.37123746,\n",
       "        1.37959866, 1.38795987, 1.39632107, 1.40468227, 1.41304348,\n",
       "        1.42140468, 1.42976589, 1.43812709, 1.44648829, 1.4548495 ,\n",
       "        1.4632107 , 1.47157191, 1.47993311, 1.48829431, 1.49665552,\n",
       "        1.50501672, 1.51337793, 1.52173913, 1.53010033, 1.53846154,\n",
       "        1.54682274, 1.55518395, 1.56354515, 1.57190635, 1.58026756,\n",
       "        1.58862876, 1.59698997, 1.60535117, 1.61371237, 1.62207358,\n",
       "        1.63043478, 1.63879599, 1.64715719, 1.65551839, 1.6638796 ,\n",
       "        1.6722408 , 1.68060201, 1.68896321, 1.69732441, 1.70568562,\n",
       "        1.71404682, 1.72240803, 1.73076923, 1.73913043, 1.74749164,\n",
       "        1.75585284, 1.76421405, 1.77257525, 1.78093645, 1.78929766,\n",
       "        1.79765886, 1.80602007, 1.81438127, 1.82274247, 1.83110368,\n",
       "        1.83946488, 1.84782609, 1.85618729, 1.86454849, 1.8729097 ,\n",
       "        1.8812709 , 1.88963211, 1.89799331, 1.90635452, 1.91471572,\n",
       "        1.92307692, 1.93143813, 1.93979933, 1.94816054, 1.95652174,\n",
       "        1.96488294, 1.97324415, 1.98160535, 1.98996656, 1.99832776]),\n",
       " array([2.00668896, 2.01505017, 2.02341137, 2.03177258, 2.04013378,\n",
       "        2.04849498, 2.05685619, 2.06521739, 2.0735786 , 2.0819398 ,\n",
       "        2.090301  , 2.09866221, 2.10702341, 2.11538462, 2.12374582,\n",
       "        2.13210702, 2.14046823, 2.14882943, 2.15719064, 2.16555184,\n",
       "        2.17391304, 2.18227425, 2.19063545, 2.19899666, 2.20735786,\n",
       "        2.21571906, 2.22408027, 2.23244147, 2.24080268, 2.24916388,\n",
       "        2.25752508, 2.26588629, 2.27424749, 2.2826087 , 2.2909699 ,\n",
       "        2.2993311 , 2.30769231, 2.31605351, 2.32441472, 2.33277592,\n",
       "        2.34113712, 2.34949833, 2.35785953, 2.36622074, 2.37458194,\n",
       "        2.38294314, 2.39130435, 2.39966555, 2.40802676, 2.41638796,\n",
       "        2.42474916, 2.43311037, 2.44147157, 2.44983278, 2.45819398,\n",
       "        2.46655518, 2.47491639, 2.48327759, 2.4916388 , 2.5       ])]"
      ]
     },
     "execution_count": 44,
     "metadata": {},
     "output_type": "execute_result"
    }
   ],
   "source": [
    "sliced_times"
   ]
  },
  {
   "cell_type": "code",
   "execution_count": 45,
   "id": "b3c02c29-7040-4ea0-ade9-4495aadb9d20",
   "metadata": {},
   "outputs": [],
   "source": [
    "sp_local=gij.fetch_covar_scalar_product(sigma=idop/idop.tr())\n",
    "HHBB0_orth=gij.orthogonalize_basis(basis=HBB0, sp=sp_local)\n",
    "phi0_proj, K0_proj=gij.proj_op(basis=HHBB0_orth, sp=sp_local, K=K0)"
   ]
  },
  {
   "cell_type": "code",
   "execution_count": 46,
   "id": "f34b22a0-b16e-4cc4-8336-efebb3dd6dec",
   "metadata": {},
   "outputs": [
    {
     "data": {
      "text/latex": [
       "Quantum object: dims = [[2, 2, 2, 2, 2, 2], [2, 2, 2, 2, 2, 2]], shape = (64, 64), type = oper, isherm = True $ \\\\ \\left(\\begin{matrix}2.500 & 0.0 & 0.0 & 0.0 & 0.0 & \\cdots & 0.0 & 0.0 & 0.0 & 0.0 & 0.0\\\\0.0 & 2.500 & 0.0 & 0.0 & 0.0 & \\cdots & 0.0 & 0.0 & 0.0 & 0.0 & 0.0\\\\0.0 & 0.0 & 2.500 & 0.0 & 0.0 & \\cdots & 0.0 & 0.0 & 0.0 & 0.0 & 0.0\\\\0.0 & 0.0 & 0.0 & 2.500 & 0.0 & \\cdots & 0.0 & 0.0 & 0.0 & 0.0 & 0.0\\\\0.0 & 0.0 & 0.0 & 0.0 & 2.500 & \\cdots & 0.0 & 0.0 & 0.0 & 0.0 & 0.0\\\\\\vdots & \\vdots & \\vdots & \\vdots & \\vdots & \\ddots & \\vdots & \\vdots & \\vdots & \\vdots & \\vdots\\\\0.0 & 0.0 & 0.0 & 0.0 & 0.0 & \\cdots & -2.500 & 0.0 & 0.0 & 0.0 & 0.0\\\\0.0 & 0.0 & 0.0 & 0.0 & 0.0 & \\cdots & 0.0 & -2.500 & 0.0 & 0.0 & 0.0\\\\0.0 & 0.0 & 0.0 & 0.0 & 0.0 & \\cdots & 0.0 & 0.0 & -2.500 & 0.0 & 0.0\\\\0.0 & 0.0 & 0.0 & 0.0 & 0.0 & \\cdots & 0.0 & 0.0 & 0.0 & -2.500 & 0.0\\\\0.0 & 0.0 & 0.0 & 0.0 & 0.0 & \\cdots & 0.0 & 0.0 & 0.0 & 0.0 & -2.500\\\\\\end{matrix}\\right)$"
      ],
      "text/plain": [
       "Quantum object: dims = [[2, 2, 2, 2, 2, 2], [2, 2, 2, 2, 2, 2]], shape = (64, 64), type = oper, isherm = True\n",
       "Qobj data =\n",
       "[[ 2.5+0.j  0. +0.j  0. +0.j ...  0. +0.j  0. +0.j  0. +0.j]\n",
       " [ 0. +0.j  2.5+0.j  0. +0.j ...  0. +0.j  0. +0.j  0. +0.j]\n",
       " [ 0. +0.j  0. +0.j  2.5+0.j ...  0. +0.j  0. +0.j  0. +0.j]\n",
       " ...\n",
       " [ 0. +0.j  0. +0.j  0. +0.j ... -2.5+0.j  0. +0.j  0. +0.j]\n",
       " [ 0. +0.j  0. +0.j  0. +0.j ...  0. +0.j -2.5+0.j  0. +0.j]\n",
       " [ 0. +0.j  0. +0.j  0. +0.j ...  0. +0.j  0. +0.j -2.5+0.j]]"
      ]
     },
     "execution_count": 46,
     "metadata": {},
     "output_type": "execute_result"
    }
   ],
   "source": [
    "gij.Kstate_from_phi_basis(phi=-phi0_proj, basis=HHBB0_orth)"
   ]
  },
  {
   "cell_type": "code",
   "execution_count": 47,
   "id": "973e8844-3425-47b4-8229-3de2c977c193",
   "metadata": {},
   "outputs": [],
   "source": [
    "resex_XY=qutip.mesolve(H=HXY, rho0=K0, tlist=timespan)\n",
    "rhos_XY=[gij.safe_expm_and_normalize(K=Kt) for Kt in resex_XY.states]\n",
    "KT1_ex=resex_XY.states[list(timespan).index(sliced_times[1][-1])]"
   ]
  },
  {
   "cell_type": "code",
   "execution_count": 91,
   "id": "1717c89d-ddce-4e71-b47c-b78c7f49dd5d",
   "metadata": {},
   "outputs": [],
   "source": [
    "def actualized_max_ent(generator: Qobj, basis0: List[Qobj], phi0: np.array, tlist: np.array):\n",
    "    \n",
    "    ells=[ell for ell in range(0, int((vLR)*tlist[-1])+1,1)]\n",
    "    tcuts=[ell/(vLR) for ell in ells]\n",
    "    sliced_times=slice_times(tlist, tcuts)\n",
    "    \n",
    "    K0=gij.Kstate_from_phi_basis(phi=phi0, basis=basis0)\n",
    "    phi_at_timet=[[phi0]]; K_at_timet=[[K0]]\n",
    "    for ell in ells[0:]:\n",
    "        print(\"Starting simulation: d=\", ell)\n",
    "\n",
    "        sp_local=gij.fetch_covar_scalar_product(sigma=gij.safe_expm_and_normalize(K_at_timet[ell][-1]))\n",
    "        sp_norm=gij.fetch_op_norm(sp_local)\n",
    "        HBB_ell_act=gij.build_HierarchicalBasis(generator=generator, seed_operator=K_at_timet[ell][-1], depth=4)\n",
    "        orth_basis_act=gij.orthogonalize_basis(basis=HBB_ell_act, sp=sp_local)\n",
    "\n",
    "        ### projection\n",
    "        phi0_proj_act, K0_proj_act=gij.proj_op(K=K_at_timet[ell][-1], basis=orth_basis_act, sp=sp_local)\n",
    "        #print( linalg.norm(K0_ev - K_at_timet[ell-1][-1]) ) #<1e-5, \"Error: Dynamics discontinous due to projection error\"\n",
    "        phi0_ell_act=np.real(phi0_proj_act)\n",
    "        ###\n",
    "\n",
    "        Hij_tensor=gij.Hij_tensor(generator=generator, basis=orth_basis_act, sp=sp_local)\n",
    "        phi_ell_timet=[np.array(linalg.expm(Hij_tensor*(t-sliced_times[ell][0])) @ np.real(phi0_ell_act)) for t in sliced_times[ell]]\n",
    "        K_ell_timet=[gij.Kstate_from_phi_basis(phi=-phi_ell_timet_ti, basis=orth_basis_act) for phi_ell_timet_ti in phi_ell_timet]\n",
    "\n",
    "        phi_at_timet.append(phi_ell_timet); K_at_timet.append(K_ell_timet)\n",
    "        \n",
    "        print(\"Finishing simulation.\")\n",
    "    return phi_at_timet, K_at_timet"
   ]
  },
  {
   "cell_type": "code",
   "execution_count": 92,
   "id": "febd7c14-e549-4a95-a87d-a593b010893b",
   "metadata": {},
   "outputs": [
    {
     "name": "stdout",
     "output_type": "stream",
     "text": [
      "Starting simulation: d= 0\n",
      "Finishing simulation.\n",
      "Starting simulation: d= 1\n",
      "Finishing simulation.\n",
      "Starting simulation: d= 2\n",
      "Finishing simulation.\n"
     ]
    }
   ],
   "source": [
    "phit, Kt=actualized_max_ent(generator=HXY, basis0=HBB0, phi0=phi0, tlist=timespan)"
   ]
  },
  {
   "cell_type": "code",
   "execution_count": 93,
   "id": "8e942aee-ca7d-4466-8892-c2ddbb72b392",
   "metadata": {},
   "outputs": [
    {
     "data": {
      "text/plain": [
       "300"
      ]
     },
     "execution_count": 93,
     "metadata": {},
     "output_type": "execute_result"
    }
   ],
   "source": [
    "Kmaxent=[]\n",
    "for Ktimeti in Kt[1:]:\n",
    "    Kmaxent+=Ktimeti\n",
    "len(Kmaxent)"
   ]
  },
  {
   "cell_type": "code",
   "execution_count": 94,
   "id": "59c3ec8a-1d04-4e10-b024-a5acbb70d020",
   "metadata": {},
   "outputs": [
    {
     "data": {
      "image/png": "[encoded data removed]",
      "text/plain": [
       "<Figure size 800x600 with 1 Axes>"
      ]
     },
     "metadata": {},
     "output_type": "display_data"
    }
   ],
   "source": [
    "#obs1=spin_ops['sy'][2]*spin_ops['sy'][3]\n",
    "obs=sz_total\n",
    "sigma_maxent=[gij.safe_expm_and_normalize(K=Kti) for Kti in Kmaxent]\n",
    "obs_evex=np.array([(rho*obs).tr() for rho in rhos_XY])\n",
    "obs_maxent=np.array([(sigmat*obs).tr() for sigmat in sigma_maxent])\n",
    "\n",
    "fig0,ax0=plt.subplots(figsize=(8,6))\n",
    "list_of_colors_1=['r','g', 'b']\n",
    "\n",
    "#Knorms=np.array([linalg.norm(Kex_ti- Kmaxent_ti) for Kex_ti, Kmaxent_ti in zip(resex_XY.states, Kmaxent)])\n",
    "\n",
    "plt.plot(timespan, obs_evex, label='Exact', linestyle='dashed')\n",
    "plt.scatter(timespan, obs_maxent, label=r'LR Actualized-MaxEnt', color='red')\n",
    "\n",
    "#plt.plot(timespan, Knorms)\n",
    "\n",
    "ax0.legend(loc=0)\n",
    "plt.xlabel(\"tJ\")\n",
    "plt.ylabel(r\"$\\langle O \\rangle_{\\sigma^\\ell}$\")\n",
    "plt.show()"
   ]
  },
  {
   "cell_type": "code",
   "execution_count": null,
   "id": "d95525bc-7894-4623-977b-e4df722fefc0",
   "metadata": {},
   "outputs": [],
   "source": []
  },
  {
   "cell_type": "code",
   "execution_count": null,
   "id": "b1259956-411a-4357-aea0-7fe2524ecc9d",
   "metadata": {},
   "outputs": [],
   "source": []
  }
 ],
 "metadata": {
  "kernelspec": {
   "display_name": "Python 3 (ipykernel)",
   "language": "python",
   "name": "python3"
  },
  "language_info": {
   "codemirror_mode": {
    "name": "ipython",
    "version": 3
   },
   "file_extension": ".py",
   "mimetype": "text/x-python",
   "name": "python",
   "nbconvert_exporter": "python",
   "pygments_lexer": "ipython3",
   "version": "3.11.7"
  }
 },
 "nbformat": 4,
 "nbformat_minor": 5
}
