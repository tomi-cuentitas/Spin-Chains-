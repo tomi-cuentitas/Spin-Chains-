{
 "cells": [
  {
   "cell_type": "code",
   "execution_count": 1,
   "id": "a1aa19aa",
   "metadata": {
    "ExecuteTime": {
     "end_time": "2022-10-21T23:15:00.238826Z",
     "start_time": "2022-10-21T23:14:59.652851Z"
    },
    "hide_input": true
   },
   "outputs": [],
   "source": [
    "import qutip, pickle, sys\n",
    "import matplotlib.pyplot as plt \n",
    "import numpy as np\n",
    "import scipy.optimize as opt \n",
    "import scipy.linalg as linalg\n",
    "import time as time\n",
    "import math, cmath\n",
    "import auxiliary_library as me\n",
    "\n",
    "from IPython.display import display, Math, Latex\n",
    "np.set_printoptions(threshold=1.e-9,linewidth=120,precision=3, suppress=True, formatter={\"float\":lambda x: str(.001*int(1000*x))})"
   ]
  },
  {
   "cell_type": "code",
   "execution_count": 2,
   "id": "7ab1846d",
   "metadata": {
    "ExecuteTime": {
     "end_time": "2022-10-21T23:15:11.945228Z",
     "start_time": "2022-10-21T23:15:11.525947Z"
    },
    "hide_input": false,
    "scrolled": false
   },
   "outputs": [
    {
     "name": "stdout",
     "output_type": "stream",
     "text": [
      "Are all the operators Hermitian?: [True, True, True, True, True, True, True, True, True, True]\n"
     ]
    }
   ],
   "source": [
    "N=2; chain_type = \"XYZ\"; k_B = 1; temp = 2e-1\n",
    "\n",
    "### Construcción de los operadores\n",
    "spin_ops_list = me.one_body_spin_ops(N)\n",
    "identity_op = spin_ops_list[0][0]\n",
    "ts = np.linspace(0, 5.,500)  \n",
    "\n",
    "### Heisenberg Hamiltonian\n",
    "Hamiltonian_paras = [.2, .15, .1, 1.]\n",
    "H_H = me.Heisenberg_Hamiltonian(op_list = spin_ops_list, chain_type = chain_type,\n",
    "                                size = N, Hamiltonian_paras = Hamiltonian_paras,\n",
    "                                closed_bcs = True, visualization = False)\n",
    "\n",
    "### classical operators \n",
    "\n",
    "cl_ops, label_ops = me.classical_ops(H_H, N, spin_ops_list, False)\n",
    "magnetization = sum(spin_ops_list[3][a] for a in range(len(spin_ops_list[3])))\n",
    "neel_operator = sum((-1)**a * spin_ops_list[3][a] for a in range(len(spin_ops_list[3])))\n",
    "\n",
    "cl_ops[\"magnetization\"] = magnetization; label_ops.append(\"magnetization\")\n",
    "cl_ops[\"neel_op\"] = neel_operator; label_ops.append(\"neel_op\")\n",
    "print(\"Are all the operators Hermitian?:\", me.basis_hermitian_check(cl_ops))"
   ]
  },
  {
   "cell_type": "code",
   "execution_count": 5,
   "id": "17100951",
   "metadata": {},
   "outputs": [],
   "source": [
    "def process_multiple_proj_evs(init_coeff_list,\n",
    "                              timespan, \n",
    "                              range_temps, \n",
    "                              process_different_ref_temps = False):\n",
    "    \n",
    "    if process_different_ref_temps:\n",
    "        depth_and_seed_ops = [(1, cl_ops[\"identity_op\"]), \n",
    "                              (1, H_H), \n",
    "                              (4, spin_ops_list[1][0]),\n",
    "                             ]\n",
    "        labels = [\"Temp_\" + str(i) for i in range(len(range_temps))]\n",
    "        observables = list(cl_ops.values())\n",
    "        \n",
    "        mutiple_ev_results = {}\n",
    "        multiple_init_configs = {}; multiple_evs_data = {}; multiple_dict_res_proj_ev = {}; multiple_res_exact = {}\n",
    "        \n",
    "        for Temp_Ref in range_temps:\n",
    "            print(\"Processing step: \", range_temps.index(Temp_Ref), \"and temperature \", Temp_Ref)\n",
    "            \n",
    "            loc_coeff_list = init_coeff_list\n",
    "            \n",
    "            beta_ref = (1/Temp_Ref)\n",
    "            K_ref = - beta_ref * .5 * spin_ops_list[1][0]\n",
    "            rho_ref = (K_ref).expm()\n",
    "            custom_rho_ref = rho_ref/rho_ref.tr()\n",
    "            \n",
    "            assert me.is_density_op(custom_rho_ref), \"Error: rho_ref is not a density operator\"\n",
    "            \n",
    "            init_configs_MFT_state, evs_data, dict_res_proj_ev, res_exact = me.d_depth_proj_ev(\n",
    "                temp_ref = Temp_Ref, temp_rho = temp, \n",
    "                timespan = timespan, \n",
    "                Hamiltonian = H_H, lagrange_op = None,\n",
    "                depth_and_seed_ops = depth_and_seed_ops, observables = observables, \n",
    "                label_ops = label_ops, coeff_list = loc_coeff_list, \n",
    "                custom_ref_state = custom_rho_ref, \n",
    "                rho_ref_thermal_state = False,\n",
    "                rho_ref_equal_rho0 = False, visualize_H_evs = False, \n",
    "                visualization_nonherm = False, visualize_expt_vals = False, visualize_diff_expt_vals = False\n",
    "                )\n",
    "            \n",
    "            multiple_init_configs[\"init_configs_T\" + str(range_temps.index(Temp_Ref))] = init_configs_MFT_state\n",
    "            multiple_evs_data[\"evs_data_T\" + str(range_temps.index(Temp_Ref))] = evs_data\n",
    "            multiple_dict_res_proj_ev[\"dict_res_proj_ev_T\" + str(range_temps.index(Temp_Ref))] = dict_res_proj_ev\n",
    "            multiple_res_exact[\"res_exact_T\" + str(range_temps.index(Temp_Ref))] = res_exact\n",
    "                        \n",
    "        mutiple_ev_results[\"init_configs_all\"] = multiple_init_configs\n",
    "        mutiple_ev_results[\"evs_data_all\"] = multiple_evs_data\n",
    "        mutiple_ev_results[\"dict_res_proj_ev_all\"] = multiple_dict_res_proj_ev\n",
    "        mutiple_ev_results[\"res_exact_all\"] = multiple_res_exact\n",
    "            \n",
    "        return mutiple_ev_results"
   ]
  },
  {
   "cell_type": "code",
   "execution_count": 6,
   "id": "954ad248",
   "metadata": {
    "scrolled": false
   },
   "outputs": [
    {
     "name": "stdout",
     "output_type": "stream",
     "text": [
      "Processing step:  0 and temperature  0.2\n",
      "1. Processing reference state ===>\n",
      "^^##. custom reference state chosen\n",
      "2. using a base of size  6\n",
      "3. rho_ref:  Quantum object: dims = [[2, 2], [2, 2]], shape = (4, 4), type = oper, isherm = True\n",
      "Qobj data =\n",
      "[[0.249 0.0 -0.212 0.0]\n",
      " [0.0 0.249 0.0 -0.212]\n",
      " [-0.212 0.0 0.25 0.0]\n",
      " [0.0 -0.212 0.0 0.25]]\n",
      "The basis is orthonormal and hermitian\n",
      "3. constructing rho0 from the coeff. list and orth. basis\n",
      "Processing step:  1 and temperature  0.4\n",
      "1. Processing reference state ===>\n",
      "^^##. custom reference state chosen\n",
      "2. using a base of size  6\n",
      "3. rho_ref:  Quantum object: dims = [[2, 2], [2, 2]], shape = (4, 4), type = oper, isherm = True\n",
      "Qobj data =\n",
      "[[0.249 0.0 -0.138 0.0]\n",
      " [0.0 0.249 0.0 -0.138]\n",
      " [-0.138 0.0 0.25 0.0]\n",
      " [0.0 -0.138 0.0 0.25]]\n",
      "The basis is orthonormal and hermitian\n",
      "3. constructing rho0 from the coeff. list and orth. basis\n",
      "Processing step:  2 and temperature  0.8\n",
      "1. Processing reference state ===>\n",
      "^^##. custom reference state chosen\n",
      "2. using a base of size  6\n",
      "3. rho_ref:  Quantum object: dims = [[2, 2], [2, 2]], shape = (4, 4), type = oper, isherm = True\n",
      "Qobj data =\n",
      "[[0.25 0.0 -0.075 0.0]\n",
      " [0.0 0.25 0.0 -0.075]\n",
      " [-0.075 0.0 0.25 0.0]\n",
      " [0.0 -0.075 0.0 0.25]]\n",
      "The basis is orthonormal and hermitian\n",
      "3. constructing rho0 from the coeff. list and orth. basis\n",
      "Processing step:  3 and temperature  1.6\n",
      "1. Processing reference state ===>\n",
      "^^##. custom reference state chosen\n",
      "2. using a base of size  6\n",
      "3. rho_ref:  Quantum object: dims = [[2, 2], [2, 2]], shape = (4, 4), type = oper, isherm = True\n",
      "Qobj data =\n",
      "[[0.25 0.0 -0.038 0.0]\n",
      " [0.0 0.25 0.0 -0.038]\n",
      " [-0.038 0.0 0.25 0.0]\n",
      " [0.0 -0.038 0.0 0.25]]\n",
      "The basis is orthonormal and hermitian\n",
      "3. constructing rho0 from the coeff. list and orth. basis\n"
     ]
    }
   ],
   "source": [
    "timespan = np.linspace(0, 10, 100)\n",
    "coeff_list = [0, 0., .5, .0, .0, .0] \n",
    "range_temps = [2e-1 * 2**i for i in range(4)]\n",
    "\n",
    "multiple_ev_results = process_multiple_proj_evs(init_coeff_list = coeff_list, timespan = ts,\n",
    "                                                range_temps = range_temps,\n",
    "                                                process_different_ref_temps = True)"
   ]
  },
  {
   "cell_type": "code",
   "execution_count": 18,
   "id": "d75005fa",
   "metadata": {},
   "outputs": [
    {
     "data": {
      "text/plain": [
       "'p_dot'"
      ]
     },
     "execution_count": 18,
     "metadata": {},
     "output_type": "execute_result"
    }
   ],
   "source": [
    "label_ops[6]"
   ]
  },
  {
   "cell_type": "code",
   "execution_count": 25,
   "id": "2b2530c6",
   "metadata": {},
   "outputs": [
    {
     "data": {
      "text/plain": [
       "'T_ref = 0.2'"
      ]
     },
     "execution_count": 25,
     "metadata": {},
     "output_type": "execute_result"
    }
   ],
   "source": [
    "\"T_ref = \" +  str(range_temps[0])"
   ]
  },
  {
   "cell_type": "code",
   "execution_count": 35,
   "id": "17737ced",
   "metadata": {
    "scrolled": false
   },
   "outputs": [
    {
     "name": "stderr",
     "output_type": "stream",
     "text": [
      "WARNING:matplotlib.legend:No artists with labels found to put in legend.  Note that artists whose label start with an underscore are ignored when legend() is called with no argument.\n"
     ]
    },
    {
     "data": {
      "text/plain": [
       "Text(0.5, 1.0, 'X_OP')"
      ]
     },
     "execution_count": 35,
     "metadata": {},
     "output_type": "execute_result"
    },
    {
     "data": {
      "image/png": "[encoded data removed]",
      "text/plain": [
       "<Figure size 432x288 with 1 Axes>"
      ]
     },
     "metadata": {
      "needs_background": "light"
     },
     "output_type": "display_data"
    }
   ],
   "source": [
    "plt.plot(multiple_ev_results[\"dict_res_proj_ev_all\"][\"dict_res_proj_ev_T0\"][\"Avgs\"][1])\n",
    "plt.plot(multiple_ev_results[\"dict_res_proj_ev_all\"][\"dict_res_proj_ev_T1\"][\"Avgs\"][1])\n",
    "plt.plot(multiple_ev_results[\"dict_res_proj_ev_all\"][\"dict_res_proj_ev_T2\"][\"Avgs\"][1])\n",
    "plt.plot(multiple_ev_results[\"dict_res_proj_ev_all\"][\"dict_res_proj_ev_T3\"][\"Avgs\"][1])\n",
    "\n",
    "plt.legend()\n",
    "plt.title(\"X_OP\")"
   ]
  },
  {
   "cell_type": "code",
   "execution_count": 34,
   "id": "18e9de1f",
   "metadata": {},
   "outputs": [
    {
     "name": "stderr",
     "output_type": "stream",
     "text": [
      "WARNING:matplotlib.legend:No artists with labels found to put in legend.  Note that artists whose label start with an underscore are ignored when legend() is called with no argument.\n"
     ]
    },
    {
     "data": {
      "text/plain": [
       "<matplotlib.legend.Legend at 0x27af19122e0>"
      ]
     },
     "execution_count": 34,
     "metadata": {},
     "output_type": "execute_result"
    },
    {
     "data": {
      "image/png": "[encoded data removed]",
      "text/plain": [
       "<Figure size 432x288 with 1 Axes>"
      ]
     },
     "metadata": {
      "needs_background": "light"
     },
     "output_type": "display_data"
    }
   ],
   "source": [
    "plt.plot(multiple_ev_results[\"res_exact_all\"][\"res_exact_T0\"].expect[1])\n",
    "plt.plot(multiple_ev_results[\"res_exact_all\"][\"res_exact_T1\"].expect[1])\n",
    "plt.plot(multiple_ev_results[\"res_exact_all\"][\"res_exact_T2\"].expect[1])\n",
    "plt.plot(multiple_ev_results[\"res_exact_all\"][\"res_exact_T3\"].expect[1])\n",
    "\n",
    "plt.legend()"
   ]
  },
  {
   "cell_type": "code",
   "execution_count": null,
   "id": "63ae1084",
   "metadata": {
    "scrolled": false
   },
   "outputs": [],
   "source": [
    "res_exactito = qutip.mesolve(H = H_H, tlist = ts, rho0 = rho_ref, e_ops = observables)\n",
    "plt.plot(res_exactito.expect[3])"
   ]
  }
 ],
 "metadata": {
  "kernelspec": {
   "display_name": "Python 3 (ipykernel)",
   "language": "python",
   "name": "python3"
  },
  "language_info": {
   "codemirror_mode": {
    "name": "ipython",
    "version": 3
   },
   "file_extension": ".py",
   "mimetype": "text/x-python",
   "name": "python",
   "nbconvert_exporter": "python",
   "pygments_lexer": "ipython3",
   "version": "3.9.12"
  },
  "toc": {
   "base_numbering": 1,
   "nav_menu": {},
   "number_sections": true,
   "sideBar": true,
   "skip_h1_title": false,
   "title_cell": "Table of Contents",
   "title_sidebar": "Contents",
   "toc_cell": false,
   "toc_position": {},
   "toc_section_display": true,
   "toc_window_display": false
  }
 },
 "nbformat": 4,
 "nbformat_minor": 5
}
