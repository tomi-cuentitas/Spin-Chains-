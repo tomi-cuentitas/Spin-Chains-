{
 "cells": [
  {
   "cell_type": "code",
   "execution_count": 2,
   "id": "922ae611",
   "metadata": {},
   "outputs": [],
   "source": [
    "import qutip\n",
    "import numpy as np\n",
    "import matplotlib.pyplot as plt "
   ]
  },
  {
   "cell_type": "code",
   "execution_count": 3,
   "id": "9fdc332b",
   "metadata": {},
   "outputs": [],
   "source": [
    "Delta1 = Delta2 = .3\n",
    "\n",
    "U_target = qutip.Qobj([[1,0,0,0],\n",
    "            [0,0,1,0],\n",
    "            [0,1,0,0],\n",
    "            [0,0,0,1]])\n",
    "\n",
    "sigmaz1 = qutip.tensor(qutip.sigmaz(), qutip.qeye(2))\n",
    "sigmaz2 = qutip.tensor(qutip.qeye(2), qutip.sigmaz())\n",
    "U_target.dims = sigmaz2.dims"
   ]
  },
  {
   "cell_type": "code",
   "execution_count": 5,
   "id": "e9a7ba3f",
   "metadata": {},
   "outputs": [],
   "source": [
    "def propagators(A,w,Delta1, Delta2):\n",
    "    T = 2*np.pi/w; args = {}\n",
    "    args['A'] = A; args['w'] = w; \n",
    "    H0 = -.5 * Delta1 * qutip.tensor(qutip.sigmaz(), qutip.qeye(2)) + -.5 * Delta2 * qutip.tensor(qutip.qeye(2), qutip.sigmaz())\n",
    "    H1 = -.5 * qutip.tensor(qutip.sigmax(), qutip.sigmax())\n",
    "    \n",
    "    def H1_coefficient(t, args):\n",
    "        A = args['A']; w = args['w']\n",
    "        coeff = A * np.sin(w*t)\n",
    "        return coeff\n",
    "    \n",
    "    H = [H0, [H1, H1_coefficient]]\n",
    "    ts = np.linspace(1e-5, T, 50)\n",
    "    Unumericals = qutip.propagator(H = H,\n",
    "                                    t = ts,\n",
    "                                    c_ops = None,\n",
    "                                    args = args)\n",
    "    Unum = Unumericals[-1]\n",
    "    return Unum\n",
    "\n",
    "def infidelity(Unum, target_gate):\n",
    "    fid = (Unum.dag() * Unum).tr() + np.abs(((Unum * target_gate.dag()).tr()))**2\n",
    "    return 1-fid/20"
   ]
  },
  {
   "cell_type": "code",
   "execution_count": 8,
   "id": "7ca11a19",
   "metadata": {},
   "outputs": [],
   "source": [
    "import numpy as np\n",
    "import matplotlib.pyplot as plt\n",
    "import matplotlib.colors as mclr\n",
    "\n",
    "Delta1 = .3; Delta2 = .4\n",
    "amplitude_grid = np.linspace(1e-1, 6, 40); a_list = list(amplitude_grid)\n",
    "omega_grid = np.linspace(1e-1, 6, 40); w_list = list(omega_grid)\n",
    "\n",
    "X,Y = np.meshgrid(amplitude_grid, omega_grid, indexing='ij')\n",
    "errors = [[-np.log(np.real(infidelity(propagators(A = A,\n",
    "                        w = w,\n",
    "                        Delta1 = Delta1, Delta2 = Delta2), U_target))) for w in omega_grid] for A in amplitude_grid]"
   ]
  },
  {
   "cell_type": "code",
   "execution_count": 9,
   "id": "3a775e3b",
   "metadata": {},
   "outputs": [
    {
     "data": {
      "image/png": "[encoded data removed]",
      "text/plain": [
       "<Figure size 864x576 with 2 Axes>"
      ]
     },
     "metadata": {
      "needs_background": "light"
     },
     "output_type": "display_data"
    }
   ],
   "source": [
    "fig1, ax1 = plt.subplots(figsize=(12,8))\n",
    "pc = ax1.pcolormesh(X/Delta2, Y/Delta2, errors, cmap=\"jet\")\n",
    "ax1.set_aspect('equal')\n",
    "plt.title(r'$-\\log_{10} |\\varepsilon|$')\n",
    "plt.ylabel(r'$\\omega/\\Delta$')\n",
    "plt.xlabel(r'$A/\\Delta$')\n",
    "fig1.colorbar(pc)\n",
    "plt.show()"
   ]
  },
  {
   "cell_type": "code",
   "execution_count": null,
   "id": "0ff853e4",
   "metadata": {},
   "outputs": [],
   "source": []
  }
 ],
 "metadata": {
  "kernelspec": {
   "display_name": "Python 3 (ipykernel)",
   "language": "python",
   "name": "python3"
  },
  "language_info": {
   "codemirror_mode": {
    "name": "ipython",
    "version": 3
   },
   "file_extension": ".py",
   "mimetype": "text/x-python",
   "name": "python",
   "nbconvert_exporter": "python",
   "pygments_lexer": "ipython3",
   "version": "3.9.12"
  }
 },
 "nbformat": 4,
 "nbformat_minor": 5
}
