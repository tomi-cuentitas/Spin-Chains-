{
 "cells": [
  {
   "cell_type": "code",
   "execution_count": 23,
   "id": "5fa79743",
   "metadata": {},
   "outputs": [],
   "source": [
    "import qutip, pickle, sys\n",
    "import matplotlib.pyplot as plt \n",
    "import numpy as np\n",
    "import scipy.optimize as opt \n",
    "import scipy.linalg as linalg\n",
    "import time as time\n",
    "import math, cmath\n",
    "\n",
    "import a_quantum_stateology_lib as qstates\n",
    "import b_quantum_geometries_lib as gij\n",
    "import c_matrix_analysis_lib as matAnsys \n",
    "import d_spin_representations_lib as su2\n",
    "import e_maxent_solver_lib as me\n",
    "\n",
    "from datetime import datetime\n",
    "from qutip.qobj import Qobj\n",
    "from collections.abc import Iterable\n",
    "from typing import Callable, List, Optional, Tuple\n",
    "from datetime import datetime"
   ]
  },
  {
   "cell_type": "code",
   "execution_count": 67,
   "id": "c30d627c",
   "metadata": {},
   "outputs": [],
   "source": [
    "N=4; chain_type = \"XY\"; k_B = 1; temp = 1e+1; temp_ref = 1e+1\n",
    "\n",
    "### One body local spin operators\n",
    "spin_ops_list = su2.one_body_spin_ops(size = N)\n",
    "identity_op = spin_ops_list[0][0]\n",
    "\n",
    "### Heisenberg Hamiltonian\n",
    "Hamiltonian_paras = [-1e-1, -2.5e-1, 0., .5e-1]\n",
    "H_loc = su2.Heisenberg_Hamiltonian(op_list = spin_ops_list, chain_type = chain_type,\n",
    "                                           size = N, Hamiltonian_paras = Hamiltonian_paras,\n",
    "                                           closed_bcs = True, visualization = False)\n",
    "\n",
    "### Generating classical observables\n",
    "\n",
    "cl_ops, label_ops = su2.classical_ops(size = N, Hamiltonian = H_loc,\n",
    "                                                op_list = spin_ops_list, centered_x_op = False)\n",
    "\n",
    "## The Hamiltonian is added a perturbation term \n",
    "perturbation_strength = max(Hamiltonian_paras)/2\n",
    "\n",
    "HH = H_loc + perturbation_strength * cl_ops[\"x_op\"]"
   ]
  },
  {
   "cell_type": "code",
   "execution_count": 68,
   "id": "f093698d",
   "metadata": {},
   "outputs": [],
   "source": [
    "# Exact evolution\n",
    "beta = 1/temp\n",
    "xmean = 10; nmean = 10; weight_H = 1e2; weight_x = 1e-2; weight_n = 1e-2\n",
    "\n",
    "K0 = weight_H * beta * HH + weight_x * (cl_ops[\"x_op\"] - xmean)**2 + weight_n * (cl_ops[\"n_oc_op\"] - nmean)**2\n",
    "rho0 = matAnsys.safe_expm_and_normalize(K = K0, return_free_energy = False)"
   ]
  },
  {
   "cell_type": "code",
   "execution_count": 69,
   "id": "b6309c48",
   "metadata": {},
   "outputs": [
    {
     "data": {
      "text/plain": [
       "1.7199684793999268"
      ]
     },
     "execution_count": 69,
     "metadata": {},
     "output_type": "execute_result"
    }
   ],
   "source": [
    "qutip.expect(rho0, cl_ops[\"n_oc_op\"])"
   ]
  },
  {
   "cell_type": "code",
   "execution_count": 70,
   "id": "4858de3f",
   "metadata": {},
   "outputs": [],
   "source": [
    "subset_of_observables = {}; subset_label_ops = []\n",
    "subset_of_observables[\"x_op_sq\"] = cl_ops[\"p_op\"]; subset_label_ops.append(\"x_op_sq\")\n",
    "subset_of_observables[\"n_oc_op\"] = cl_ops[\"n_oc_op\"]; subset_label_ops.append(\"n_oc_op\")\n",
    "subset_of_observables[\"n_oc_op_sq\"] = cl_ops[\"n_oc_op\"]**2; subset_label_ops.append(\"n_oc_op_sq\")\n",
    "subset_of_observables[\"p_op\"] = cl_ops[\"p_op\"]; subset_label_ops.append(\"p_op\")"
   ]
  },
  {
   "cell_type": "code",
   "execution_count": 71,
   "id": "cd962222",
   "metadata": {},
   "outputs": [],
   "source": [
    "ts = np.linspace(1e-1, 4., 500)\n",
    "exact_ev = qutip.mesolve(H = HH,\n",
    "                         rho0 = rho0,\n",
    "                         tlist = ts,\n",
    "                         e_ops = subset_of_observables\n",
    "                         )"
   ]
  },
  {
   "cell_type": "code",
   "execution_count": 72,
   "id": "771b8987",
   "metadata": {},
   "outputs": [],
   "source": [
    "def fetch_kubo_scalar_product(sigma: Qobj, threshold=0.99999):\n",
    "    evals_evecs = sorted(zip(*sigma.eigenstates()), key=lambda x: -x[0])\n",
    "    w = 0\n",
    "    for i, val_vec in enumerate(evals_evecs):\n",
    "        w += val_vec[0]\n",
    "        if w > threshold:\n",
    "            evals_evecs = evals_evecs[: i + 1]\n",
    "            break\n",
    "\n",
    "    stored = {}\n",
    "        \n",
    "    def ksp(op1, op2):\n",
    "        if False:\n",
    "            key = (id(op2), id(op1))\n",
    "            if key in stored:\n",
    "                return stored[key]\n",
    "            key = (id(op1), id(op2))\n",
    "            if key in stored:\n",
    "                return stored[key]\n",
    "\n",
    "        result = sum(\n",
    "        (\n",
    "            np.conj((v2.dag() * op1 * v1).tr())\n",
    "            * ((v2.dag() * op2 * v1).tr())\n",
    "            * (p1 if p1 == p2 else (p1 - p2) / np.log(p1 / p2))\n",
    "        )\n",
    "        for p1, v1 in evals_evecs\n",
    "        for p2, v2 in evals_evecs\n",
    "        if (p1 > 0 and p2 > 0)\n",
    "        )\n",
    "        \n",
    "        #    stored[key] = result\n",
    "        return result\n",
    "\n",
    "    return ksp\n",
    "\n",
    "def fetch_kubo_int_scalar_product(sigma: Qobj):\n",
    "    evals, evecs = sigma.eigenstates()\n",
    "\n",
    "    def return_func(op1, op2):\n",
    "        return 0.01 * sum(\n",
    "            (\n",
    "                np.conj((v2.dag() * op1 * v1).tr())\n",
    "                * ((v2.dag() * op2 * v1).tr())\n",
    "                * ((p1) ** (1.0 - tau))\n",
    "                * ((p1) ** (tau))\n",
    "            )\n",
    "            for p1, v1 in zip(evals, evecs)\n",
    "            for p2, v2 in zip(evals, evecs)\n",
    "            for tau in np.linspace(0.0, 1.0, 100)\n",
    "            if (p1 > 0.0 and p2 > 0.0)\n",
    "        )\n",
    "\n",
    "    return return_func\n",
    "\n",
    "    return lambda op1, op2: 0.01 * sum(\n",
    "        (\n",
    "            np.conj((v2.dag() * op1 * v1).tr())\n",
    "            * ((v2.dag() * op2 * v1).tr())\n",
    "            * p1 ** (1 - tau)\n",
    "            * p1 ** (tau)\n",
    "        )\n",
    "        for p1, v1 in zip(evals, evecs)\n",
    "        for p2, v2 in zip(evals, evecs)\n",
    "        for tau in np.linspace(0, 1, 100)\n",
    "    )\n",
    "\n",
    "\n",
    "def fetch_corr_scalar_product(sigma: Qobj):\n",
    "    return lambda op1, op2: 0.5 * (sigma * (op1.dag() * op2 +\n",
    "                                            op2 * op1.dag())).tr()"
   ]
  },
  {
   "cell_type": "code",
   "execution_count": 73,
   "id": "ae255908",
   "metadata": {},
   "outputs": [],
   "source": [
    "def gram_matrix(basis: list, sp: Callable):\n",
    "    size = len(basis)\n",
    "    result = np.zeros([size, size], dtype=float)\n",
    "\n",
    "    for i, op1 in enumerate(basis):\n",
    "        for j, op2 in enumerate(basis):\n",
    "            if j < i:\n",
    "                continue\n",
    "            entry = np.real(sp(op1, op2))\n",
    "            if i == j:\n",
    "                result[i, i] = entry\n",
    "            else:\n",
    "                result[i, j] = result[j, i] = entry\n",
    "\n",
    "    return result.round(14)\n",
    "\n",
    "\n",
    "def orthogonalize_basis(basis: list, sp: Callable, idop: Qobj = None):\n",
    "    if idop:\n",
    "        idnorm_sq = sp(idop, idop)\n",
    "        id_comp = [sp(idop, op) / idnorm_sq for op in basis]\n",
    "        basis = ([idop * idnorm_sq**-0.5] +\n",
    "                 [op - la for la, op in zip(id_comp, basis)])\n",
    "\n",
    "    gs = gram_matrix(basis, sp)\n",
    "    evals, evecs = np.linalg.eigh(gs)\n",
    "    evecs = [vec / np.linalg.norm(vec) for vec in evecs.transpose()]\n",
    "    return [\n",
    "        p ** (-0.5) * sum(c * op for c, op in zip(w, basis))\n",
    "        for p, w in zip(evals, evecs)\n",
    "        if p > 0.00001\n",
    "    ]\n",
    "\n",
    "\n",
    "def project_op(op: Qobj, orthogonal_basis: list, sp: Callable):\n",
    "    return np.array([sp(op2, op) for op2 in orthogonal_basis])\n",
    "\n",
    "def safe_expm_and_normalize(K) -> Qobj:\n",
    "    n_eig = sum(K.dims[0])\n",
    "    if n_eig <= 16:\n",
    "        e0 = max(real(K.eigenenergies()))\n",
    "    else:\n",
    "        e0 = max(real(K.eigenenergies(sparse=\"True\", sort=\"high\", eigvals=n_eig)))\n",
    "    sigma = (K - e0).expm()\n",
    "    return sigma / sigma.tr()"
   ]
  },
  {
   "cell_type": "code",
   "execution_count": 77,
   "id": "5625886e",
   "metadata": {},
   "outputs": [],
   "source": [
    "def fetch_induced_distance(sp):\n",
    "    def distance(op1, op2):\n",
    "        dop = op1 - op2\n",
    "        return np.sqrt(sp(dop, dop))\n",
    "\n",
    "    return distance\n",
    "\n",
    "def instantaneous_proj(k, basis, sp, kmb_sp):\n",
    "    basis = orthogonalize_basis(basis, sp)\n",
    "    distance = fetch_induced_distance(kmb_sp)\n",
    "    kp = sum(phi * op for phi, op in zip(project_op(k, basis, sp), basis))\n",
    "    return distance(kp, k), spectral_norm(k - kp), np.sqrt(kmb_sp(k, k))\n",
    "\n",
    "def static_proj(k, basis, sp, kmb_sp):\n",
    "    distance = fetch_induced_distance(kmb_sp)\n",
    "    kp = sum(phi * op for phi, op in zip(project_op(k, basis, sp), basis))\n",
    "    return distance(kp, k), spectral_norm(k - kp), np.sqrt(kmb_sp(k, k))\n",
    "\n",
    "def spectral_norm(op):\n",
    "    return max(abs(op.eigenenergies()) ** 2) ** 0.5"
   ]
  },
  {
   "cell_type": "code",
   "execution_count": 82,
   "id": "0a819cd4",
   "metadata": {},
   "outputs": [],
   "source": [
    "def projections(Hamiltonian, K0, basis, timespan, depth, beta, HB_B0):\n",
    "    print(\"**** Starting Simulation\", datetime.now())\n",
    "    results = {}\n",
    "    HBasis_local = matAnsys.build_Hierarchical_Basis(Hamiltonian = Hamiltonian,\n",
    "                                                     seed_operator = HB_B0[-1], \n",
    "                                                     depth = depth,\n",
    "                                                     tol = 1e-5, verbose = False)\n",
    "    Hierarchical_B = []; del HB_B0[-1]\n",
    "    Hierarchical_B = HB_B0  + HBasis_local\n",
    "        \n",
    "    for b in Hierarchical_B:\n",
    "        b.__hash__ = lambda slf: hash(id(slf))\n",
    "        \n",
    "    res_exact, rhot = me.solve_exact(Hamiltonian = Hamiltonian,\n",
    "                                     K0 = K0, \n",
    "                                     timespan = timespan,\n",
    "                                     return_evolved_rhos = True,\n",
    "                                     return_qutip_res_obj = True)\n",
    "    K_at_timet = res_exact.states\n",
    "    results[\"exact\"] = K_at_timet\n",
    "    ts = list(timespan)\n",
    "    \n",
    "    print(\"buildint the instantaneous KMB sp\", datetime.now())\n",
    "    inst_KMB_sp = [fetch_kubo_scalar_product(rho) for rho in rhot]\n",
    "    print(\"buildint the instantaneous corr sp\", datetime.now())\n",
    "    inst_corr_sp = [fetch_corr_scalar_product(rho) for rho in rhot]\n",
    "    \n",
    "    print(\"corr\", datetime.now())\n",
    "    \n",
    "    results[\"corr\"] = []; results[\"kmb\"] = []\n",
    "    ts_list = list(timespan)\n",
    "    for t in timespan: \n",
    "        ti = ts_list.index(t)\n",
    "        if ti%10 == 0:\n",
    "            print(\"------- Correlation SP proj: step\", ti, \"at time\", datetime.now())\n",
    "            \n",
    "        local_value = instantaneous_proj(K_at_timet[ti], Hierarchical_B, inst_corr_sp[ti], inst_KMB_sp[ti])\n",
    "        results[\"corr\"].append(local_value)\n",
    "        local_value = 0\n",
    "        \n",
    "        if ti%10 == 0:\n",
    "            print(\"------- KMB SP proj: step\", ti, \"at time\", datetime.now())\n",
    "            \n",
    "        local_value = instantaneous_proj(K_at_timet[ti], Hierarchical_B, inst_KMB_sp[ti], inst_KMB_sp[ti])\n",
    "        results[\"kmb\"].append(local_value)\n",
    "        local_value = 0\n",
    "    \n",
    "    ts_list = None\n",
    "    return results"
   ]
  },
  {
   "cell_type": "code",
   "execution_count": null,
   "id": "4fe6c907",
   "metadata": {},
   "outputs": [
    {
     "name": "stdout",
     "output_type": "stream",
     "text": [
      "**** Starting Simulation 2023-06-16 11:59:24.469982\n",
      "buildint the instantaneous KMB sp 2023-06-16 11:59:25.085432\n",
      "buildint the instantaneous corr sp 2023-06-16 11:59:27.088587\n",
      "corr 2023-06-16 11:59:27.089609\n",
      "------- Correlation SP proj: step 0 at time 2023-06-16 11:59:27.089609\n",
      "------- KMB SP proj: step 0 at time 2023-06-16 11:59:27.752724\n"
     ]
    }
   ],
   "source": [
    "ts = np.linspace(0, 2.,100)\n",
    "HB_B0 = [identity_op, H_loc, cl_ops[\"n_oc_op\"], cl_ops[\"n_oc_op\"]**2, cl_ops[\"x_op\"]]\n",
    "res = projections(Hamiltonian = HH, K0 = K0, basis = HB_B0, timespan  = ts, depth = 4, beta = beta, HB_B0 = HB_B0)"
   ]
  },
  {
   "cell_type": "code",
   "execution_count": null,
   "id": "f54a2bbb",
   "metadata": {},
   "outputs": [],
   "source": [
    "plt.plot(res[\"corr\"][1])"
   ]
  },
  {
   "cell_type": "code",
   "execution_count": 49,
   "id": "fb318d56",
   "metadata": {},
   "outputs": [
    {
     "ename": "ValueError",
     "evalue": "x and y must be the same size",
     "output_type": "error",
     "traceback": [
      "\u001b[1;31m---------------------------------------------------------------------------\u001b[0m",
      "\u001b[1;31mValueError\u001b[0m                                Traceback (most recent call last)",
      "Input \u001b[1;32mIn [49]\u001b[0m, in \u001b[0;36m<cell line: 4>\u001b[1;34m()\u001b[0m\n\u001b[0;32m      1\u001b[0m fig0, ax0 \u001b[38;5;241m=\u001b[39m plt\u001b[38;5;241m.\u001b[39msubplots(figsize\u001b[38;5;241m=\u001b[39m(\u001b[38;5;241m10\u001b[39m,\u001b[38;5;241m6\u001b[39m))\n\u001b[0;32m      3\u001b[0m plt\u001b[38;5;241m.\u001b[39mtitle(\u001b[38;5;124m\"\u001b[39m\u001b[38;5;124mMatrix Norms Exact v. kmb, N = 2\u001b[39m\u001b[38;5;124m\"\u001b[39m)\n\u001b[1;32m----> 4\u001b[0m \u001b[43mplt\u001b[49m\u001b[38;5;241;43m.\u001b[39;49m\u001b[43mscatter\u001b[49m\u001b[43m(\u001b[49m\u001b[43mts\u001b[49m\u001b[43m,\u001b[49m\u001b[43m \u001b[49m\u001b[43mres\u001b[49m\u001b[43m[\u001b[49m\u001b[38;5;124;43m\"\u001b[39;49m\u001b[38;5;124;43mKMB\u001b[39;49m\u001b[38;5;124;43m\"\u001b[39;49m\u001b[43m]\u001b[49m\u001b[43m[\u001b[49m\u001b[38;5;241;43m0\u001b[39;49m\u001b[43m]\u001b[49m\u001b[43m,\u001b[49m\u001b[43m \u001b[49m\u001b[43mlabel\u001b[49m\u001b[43m \u001b[49m\u001b[38;5;241;43m=\u001b[39;49m\u001b[43m \u001b[49m\u001b[38;5;124;43m\"\u001b[39;49m\u001b[38;5;124;43mkmb induced distance\u001b[39;49m\u001b[38;5;124;43m\"\u001b[39;49m\u001b[43m)\u001b[49m\n\u001b[0;32m      5\u001b[0m plt\u001b[38;5;241m.\u001b[39mscatter(ts, res[\u001b[38;5;124m\"\u001b[39m\u001b[38;5;124mKMB\u001b[39m\u001b[38;5;124m\"\u001b[39m][\u001b[38;5;241m1\u001b[39m], label \u001b[38;5;241m=\u001b[39m \u001b[38;5;124m\"\u001b[39m\u001b[38;5;124mSpectral Norm\u001b[39m\u001b[38;5;124m\"\u001b[39m)\n\u001b[0;32m      7\u001b[0m ax0\u001b[38;5;241m.\u001b[39mlegend(loc\u001b[38;5;241m=\u001b[39m\u001b[38;5;241m0\u001b[39m)\n",
      "File \u001b[1;32m~\\anaconda3\\lib\\site-packages\\matplotlib\\pyplot.py:2807\u001b[0m, in \u001b[0;36mscatter\u001b[1;34m(x, y, s, c, marker, cmap, norm, vmin, vmax, alpha, linewidths, edgecolors, plotnonfinite, data, **kwargs)\u001b[0m\n\u001b[0;32m   2802\u001b[0m \u001b[38;5;129m@_copy_docstring_and_deprecators\u001b[39m(Axes\u001b[38;5;241m.\u001b[39mscatter)\n\u001b[0;32m   2803\u001b[0m \u001b[38;5;28;01mdef\u001b[39;00m \u001b[38;5;21mscatter\u001b[39m(\n\u001b[0;32m   2804\u001b[0m         x, y, s\u001b[38;5;241m=\u001b[39m\u001b[38;5;28;01mNone\u001b[39;00m, c\u001b[38;5;241m=\u001b[39m\u001b[38;5;28;01mNone\u001b[39;00m, marker\u001b[38;5;241m=\u001b[39m\u001b[38;5;28;01mNone\u001b[39;00m, cmap\u001b[38;5;241m=\u001b[39m\u001b[38;5;28;01mNone\u001b[39;00m, norm\u001b[38;5;241m=\u001b[39m\u001b[38;5;28;01mNone\u001b[39;00m,\n\u001b[0;32m   2805\u001b[0m         vmin\u001b[38;5;241m=\u001b[39m\u001b[38;5;28;01mNone\u001b[39;00m, vmax\u001b[38;5;241m=\u001b[39m\u001b[38;5;28;01mNone\u001b[39;00m, alpha\u001b[38;5;241m=\u001b[39m\u001b[38;5;28;01mNone\u001b[39;00m, linewidths\u001b[38;5;241m=\u001b[39m\u001b[38;5;28;01mNone\u001b[39;00m, \u001b[38;5;241m*\u001b[39m,\n\u001b[0;32m   2806\u001b[0m         edgecolors\u001b[38;5;241m=\u001b[39m\u001b[38;5;28;01mNone\u001b[39;00m, plotnonfinite\u001b[38;5;241m=\u001b[39m\u001b[38;5;28;01mFalse\u001b[39;00m, data\u001b[38;5;241m=\u001b[39m\u001b[38;5;28;01mNone\u001b[39;00m, \u001b[38;5;241m*\u001b[39m\u001b[38;5;241m*\u001b[39mkwargs):\n\u001b[1;32m-> 2807\u001b[0m     __ret \u001b[38;5;241m=\u001b[39m gca()\u001b[38;5;241m.\u001b[39mscatter(\n\u001b[0;32m   2808\u001b[0m         x, y, s\u001b[38;5;241m=\u001b[39ms, c\u001b[38;5;241m=\u001b[39mc, marker\u001b[38;5;241m=\u001b[39mmarker, cmap\u001b[38;5;241m=\u001b[39mcmap, norm\u001b[38;5;241m=\u001b[39mnorm,\n\u001b[0;32m   2809\u001b[0m         vmin\u001b[38;5;241m=\u001b[39mvmin, vmax\u001b[38;5;241m=\u001b[39mvmax, alpha\u001b[38;5;241m=\u001b[39malpha, linewidths\u001b[38;5;241m=\u001b[39mlinewidths,\n\u001b[0;32m   2810\u001b[0m         edgecolors\u001b[38;5;241m=\u001b[39medgecolors, plotnonfinite\u001b[38;5;241m=\u001b[39mplotnonfinite,\n\u001b[0;32m   2811\u001b[0m         \u001b[38;5;241m*\u001b[39m\u001b[38;5;241m*\u001b[39m({\u001b[38;5;124m\"\u001b[39m\u001b[38;5;124mdata\u001b[39m\u001b[38;5;124m\"\u001b[39m: data} \u001b[38;5;28;01mif\u001b[39;00m data \u001b[38;5;129;01mis\u001b[39;00m \u001b[38;5;129;01mnot\u001b[39;00m \u001b[38;5;28;01mNone\u001b[39;00m \u001b[38;5;28;01melse\u001b[39;00m {}), \u001b[38;5;241m*\u001b[39m\u001b[38;5;241m*\u001b[39mkwargs)\n\u001b[0;32m   2812\u001b[0m     sci(__ret)\n\u001b[0;32m   2813\u001b[0m     \u001b[38;5;28;01mreturn\u001b[39;00m __ret\n",
      "File \u001b[1;32m~\\anaconda3\\lib\\site-packages\\matplotlib\\__init__.py:1412\u001b[0m, in \u001b[0;36m_preprocess_data.<locals>.inner\u001b[1;34m(ax, data, *args, **kwargs)\u001b[0m\n\u001b[0;32m   1409\u001b[0m \u001b[38;5;129m@functools\u001b[39m\u001b[38;5;241m.\u001b[39mwraps(func)\n\u001b[0;32m   1410\u001b[0m \u001b[38;5;28;01mdef\u001b[39;00m \u001b[38;5;21minner\u001b[39m(ax, \u001b[38;5;241m*\u001b[39margs, data\u001b[38;5;241m=\u001b[39m\u001b[38;5;28;01mNone\u001b[39;00m, \u001b[38;5;241m*\u001b[39m\u001b[38;5;241m*\u001b[39mkwargs):\n\u001b[0;32m   1411\u001b[0m     \u001b[38;5;28;01mif\u001b[39;00m data \u001b[38;5;129;01mis\u001b[39;00m \u001b[38;5;28;01mNone\u001b[39;00m:\n\u001b[1;32m-> 1412\u001b[0m         \u001b[38;5;28;01mreturn\u001b[39;00m func(ax, \u001b[38;5;241m*\u001b[39m\u001b[38;5;28mmap\u001b[39m(sanitize_sequence, args), \u001b[38;5;241m*\u001b[39m\u001b[38;5;241m*\u001b[39mkwargs)\n\u001b[0;32m   1414\u001b[0m     bound \u001b[38;5;241m=\u001b[39m new_sig\u001b[38;5;241m.\u001b[39mbind(ax, \u001b[38;5;241m*\u001b[39margs, \u001b[38;5;241m*\u001b[39m\u001b[38;5;241m*\u001b[39mkwargs)\n\u001b[0;32m   1415\u001b[0m     auto_label \u001b[38;5;241m=\u001b[39m (bound\u001b[38;5;241m.\u001b[39marguments\u001b[38;5;241m.\u001b[39mget(label_namer)\n\u001b[0;32m   1416\u001b[0m                   \u001b[38;5;129;01mor\u001b[39;00m bound\u001b[38;5;241m.\u001b[39mkwargs\u001b[38;5;241m.\u001b[39mget(label_namer))\n",
      "File \u001b[1;32m~\\anaconda3\\lib\\site-packages\\matplotlib\\axes\\_axes.py:4369\u001b[0m, in \u001b[0;36mAxes.scatter\u001b[1;34m(self, x, y, s, c, marker, cmap, norm, vmin, vmax, alpha, linewidths, edgecolors, plotnonfinite, **kwargs)\u001b[0m\n\u001b[0;32m   4367\u001b[0m y \u001b[38;5;241m=\u001b[39m np\u001b[38;5;241m.\u001b[39mma\u001b[38;5;241m.\u001b[39mravel(y)\n\u001b[0;32m   4368\u001b[0m \u001b[38;5;28;01mif\u001b[39;00m x\u001b[38;5;241m.\u001b[39msize \u001b[38;5;241m!=\u001b[39m y\u001b[38;5;241m.\u001b[39msize:\n\u001b[1;32m-> 4369\u001b[0m     \u001b[38;5;28;01mraise\u001b[39;00m \u001b[38;5;167;01mValueError\u001b[39;00m(\u001b[38;5;124m\"\u001b[39m\u001b[38;5;124mx and y must be the same size\u001b[39m\u001b[38;5;124m\"\u001b[39m)\n\u001b[0;32m   4371\u001b[0m \u001b[38;5;28;01mif\u001b[39;00m s \u001b[38;5;129;01mis\u001b[39;00m \u001b[38;5;28;01mNone\u001b[39;00m:\n\u001b[0;32m   4372\u001b[0m     s \u001b[38;5;241m=\u001b[39m (\u001b[38;5;241m20\u001b[39m \u001b[38;5;28;01mif\u001b[39;00m rcParams[\u001b[38;5;124m'\u001b[39m\u001b[38;5;124m_internal.classic_mode\u001b[39m\u001b[38;5;124m'\u001b[39m] \u001b[38;5;28;01melse\u001b[39;00m\n\u001b[0;32m   4373\u001b[0m          rcParams[\u001b[38;5;124m'\u001b[39m\u001b[38;5;124mlines.markersize\u001b[39m\u001b[38;5;124m'\u001b[39m] \u001b[38;5;241m*\u001b[39m\u001b[38;5;241m*\u001b[39m \u001b[38;5;241m2.0\u001b[39m)\n",
      "\u001b[1;31mValueError\u001b[0m: x and y must be the same size"
     ]
    },
    {
     "data": {
      "image/png": "[encoded data removed]",
      "text/plain": [
       "<Figure size 720x432 with 1 Axes>"
      ]
     },
     "metadata": {
      "needs_background": "light"
     },
     "output_type": "display_data"
    }
   ],
   "source": [
    "fig0, ax0 = plt.subplots(figsize=(10,6))\n",
    "\n",
    "plt.title(\"Matrix Norms Exact v. kmb, N = 2\")\n",
    "plt.scatter(ts, res[\"kmb\"][0], label = \"kmb induced distance\")\n",
    "plt.scatter(ts, res[\"kmb\"][1], label = \"Spectral Norm\")\n",
    "\n",
    "ax0.legend(loc=0)\n",
    "plt.xlabel(\"Time[s]\")\n",
    "plt.show()"
   ]
  },
  {
   "cell_type": "code",
   "execution_count": null,
   "id": "949a41fc",
   "metadata": {},
   "outputs": [],
   "source": []
  }
 ],
 "metadata": {
  "kernelspec": {
   "display_name": "Python 3 (ipykernel)",
   "language": "python",
   "name": "python3"
  },
  "language_info": {
   "codemirror_mode": {
    "name": "ipython",
    "version": 3
   },
   "file_extension": ".py",
   "mimetype": "text/x-python",
   "name": "python",
   "nbconvert_exporter": "python",
   "pygments_lexer": "ipython3",
   "version": "3.9.12"
  }
 },
 "nbformat": 4,
 "nbformat_minor": 5
}
