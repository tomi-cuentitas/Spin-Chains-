{
 "cells": [
  {
   "cell_type": "code",
   "execution_count": 1,
   "id": "1f83a493",
   "metadata": {},
   "outputs": [],
   "source": [
    "import qutip, pickle, sys\n",
    "import matplotlib.pyplot as plt \n",
    "import numpy as np\n",
    "import scipy.optimize as opt \n",
    "import scipy.linalg as linalg\n",
    "import time as time\n",
    "import math, cmath\n",
    "\n",
    "import a_quantum_stateology_lib as qstates\n",
    "import b_quantum_geometries_lib as gij\n",
    "import c_matrix_analysis_lib as matAnsys \n",
    "import d_spin_representations_lib as su2\n",
    "import e_maxent_solver_lib as me\n",
    "\n",
    "from datetime import datetime\n",
    "from collections.abc import Iterable\n",
    "from typing import Callable, List, Optional, Tuple\n",
    "from datetime import datetime"
   ]
  },
  {
   "cell_type": "code",
   "execution_count": 2,
   "id": "d16fbbdf",
   "metadata": {},
   "outputs": [],
   "source": [
    "N=2; chain_type = \"XY\"; k_B = 1; temp = 1e+1; temp_ref = 1e+1\n",
    "\n",
    "### One body local spin operators\n",
    "spin_ops_list = su2.one_body_spin_ops(size = N)\n",
    "identity_op = spin_ops_list[0][0]\n",
    "\n",
    "### Heisenberg Hamiltonian\n",
    "Hamiltonian_paras = [-1e-1, -2.5e-1, 0., .5e-1]\n",
    "H_loc = su2.Heisenberg_Hamiltonian(op_list = spin_ops_list, chain_type = chain_type,\n",
    "                                           size = N, Hamiltonian_paras = Hamiltonian_paras,\n",
    "                                           closed_bcs = True, visualization = False)\n",
    "\n",
    "### Generating classical observables\n",
    "\n",
    "cl_ops, label_ops = su2.classical_ops(size = N, Hamiltonian = H_loc,\n",
    "                                                op_list = spin_ops_list, centered_x_op = False)\n",
    "\n",
    "## The Hamiltonian is added a perturbation term \n",
    "perturbation_strength = max(Hamiltonian_paras)/2\n",
    "\n",
    "HH = H_loc + perturbation_strength * cl_ops[\"x_op\"]"
   ]
  },
  {
   "cell_type": "code",
   "execution_count": 3,
   "id": "33f4a7c5",
   "metadata": {
    "scrolled": false
   },
   "outputs": [],
   "source": [
    "# Exact evolution\n",
    "beta = 1/temp\n",
    "xmean = 10; nmean = 10; weight_H = 1e2; weight_x = 1e-2; weight_n = 1e-2\n",
    "\n",
    "K0 = weight_H * beta * HH + weight_x * (cl_ops[\"x_op\"] - xmean)**2 + weight_n * (cl_ops[\"n_oc_op\"] - nmean)**2\n",
    "rho0 = matAnsys.safe_expm_and_normalize(K = K0, return_free_energy = False)"
   ]
  },
  {
   "cell_type": "code",
   "execution_count": 4,
   "id": "d5c76b3b",
   "metadata": {
    "scrolled": true
   },
   "outputs": [
    {
     "data": {
      "text/plain": [
       "0.8724391338218006"
      ]
     },
     "execution_count": 4,
     "metadata": {},
     "output_type": "execute_result"
    }
   ],
   "source": [
    "qutip.expect(rho0, cl_ops[\"n_oc_op\"])"
   ]
  },
  {
   "cell_type": "code",
   "execution_count": 5,
   "id": "42b2aacb",
   "metadata": {},
   "outputs": [],
   "source": [
    "subset_of_observables = {}; subset_label_ops = []\n",
    "subset_of_observables[\"x_op_sq\"] = cl_ops[\"p_op\"]; subset_label_ops.append(\"x_op_sq\")\n",
    "subset_of_observables[\"n_oc_op\"] = cl_ops[\"n_oc_op\"]; subset_label_ops.append(\"n_oc_op\")\n",
    "subset_of_observables[\"n_oc_op_sq\"] = cl_ops[\"n_oc_op\"]**2; subset_label_ops.append(\"n_oc_op_sq\")\n",
    "subset_of_observables[\"p_op\"] = cl_ops[\"p_op\"]; subset_label_ops.append(\"p_op\")"
   ]
  },
  {
   "cell_type": "code",
   "execution_count": 6,
   "id": "cffed191",
   "metadata": {},
   "outputs": [],
   "source": [
    "ts = np.linspace(1e-1, 4., 500)\n",
    "exact_ev = qutip.mesolve(H = HH,\n",
    "                         rho0 = rho0,\n",
    "                         tlist = ts,\n",
    "                         e_ops = subset_of_observables\n",
    "                         )"
   ]
  },
  {
   "cell_type": "code",
   "execution_count": 34,
   "id": "560f4e3b",
   "metadata": {},
   "outputs": [],
   "source": [
    "def fetch_corr_inner_prod(op1, op2, sigma):\n",
    "    return .5 * (sigma * (op1.dag() * op2 + op2 * op1.dag()) ).tr()\n",
    "\n",
    "def fetch_kmb_sp(op1, op2, sigma):\n",
    "    evals, evecs = sigma.eigenstates()\n",
    "\n",
    "    return 0.01 * sum(\n",
    "        (\n",
    "            np.conj((v2.dag() * op1 * v1).tr())\n",
    "            * ((v2.dag() * op2 * v1).tr())\n",
    "            * p1 ** (1 - tau)\n",
    "            * p1 ** (tau)\n",
    "        )\n",
    "        for p1, v1 in zip(evals, evecs)\n",
    "        for p2, v2 in zip(evals, evecs)\n",
    "        for tau in np.linspace(0, 1, 100)\n",
    "    )\n",
    "\n",
    "def project_op(op, orth_basis, rho0, scalar_product: callable):\n",
    "    return np.array([scalar_product(qop, op, rho0) for qop in orth_basis])\n",
    "\n",
    "def gram_matrix(basis: list, innerprod: callable, rho0,as_qutip_qobj = True):\n",
    "    gram = np.array([[innerprod(op1, op2, rho0) for op2 in basis] for op1 in basis])\n",
    "    if as_qutip_qobj:\n",
    "        gram = qutip.Qobj(gram)\n",
    "    return gram\n",
    "\n",
    "def orthogonalize_basis(basis: list, innerprod: callable, rho0, idop = None, tol = 1e-5):\n",
    "    local_basis = basis\n",
    "    if idop:\n",
    "        sqidnorm = innerprod(idop, idop)\n",
    "        id_comp = [innerprod(idop, op)/sqidnorm for op in basis]\n",
    "        local_basis = [idop * sqidnorm ** (-.5)] + [op - mu for mu, op in zip(id_comp, basis)]\n",
    "    \n",
    "    gram = gram_matrix(local_basis, innerprod, rho0)\n",
    "    evals, evecs = np.linalg.eigh(gram)\n",
    "    evecs = [vec/np.linalg.norm(vec) for vec in evecs.transpose()]\n",
    "    return [\n",
    "            mu ** (-.5) * sum( c* op for c,op in zip(v, basis))\n",
    "                for mu, v in zip(evals, evecs) \n",
    "        ]\n",
    "\n",
    "def instantaneous_proj(K_at_timet, basis, sp, rho0):\n",
    "    print(\"-------\", datetime.now())\n",
    "    basis = orthogonalize_basis(basis, sp, rho0)\n",
    "    kp = sum(phi * op for phi, op in zip(project_op(K_at_timet, basis, rho0, sp), basis))\n",
    "    return kp"
   ]
  },
  {
   "cell_type": "code",
   "execution_count": 75,
   "id": "fc9bceba",
   "metadata": {},
   "outputs": [],
   "source": [
    "def projections(Hamiltonian, K0, basis, timespan, depth, beta, HB_B0):\n",
    "    print(\"------- Starting Simulation\", datetime.now())\n",
    "    results = {}\n",
    "    HBasis_local = matAnsys.build_Hierarchical_Basis(Hamiltonian = Hamiltonian,\n",
    "                                                     seed_operator = HB_B0[-1], \n",
    "                                                     depth = depth,\n",
    "                                                     tol = 1e-5, verbose = False)\n",
    "    Hierarchical_B = []; del HB_B0[-1]\n",
    "    Hierarchical_B = HB_B0  + HBasis_local\n",
    "        \n",
    "    for b in Hierarchical_B:\n",
    "        b.__hash__ = lambda slf: hash(id(slf))\n",
    "        \n",
    "    res_exact, rhot = me.solve_exact(Hamiltonian = Hamiltonian,\n",
    "                                     K0 = K0, \n",
    "                                     timespan = timespan,\n",
    "                                     return_evolved_rhos = True,\n",
    "                                     return_qutip_res_obj = True)\n",
    "    K_at_timet = res_exact.states\n",
    "    results[\"exact\"] = K_at_timet\n",
    "    ts = list(timespan)\n",
    "    \n",
    "    for t in range(len(ts)):\n",
    "        results[\"corr\"] = [];  results[\"KMB\"] = []\n",
    "        print(\"------- Correlation SP proj: step\", ts.index(t), \"at time\", datetime.now())\n",
    "        local_value = instantaneous_proj(K_at_timet[t], Hierarchical_B, fetch_corr_inner_prod, rhot[t])\n",
    "        results[\"corr\"].append(local_value)\n",
    "        print(\"------- KMB SP proj: step\", ts.index(t), \"at time\", datetime.now())\n",
    "        local_value = instantaneous_proj(K_at_timet[t], Hierarchical_B, fetch_kmb_sp, rhot[t])\n",
    "        results[\"KMB\"].append(local_value)\n",
    "        local_value = 0\n",
    "    \n",
    "    print(\"------- Finishing Simulation\", datetime.now())\n",
    "    return results"
   ]
  },
  {
   "cell_type": "code",
   "execution_count": null,
   "id": "401351b2",
   "metadata": {
    "scrolled": false
   },
   "outputs": [
    {
     "name": "stdout",
     "output_type": "stream",
     "text": [
      "------- Starting Simulation 2023-06-14 14:22:57.083946\n",
      "------- Correlation SP proj: step  0 at time 2023-06-14 14:22:57.128992\n"
     ]
    }
   ],
   "source": [
    "ts = np.linspace(0, 2.,5)\n",
    "HB_B0 = [identity_op, H_loc, cl_ops[\"n_oc_op\"], cl_ops[\"n_oc_op\"]**2, cl_ops[\"x_op\"]]\n",
    "res = projections(Hamiltonian = HH, K0 = K0, basis = HB_B0, timespan  = ts, depth = 4, beta = beta, HB_B0 = HB_B0)"
   ]
  },
  {
   "cell_type": "code",
   "execution_count": null,
   "id": "d6bea4e9",
   "metadata": {},
   "outputs": [],
   "source": []
  },
  {
   "cell_type": "code",
   "execution_count": null,
   "id": "d1d7367e",
   "metadata": {},
   "outputs": [],
   "source": []
  },
  {
   "cell_type": "code",
   "execution_count": null,
   "id": "ee9dbf09",
   "metadata": {},
   "outputs": [],
   "source": []
  },
  {
   "cell_type": "code",
   "execution_count": null,
   "id": "3daa08b4",
   "metadata": {},
   "outputs": [],
   "source": []
  },
  {
   "cell_type": "code",
   "execution_count": 7,
   "id": "44985507",
   "metadata": {},
   "outputs": [],
   "source": [
    "def quantum_dynamics_KMB_corr(Hamiltonian, K0, basis, timespan, depth, beta, HB_B0):\n",
    "    print(\"*** 1. Starting at\", datetime.now)\n",
    "    results = {}\n",
    "    print(\"*** 2. Processing initial state of the system\")\n",
    "    print(\"*** 3. Building Hierarchical Basis of depth l = \", depth)\n",
    "    HBasis_local = matAnsys.build_Hierarchical_Basis(Hamiltonian = Hamiltonian,\n",
    "                                                     seed_operator = HB_B0[-1], \n",
    "                                                     depth = depth,\n",
    "                                                     tol = 1e-5, verbose = False)\n",
    "    Hierarchical_B = []; del HB_B0[-1]\n",
    "    Hierarchical_B = HB_B0  + HBasis_local\n",
    "        \n",
    "    for b in Hierarchical_B:\n",
    "        b.__hash__ = lambda slf: hash(id(slf))\n",
    "    \n",
    "    print(\"*** 4. Processing Manifold Restricted Dynamics.\\n     4A. Fetching categories of inner products.\\n \") \n",
    "    print(\"        ###. Solving with Exact Geometry\")\n",
    "    res_exact, rhot = me.solve_exact(Hamiltonian = Hamiltonian,\n",
    "                                     K0 = K0, \n",
    "                                     timespan = timespan,\n",
    "                                     return_evolved_rhos = True,\n",
    "                                     return_qutip_res_obj = True)\n",
    "    K_at_timet = res_exact.states\n",
    "    print(\"        ###. Projected Max-Ent solution with: \")\n",
    "    print(\"                                            A. KMB-geometry\")\n",
    "    instantaneous_KMB_geometry = [gij.fetch_kubo_scalar_product(sigma = rho) for rho in rhot]\n",
    "    print(\"                                            B. instantaneous correlation geometry\")\n",
    "    instantaneous_corr_geometry = [gij.fetch_corr_inner_prod(sigma = rho) for rho in rhot]\n",
    "    \n",
    "    return K_at_timet, Hierarchical_B, instantaneous_KMB_geometry, instantaneous_corr_geometry\n",
    "\n",
    "\n",
    "    print(\"     4B. Computing evolutions and Projections.\\n \")\n",
    "    print(\"        ###. 4. Instantaneous Correlation Geometry\")\n",
    "    result[\"corr (instataneous)\"] = [matAnsys.instantaneous_proj(Kti, Hierarchical_B, corr_sp, kmb_sp)\n",
    "                                     for Kti, corr_sp, kmb_sp in zip(K_at_timet, instantaneous_corr_geometry, instantaneous_KMB_geometry)]\n",
    "    print(\"        ###. 1. KMB Geometry\")\n",
    "    \n",
    "    sp = [gij.fetch_kubo_scalar_product(sigma) for sigma in rhot]\n",
    "    result[\"KMB\"] = [matAnsys.instantaneous_proj(Kti, Hierarchical_B, kmb_sp)\n",
    "                     for Kti, kmb_sp in zip(K_at_timet, instantaneous_KMB_geometry)]"
   ]
  },
  {
   "cell_type": "code",
   "execution_count": 8,
   "id": "dda7122d",
   "metadata": {},
   "outputs": [
    {
     "name": "stdout",
     "output_type": "stream",
     "text": [
      "*** 1. Starting at <built-in method now of type object at 0x00007FFD2636B650>\n",
      "*** 2. Processing initial state of the system\n",
      "*** 3. Building Hierarchical Basis of depth l =  4\n",
      "*** 4. Processing Manifold Restricted Dynamics.\n",
      "     4A. Fetching categories of inner products.\n",
      " \n",
      "        ###. Solving with Exact Geometry\n",
      "        ###. Projected Max-Ent solution with: \n",
      "                                            A. KMB-geometry\n",
      "                                            B. instantaneous correlation geometry\n"
     ]
    }
   ],
   "source": [
    "ts = np.linspace(0, 2.,10)\n",
    "HB_B0 = [identity_op, H_loc, cl_ops[\"n_oc_op\"], cl_ops[\"n_oc_op\"]**2, cl_ops[\"x_op\"]]\n",
    "res = quantum_dynamics_KMB_corr(Hamiltonian = HH, K0 = K0, basis = HB_B0, timespan  = ts, depth = 4, beta = beta, HB_B0 = HB_B0)"
   ]
  },
  {
   "cell_type": "code",
   "execution_count": 9,
   "id": "95b8431b",
   "metadata": {},
   "outputs": [],
   "source": [
    "K_at_timet = res[0]; Hierarchical_B = res[1]; instantaneous_KMB_geometry = res[2]; instantaneous_corr_geometry = res[3]"
   ]
  },
  {
   "cell_type": "code",
   "execution_count": 10,
   "id": "75d972fa",
   "metadata": {
    "scrolled": false
   },
   "outputs": [
    {
     "name": "stderr",
     "output_type": "stream",
     "text": [
      "C:\\Users\\tomas\\PhD Physics\\2nd Year\\MaxEntEvsGeometries\\c_matrix_analysis_lib.py:74: RuntimeWarning: divide by zero encountered in power\n",
      "  mu ** (-.5) * sum( c* op for c,op in zip(v, basis))\n",
      "C:\\Users\\tomas\\PhD Physics\\2nd Year\\MaxEntEvsGeometries\\c_matrix_analysis_lib.py:74: RuntimeWarning: invalid value encountered in power\n",
      "  mu ** (-.5) * sum( c* op for c,op in zip(v, basis))\n"
     ]
    },
    {
     "ename": "ValueError",
     "evalue": "dimension mismatch",
     "output_type": "error",
     "traceback": [
      "\u001b[1;31m---------------------------------------------------------------------------\u001b[0m",
      "\u001b[1;31mValueError\u001b[0m                                Traceback (most recent call last)",
      "Input \u001b[1;32mIn [10]\u001b[0m, in \u001b[0;36m<cell line: 1>\u001b[1;34m()\u001b[0m\n\u001b[1;32m----> 1\u001b[0m corr_instantaneous \u001b[38;5;241m=\u001b[39m [matAnsys\u001b[38;5;241m.\u001b[39minstantaneous_proj(K_at_timet[i], Hierarchical_B, instantaneous_corr_geometry[i], instantaneous_KMB_geometry[i])\n\u001b[0;32m      2\u001b[0m                         \u001b[38;5;28;01mfor\u001b[39;00m i \u001b[38;5;129;01min\u001b[39;00m \u001b[38;5;28mrange\u001b[39m(\u001b[38;5;28mlen\u001b[39m(ts))]\n",
      "Input \u001b[1;32mIn [10]\u001b[0m, in \u001b[0;36m<listcomp>\u001b[1;34m(.0)\u001b[0m\n\u001b[1;32m----> 1\u001b[0m corr_instantaneous \u001b[38;5;241m=\u001b[39m [\u001b[43mmatAnsys\u001b[49m\u001b[38;5;241;43m.\u001b[39;49m\u001b[43minstantaneous_proj\u001b[49m\u001b[43m(\u001b[49m\u001b[43mK_at_timet\u001b[49m\u001b[43m[\u001b[49m\u001b[43mi\u001b[49m\u001b[43m]\u001b[49m\u001b[43m,\u001b[49m\u001b[43m \u001b[49m\u001b[43mHierarchical_B\u001b[49m\u001b[43m,\u001b[49m\u001b[43m \u001b[49m\u001b[43minstantaneous_corr_geometry\u001b[49m\u001b[43m[\u001b[49m\u001b[43mi\u001b[49m\u001b[43m]\u001b[49m\u001b[43m,\u001b[49m\u001b[43m \u001b[49m\u001b[43minstantaneous_KMB_geometry\u001b[49m\u001b[43m[\u001b[49m\u001b[43mi\u001b[49m\u001b[43m]\u001b[49m\u001b[43m)\u001b[49m\n\u001b[0;32m      2\u001b[0m                         \u001b[38;5;28;01mfor\u001b[39;00m i \u001b[38;5;129;01min\u001b[39;00m \u001b[38;5;28mrange\u001b[39m(\u001b[38;5;28mlen\u001b[39m(ts))]\n",
      "File \u001b[1;32m~\\PhD Physics\\2nd Year\\MaxEntEvsGeometries\\c_matrix_analysis_lib.py:135\u001b[0m, in \u001b[0;36minstantaneous_proj\u001b[1;34m(K_at_timet, basis, sp, kmb_sp)\u001b[0m\n\u001b[0;32m    134\u001b[0m \u001b[38;5;28;01mdef\u001b[39;00m \u001b[38;5;21minstantaneous_proj\u001b[39m(K_at_timet, basis, sp, kmb_sp):\n\u001b[1;32m--> 135\u001b[0m     basis \u001b[38;5;241m=\u001b[39m \u001b[43morthogonalize_basis\u001b[49m\u001b[43m(\u001b[49m\u001b[43mbasis\u001b[49m\u001b[43m,\u001b[49m\u001b[43m \u001b[49m\u001b[43msp\u001b[49m\u001b[43m)\u001b[49m\n\u001b[0;32m    136\u001b[0m     distance \u001b[38;5;241m=\u001b[39m fetch_induced_distance(kmb_sp)\n\u001b[0;32m    137\u001b[0m     kp \u001b[38;5;241m=\u001b[39m \u001b[38;5;28msum\u001b[39m(phi \u001b[38;5;241m*\u001b[39m op \u001b[38;5;28;01mfor\u001b[39;00m phi, op \u001b[38;5;129;01min\u001b[39;00m \u001b[38;5;28mzip\u001b[39m(project_op(K_at_timet, basis, sp), basis))\n",
      "File \u001b[1;32m~\\PhD Physics\\2nd Year\\MaxEntEvsGeometries\\c_matrix_analysis_lib.py:73\u001b[0m, in \u001b[0;36morthogonalize_basis\u001b[1;34m(basis, innerprod, idop, tol)\u001b[0m\n\u001b[0;32m     71\u001b[0m evals, evecs \u001b[38;5;241m=\u001b[39m np\u001b[38;5;241m.\u001b[39mlinalg\u001b[38;5;241m.\u001b[39meigh(gram)\n\u001b[0;32m     72\u001b[0m evecs \u001b[38;5;241m=\u001b[39m [vec\u001b[38;5;241m/\u001b[39mnp\u001b[38;5;241m.\u001b[39mlinalg\u001b[38;5;241m.\u001b[39mnorm(vec) \u001b[38;5;28;01mfor\u001b[39;00m vec \u001b[38;5;129;01min\u001b[39;00m evecs\u001b[38;5;241m.\u001b[39mtranspose()]\n\u001b[1;32m---> 73\u001b[0m \u001b[38;5;28;01mreturn\u001b[39;00m [\n\u001b[0;32m     74\u001b[0m         mu \u001b[38;5;241m*\u001b[39m\u001b[38;5;241m*\u001b[39m (\u001b[38;5;241m-\u001b[39m\u001b[38;5;241m.5\u001b[39m) \u001b[38;5;241m*\u001b[39m \u001b[38;5;28msum\u001b[39m( c\u001b[38;5;241m*\u001b[39m op \u001b[38;5;28;01mfor\u001b[39;00m c,op \u001b[38;5;129;01min\u001b[39;00m \u001b[38;5;28mzip\u001b[39m(v, basis))\n\u001b[0;32m     75\u001b[0m             \u001b[38;5;28;01mfor\u001b[39;00m mu, v \u001b[38;5;129;01min\u001b[39;00m \u001b[38;5;28mzip\u001b[39m(evals, evecs) \n\u001b[0;32m     76\u001b[0m     ]\n",
      "File \u001b[1;32m~\\PhD Physics\\2nd Year\\MaxEntEvsGeometries\\c_matrix_analysis_lib.py:74\u001b[0m, in \u001b[0;36m<listcomp>\u001b[1;34m(.0)\u001b[0m\n\u001b[0;32m     71\u001b[0m evals, evecs \u001b[38;5;241m=\u001b[39m np\u001b[38;5;241m.\u001b[39mlinalg\u001b[38;5;241m.\u001b[39meigh(gram)\n\u001b[0;32m     72\u001b[0m evecs \u001b[38;5;241m=\u001b[39m [vec\u001b[38;5;241m/\u001b[39mnp\u001b[38;5;241m.\u001b[39mlinalg\u001b[38;5;241m.\u001b[39mnorm(vec) \u001b[38;5;28;01mfor\u001b[39;00m vec \u001b[38;5;129;01min\u001b[39;00m evecs\u001b[38;5;241m.\u001b[39mtranspose()]\n\u001b[0;32m     73\u001b[0m \u001b[38;5;28;01mreturn\u001b[39;00m [\n\u001b[1;32m---> 74\u001b[0m         mu \u001b[38;5;241m*\u001b[39m\u001b[38;5;241m*\u001b[39m (\u001b[38;5;241m-\u001b[39m\u001b[38;5;241m.5\u001b[39m) \u001b[38;5;241m*\u001b[39m \u001b[38;5;28;43msum\u001b[39;49m\u001b[43m(\u001b[49m\u001b[43m \u001b[49m\u001b[43mc\u001b[49m\u001b[38;5;241;43m*\u001b[39;49m\u001b[43m \u001b[49m\u001b[43mop\u001b[49m\u001b[43m \u001b[49m\u001b[38;5;28;43;01mfor\u001b[39;49;00m\u001b[43m \u001b[49m\u001b[43mc\u001b[49m\u001b[43m,\u001b[49m\u001b[43mop\u001b[49m\u001b[43m \u001b[49m\u001b[38;5;129;43;01min\u001b[39;49;00m\u001b[43m \u001b[49m\u001b[38;5;28;43mzip\u001b[39;49m\u001b[43m(\u001b[49m\u001b[43mv\u001b[49m\u001b[43m,\u001b[49m\u001b[43m \u001b[49m\u001b[43mbasis\u001b[49m\u001b[43m)\u001b[49m\u001b[43m)\u001b[49m\n\u001b[0;32m     75\u001b[0m             \u001b[38;5;28;01mfor\u001b[39;00m mu, v \u001b[38;5;129;01min\u001b[39;00m \u001b[38;5;28mzip\u001b[39m(evals, evecs) \n\u001b[0;32m     76\u001b[0m     ]\n",
      "File \u001b[1;32m~\\PhD Physics\\2nd Year\\MaxEntEvsGeometries\\c_matrix_analysis_lib.py:74\u001b[0m, in \u001b[0;36m<genexpr>\u001b[1;34m(.0)\u001b[0m\n\u001b[0;32m     71\u001b[0m evals, evecs \u001b[38;5;241m=\u001b[39m np\u001b[38;5;241m.\u001b[39mlinalg\u001b[38;5;241m.\u001b[39meigh(gram)\n\u001b[0;32m     72\u001b[0m evecs \u001b[38;5;241m=\u001b[39m [vec\u001b[38;5;241m/\u001b[39mnp\u001b[38;5;241m.\u001b[39mlinalg\u001b[38;5;241m.\u001b[39mnorm(vec) \u001b[38;5;28;01mfor\u001b[39;00m vec \u001b[38;5;129;01min\u001b[39;00m evecs\u001b[38;5;241m.\u001b[39mtranspose()]\n\u001b[0;32m     73\u001b[0m \u001b[38;5;28;01mreturn\u001b[39;00m [\n\u001b[1;32m---> 74\u001b[0m         mu \u001b[38;5;241m*\u001b[39m\u001b[38;5;241m*\u001b[39m (\u001b[38;5;241m-\u001b[39m\u001b[38;5;241m.5\u001b[39m) \u001b[38;5;241m*\u001b[39m \u001b[38;5;28msum\u001b[39m( \u001b[43mc\u001b[49m\u001b[38;5;241;43m*\u001b[39;49m\u001b[43m \u001b[49m\u001b[43mop\u001b[49m \u001b[38;5;28;01mfor\u001b[39;00m c,op \u001b[38;5;129;01min\u001b[39;00m \u001b[38;5;28mzip\u001b[39m(v, basis))\n\u001b[0;32m     75\u001b[0m             \u001b[38;5;28;01mfor\u001b[39;00m mu, v \u001b[38;5;129;01min\u001b[39;00m \u001b[38;5;28mzip\u001b[39m(evals, evecs) \n\u001b[0;32m     76\u001b[0m     ]\n",
      "File \u001b[1;32m~\\anaconda3\\lib\\site-packages\\qutip\\qobj.py:603\u001b[0m, in \u001b[0;36mQobj.__rmul__\u001b[1;34m(self, other)\u001b[0m\n\u001b[0;32m    601\u001b[0m         \u001b[38;5;28;01mreturn\u001b[39;00m out\n\u001b[0;32m    602\u001b[0m     \u001b[38;5;28;01melse\u001b[39;00m:\n\u001b[1;32m--> 603\u001b[0m         \u001b[38;5;28;01mreturn\u001b[39;00m \u001b[43mother\u001b[49m\u001b[43m \u001b[49m\u001b[38;5;241;43m*\u001b[39;49m\u001b[43m \u001b[49m\u001b[38;5;28;43mself\u001b[39;49m\u001b[38;5;241;43m.\u001b[39;49m\u001b[43mdata\u001b[49m\n\u001b[0;32m    605\u001b[0m \u001b[38;5;28;01melif\u001b[39;00m \u001b[38;5;28misinstance\u001b[39m(other, \u001b[38;5;28mlist\u001b[39m):\n\u001b[0;32m    606\u001b[0m     \u001b[38;5;66;03m# if other is a list, do element-wise multiplication\u001b[39;00m\n\u001b[0;32m    607\u001b[0m     out \u001b[38;5;241m=\u001b[39m np\u001b[38;5;241m.\u001b[39mempty(\u001b[38;5;28mlen\u001b[39m(other), dtype\u001b[38;5;241m=\u001b[39m\u001b[38;5;28mobject\u001b[39m)\n",
      "File \u001b[1;32m~\\anaconda3\\lib\\site-packages\\scipy\\sparse\\base.py:550\u001b[0m, in \u001b[0;36mspmatrix.__rmul__\u001b[1;34m(self, other)\u001b[0m\n\u001b[0;32m    548\u001b[0m \u001b[38;5;28;01mexcept\u001b[39;00m \u001b[38;5;167;01mAttributeError\u001b[39;00m:\n\u001b[0;32m    549\u001b[0m     tr \u001b[38;5;241m=\u001b[39m np\u001b[38;5;241m.\u001b[39masarray(other)\u001b[38;5;241m.\u001b[39mtranspose()\n\u001b[1;32m--> 550\u001b[0m \u001b[38;5;28;01mreturn\u001b[39;00m (\u001b[38;5;28;43mself\u001b[39;49m\u001b[38;5;241;43m.\u001b[39;49m\u001b[43mtranspose\u001b[49m\u001b[43m(\u001b[49m\u001b[43m)\u001b[49m\u001b[43m \u001b[49m\u001b[38;5;241;43m*\u001b[39;49m\u001b[43m \u001b[49m\u001b[43mtr\u001b[49m)\u001b[38;5;241m.\u001b[39mtranspose()\n",
      "File \u001b[1;32m~\\anaconda3\\lib\\site-packages\\scipy\\sparse\\base.py:516\u001b[0m, in \u001b[0;36mspmatrix.__mul__\u001b[1;34m(self, other)\u001b[0m\n\u001b[0;32m    511\u001b[0m \u001b[38;5;28;01melif\u001b[39;00m other\u001b[38;5;241m.\u001b[39mndim \u001b[38;5;241m==\u001b[39m \u001b[38;5;241m2\u001b[39m:\n\u001b[0;32m    512\u001b[0m     \u001b[38;5;66;03m##\u001b[39;00m\n\u001b[0;32m    513\u001b[0m     \u001b[38;5;66;03m# dense 2D array or matrix (\"multivector\")\u001b[39;00m\n\u001b[0;32m    515\u001b[0m     \u001b[38;5;28;01mif\u001b[39;00m other\u001b[38;5;241m.\u001b[39mshape[\u001b[38;5;241m0\u001b[39m] \u001b[38;5;241m!=\u001b[39m \u001b[38;5;28mself\u001b[39m\u001b[38;5;241m.\u001b[39mshape[\u001b[38;5;241m1\u001b[39m]:\n\u001b[1;32m--> 516\u001b[0m         \u001b[38;5;28;01mraise\u001b[39;00m \u001b[38;5;167;01mValueError\u001b[39;00m(\u001b[38;5;124m'\u001b[39m\u001b[38;5;124mdimension mismatch\u001b[39m\u001b[38;5;124m'\u001b[39m)\n\u001b[0;32m    518\u001b[0m     result \u001b[38;5;241m=\u001b[39m \u001b[38;5;28mself\u001b[39m\u001b[38;5;241m.\u001b[39m_mul_multivector(np\u001b[38;5;241m.\u001b[39masarray(other))\n\u001b[0;32m    520\u001b[0m     \u001b[38;5;28;01mif\u001b[39;00m \u001b[38;5;28misinstance\u001b[39m(other, np\u001b[38;5;241m.\u001b[39mmatrix):\n",
      "\u001b[1;31mValueError\u001b[0m: dimension mismatch"
     ]
    }
   ],
   "source": [
    "corr_instantaneous = [matAnsys.instantaneous_proj(K_at_timet[i], Hierarchical_B, instantaneous_corr_geometry[i], instantaneous_KMB_geometry[i])\n",
    "                        for i in range(len(ts))]"
   ]
  },
  {
   "cell_type": "code",
   "execution_count": null,
   "id": "255c008b",
   "metadata": {},
   "outputs": [],
   "source": []
  },
  {
   "cell_type": "code",
   "execution_count": null,
   "id": "62cc8708",
   "metadata": {},
   "outputs": [],
   "source": []
  },
  {
   "cell_type": "code",
   "execution_count": 15,
   "id": "0414c9d3",
   "metadata": {},
   "outputs": [],
   "source": [
    "def quantum_dynamics(Hamiltonian, K0, basis, timespan, depth, beta, HB_B0):\n",
    "    print(\"*** 1. Starting at\", datetime.now)\n",
    "    results = {}\n",
    "    print(\"*** 2. Processing initial state of the system\")\n",
    "    print(\"*** 3. Building Hierarchical Basis of depth l = \", depth)\n",
    "    HBasis_local = matAnsys.build_Hierarchical_Basis(Hamiltonian = Hamiltonian,\n",
    "                                                     seed_operator = HB_B0[-1], \n",
    "                                                     depth = depth,\n",
    "                                                     tol = 1e-5, verbose = False)\n",
    "    Hierarchical_B = []; del HB_B0[-1]\n",
    "    Hierarchical_B = HB_B0  + HBasis_local\n",
    "    print(\"*** 4. Processing Manifold Restricted Dynamics.\\n     4A. Fetching categories of inner products.\\n \") \n",
    "    print(\"        ###. Solving with Exact Geometry\")\n",
    "    res_exact, rhot = me.solve_exact(Hamiltonian = Hamiltonian,\n",
    "                                     K0 = K0, \n",
    "                                     timespan = timespan,\n",
    "                                     return_evolved_rhos = True,\n",
    "                                     return_qutip_res_obj = True)\n",
    "    K_at_timet = res_exact.states\n",
    "    print(\"        ###. Projected Max-Ent solution with: \")\n",
    "    print(\"                                            A. KMB-geometry\")\n",
    "    instantaneous_KMB_geometry = [gij.fetch_kubo_int_inner_prod(sigma = rho) for rho in rhot]\n",
    "    print(\"                                            B. instantaneous correlation geometry\")\n",
    "    instantaneous_corr_geometry = [gij.fetch_corr_inner_prod(sigma = rho) for rho in rhot]\n",
    "    \n",
    "    print(\"     4B. Computing evolutions and Projections.\\n \")\n",
    "    print(\"        ###. 1. KMB Geometry\")\n",
    "    \n",
    "    sp = [gij.fetch_kubo_int_inner_prod(sigma) for sigma in rhot]\n",
    "    orth_basis = [matAnsys.orthogonalize_basis(Hierarchical_B, sp_at_timet) for sp_at_timet in sp]\n",
    "    result[\"KMB\"] = [matAnsys.instantaneous_proj(rho_at_timet, orth_basis_at_timet, kmb_sp, kmb_sp)\n",
    "                     for rho_at_timet, orth_basis_at_timet, kmb_sp in zip(rhot, orth_basis_at_timet, instantaneous_KMB_geometry)]\n",
    "    \n",
    "    print(\"        ###. 2. Hilbert Schmidt Geometry\")\n",
    "    sp = gij.fetch_HS_scalar_product()\n",
    "    orth_basis = gij.orthogonalize_basis(Hierarchical_B, sp)\n",
    "    result[\"HS\"] = [matAnsys.static_proj(rho_at_timet, orth_basis, sp, kmb_sp)\n",
    "                    for rho_at_timet, kmb_sp in zip(rhot, instantaneous_KMB_geometry)\n",
    "                        ]\n",
    "    \n",
    "    print(\"        ###. 3. Stationary Correlation Geometry\")\n",
    "    sp = gij.fetch_corr_inner_prod(state)\n",
    "    orth_basis = gij.orthogonalize_basis(Hierarchical_B, sp)\n",
    "    result[\"corr (stationary)\"] = [matAnsys.static_proj(rho_at_timet, orth_basis, sp, kmb_sp)\n",
    "                                   for rho_at_timet, kmb_sp in zip(rhot, instantaneous_KMB_geometry)]\n",
    "    print(\"        ###. 4. Instantaneous Correlation Geometry\")\n",
    "    \n",
    "    result[\"corr (instataneous)\"] = [matAnsys.instaneous_proj(rho_at_timet, orth_basis, corr_sp, kmb_sp)\n",
    "                                     for rho_at_timet, kmb_sp in zip(rhot, instantaneous_KMB_geometry)]\n",
    "    \n",
    "    print(\"***. Test 1: Testing the Hermiticity of the Basis\")\n",
    "    "
   ]
  },
  {
   "cell_type": "code",
   "execution_count": 16,
   "id": "0fa9e1a5",
   "metadata": {
    "scrolled": false
   },
   "outputs": [
    {
     "name": "stdout",
     "output_type": "stream",
     "text": [
      "*** 1. Starting at <built-in method now of type object at 0x00007FFD256EB650>\n",
      "*** 2. Processing initial state of the system\n",
      "*** 3. Building Hierarchical Basis of depth l =  4\n",
      "*** 4. Processing Manifold Restricted Dynamics.\n",
      "     4A. Fetching categories of inner products.\n",
      " \n",
      "        ###. Solving with Exact Geometry\n",
      "        ###. Projected Max-Ent solution with: \n",
      "                                            A. KMB-geometry\n",
      "                                            B. instantaneous correlation geometry\n",
      "     4B. Computing evolutions and Projections.\n",
      " \n",
      "        ###. 1. KMB Geometry\n"
     ]
    },
    {
     "ename": "NameError",
     "evalue": "name 'p' is not defined",
     "output_type": "error",
     "traceback": [
      "\u001b[1;31m---------------------------------------------------------------------------\u001b[0m",
      "\u001b[1;31mNameError\u001b[0m                                 Traceback (most recent call last)",
      "Input \u001b[1;32mIn [16]\u001b[0m, in \u001b[0;36m<cell line: 3>\u001b[1;34m()\u001b[0m\n\u001b[0;32m      1\u001b[0m ts \u001b[38;5;241m=\u001b[39m np\u001b[38;5;241m.\u001b[39mlinspace(\u001b[38;5;241m0\u001b[39m, \u001b[38;5;241m2.0\u001b[39m,\u001b[38;5;241m100\u001b[39m)\n\u001b[0;32m      2\u001b[0m HB_B0 \u001b[38;5;241m=\u001b[39m [identity_op, H_loc, cl_ops[\u001b[38;5;124m\"\u001b[39m\u001b[38;5;124mn_oc_op\u001b[39m\u001b[38;5;124m\"\u001b[39m], cl_ops[\u001b[38;5;124m\"\u001b[39m\u001b[38;5;124mn_oc_op\u001b[39m\u001b[38;5;124m\"\u001b[39m]\u001b[38;5;241m*\u001b[39m\u001b[38;5;241m*\u001b[39m\u001b[38;5;241m2\u001b[39m, cl_ops[\u001b[38;5;124m\"\u001b[39m\u001b[38;5;124mx_op\u001b[39m\u001b[38;5;124m\"\u001b[39m]]\n\u001b[1;32m----> 3\u001b[0m \u001b[43mquantum_dynamics\u001b[49m\u001b[43m(\u001b[49m\u001b[43mHamiltonian\u001b[49m\u001b[43m \u001b[49m\u001b[38;5;241;43m=\u001b[39;49m\u001b[43m \u001b[49m\u001b[43mHH\u001b[49m\u001b[43m,\u001b[49m\u001b[43m \u001b[49m\u001b[43mK0\u001b[49m\u001b[43m \u001b[49m\u001b[38;5;241;43m=\u001b[39;49m\u001b[43m \u001b[49m\u001b[43mK0\u001b[49m\u001b[43m,\u001b[49m\u001b[43m \u001b[49m\u001b[43mbasis\u001b[49m\u001b[43m \u001b[49m\u001b[38;5;241;43m=\u001b[39;49m\u001b[43m \u001b[49m\u001b[43mHB_B0\u001b[49m\u001b[43m,\u001b[49m\u001b[43m \u001b[49m\u001b[43mtimespan\u001b[49m\u001b[43m  \u001b[49m\u001b[38;5;241;43m=\u001b[39;49m\u001b[43m \u001b[49m\u001b[43mts\u001b[49m\u001b[43m,\u001b[49m\u001b[43m \u001b[49m\u001b[43mdepth\u001b[49m\u001b[43m \u001b[49m\u001b[38;5;241;43m=\u001b[39;49m\u001b[43m \u001b[49m\u001b[38;5;241;43m4\u001b[39;49m\u001b[43m,\u001b[49m\u001b[43m \u001b[49m\u001b[43mbeta\u001b[49m\u001b[43m \u001b[49m\u001b[38;5;241;43m=\u001b[39;49m\u001b[43m \u001b[49m\u001b[43mbeta\u001b[49m\u001b[43m,\u001b[49m\u001b[43m \u001b[49m\u001b[43mHB_B0\u001b[49m\u001b[43m \u001b[49m\u001b[38;5;241;43m=\u001b[39;49m\u001b[43m \u001b[49m\u001b[43mHB_B0\u001b[49m\u001b[43m)\u001b[49m\n",
      "Input \u001b[1;32mIn [15]\u001b[0m, in \u001b[0;36mquantum_dynamics\u001b[1;34m(Hamiltonian, K0, basis, timespan, depth, beta, HB_B0)\u001b[0m\n\u001b[0;32m     27\u001b[0m \u001b[38;5;28mprint\u001b[39m(\u001b[38;5;124m\"\u001b[39m\u001b[38;5;124m        ###. 1. KMB Geometry\u001b[39m\u001b[38;5;124m\"\u001b[39m)\n\u001b[0;32m     29\u001b[0m sp \u001b[38;5;241m=\u001b[39m [gij\u001b[38;5;241m.\u001b[39mfetch_kubo_int_inner_prod(sigma) \u001b[38;5;28;01mfor\u001b[39;00m sigma \u001b[38;5;129;01min\u001b[39;00m rhot]\n\u001b[1;32m---> 30\u001b[0m orth_basis \u001b[38;5;241m=\u001b[39m [matAnsys\u001b[38;5;241m.\u001b[39morthogonalize_basis(Hierarchical_B, sp_at_timet) \u001b[38;5;28;01mfor\u001b[39;00m sp_at_timet \u001b[38;5;129;01min\u001b[39;00m sp]\n\u001b[0;32m     31\u001b[0m result[\u001b[38;5;124m\"\u001b[39m\u001b[38;5;124mKMB\u001b[39m\u001b[38;5;124m\"\u001b[39m] \u001b[38;5;241m=\u001b[39m [matAnsys\u001b[38;5;241m.\u001b[39minstantaneous_proj(rho_at_timet, orth_basis_at_timet, kmb_sp, kmb_sp)\n\u001b[0;32m     32\u001b[0m                  \u001b[38;5;28;01mfor\u001b[39;00m rho_at_timet, orth_basis_at_timet, kmb_sp \u001b[38;5;129;01min\u001b[39;00m \u001b[38;5;28mzip\u001b[39m(rhot, orth_basis_at_timet, instantaneous_KMB_geometry)]\n\u001b[0;32m     34\u001b[0m \u001b[38;5;28mprint\u001b[39m(\u001b[38;5;124m\"\u001b[39m\u001b[38;5;124m        ###. 2. Hilbert Schmidt Geometry\u001b[39m\u001b[38;5;124m\"\u001b[39m)\n",
      "Input \u001b[1;32mIn [15]\u001b[0m, in \u001b[0;36m<listcomp>\u001b[1;34m(.0)\u001b[0m\n\u001b[0;32m     27\u001b[0m \u001b[38;5;28mprint\u001b[39m(\u001b[38;5;124m\"\u001b[39m\u001b[38;5;124m        ###. 1. KMB Geometry\u001b[39m\u001b[38;5;124m\"\u001b[39m)\n\u001b[0;32m     29\u001b[0m sp \u001b[38;5;241m=\u001b[39m [gij\u001b[38;5;241m.\u001b[39mfetch_kubo_int_inner_prod(sigma) \u001b[38;5;28;01mfor\u001b[39;00m sigma \u001b[38;5;129;01min\u001b[39;00m rhot]\n\u001b[1;32m---> 30\u001b[0m orth_basis \u001b[38;5;241m=\u001b[39m [\u001b[43mmatAnsys\u001b[49m\u001b[38;5;241;43m.\u001b[39;49m\u001b[43morthogonalize_basis\u001b[49m\u001b[43m(\u001b[49m\u001b[43mHierarchical_B\u001b[49m\u001b[43m,\u001b[49m\u001b[43m \u001b[49m\u001b[43msp_at_timet\u001b[49m\u001b[43m)\u001b[49m \u001b[38;5;28;01mfor\u001b[39;00m sp_at_timet \u001b[38;5;129;01min\u001b[39;00m sp]\n\u001b[0;32m     31\u001b[0m result[\u001b[38;5;124m\"\u001b[39m\u001b[38;5;124mKMB\u001b[39m\u001b[38;5;124m\"\u001b[39m] \u001b[38;5;241m=\u001b[39m [matAnsys\u001b[38;5;241m.\u001b[39minstantaneous_proj(rho_at_timet, orth_basis_at_timet, kmb_sp, kmb_sp)\n\u001b[0;32m     32\u001b[0m                  \u001b[38;5;28;01mfor\u001b[39;00m rho_at_timet, orth_basis_at_timet, kmb_sp \u001b[38;5;129;01min\u001b[39;00m \u001b[38;5;28mzip\u001b[39m(rhot, orth_basis_at_timet, instantaneous_KMB_geometry)]\n\u001b[0;32m     34\u001b[0m \u001b[38;5;28mprint\u001b[39m(\u001b[38;5;124m\"\u001b[39m\u001b[38;5;124m        ###. 2. Hilbert Schmidt Geometry\u001b[39m\u001b[38;5;124m\"\u001b[39m)\n",
      "File \u001b[1;32m~\\PhD Physics\\2nd Year\\MaxEntEvsGeometries\\c_matrix_analysis_lib.py:53\u001b[0m, in \u001b[0;36morthogonalize_basis\u001b[1;34m(basis, innerprod, idop, tol)\u001b[0m\n\u001b[0;32m     51\u001b[0m evals, evecs \u001b[38;5;241m=\u001b[39m np\u001b[38;5;241m.\u001b[39mlinalg\u001b[38;5;241m.\u001b[39meigh(gram)\n\u001b[0;32m     52\u001b[0m evecs \u001b[38;5;241m=\u001b[39m [vec\u001b[38;5;241m/\u001b[39mnp\u001b[38;5;241m.\u001b[39mlinalg\u001b[38;5;241m.\u001b[39mnorm(vec) \u001b[38;5;28;01mfor\u001b[39;00m vec \u001b[38;5;129;01min\u001b[39;00m evecs\u001b[38;5;241m.\u001b[39mtranspose()]\n\u001b[1;32m---> 53\u001b[0m \u001b[38;5;28;01mreturn\u001b[39;00m [\n\u001b[0;32m     54\u001b[0m         mu \u001b[38;5;241m*\u001b[39m\u001b[38;5;241m*\u001b[39m (\u001b[38;5;241m-\u001b[39m\u001b[38;5;241m.5\u001b[39m) \u001b[38;5;241m*\u001b[39m \u001b[38;5;28msum\u001b[39m( c\u001b[38;5;241m*\u001b[39m op \u001b[38;5;28;01mfor\u001b[39;00m c,op \u001b[38;5;129;01min\u001b[39;00m \u001b[38;5;28mzip\u001b[39m(v, basis))\n\u001b[0;32m     55\u001b[0m             \u001b[38;5;28;01mfor\u001b[39;00m mu, v \u001b[38;5;129;01min\u001b[39;00m \u001b[38;5;28mzip\u001b[39m(evals, evecs) \u001b[38;5;28;01mif\u001b[39;00m p \u001b[38;5;241m>\u001b[39m\u001b[38;5;241m=\u001b[39m tol\n\u001b[0;32m     56\u001b[0m     ]\n",
      "File \u001b[1;32m~\\PhD Physics\\2nd Year\\MaxEntEvsGeometries\\c_matrix_analysis_lib.py:55\u001b[0m, in \u001b[0;36m<listcomp>\u001b[1;34m(.0)\u001b[0m\n\u001b[0;32m     51\u001b[0m evals, evecs \u001b[38;5;241m=\u001b[39m np\u001b[38;5;241m.\u001b[39mlinalg\u001b[38;5;241m.\u001b[39meigh(gram)\n\u001b[0;32m     52\u001b[0m evecs \u001b[38;5;241m=\u001b[39m [vec\u001b[38;5;241m/\u001b[39mnp\u001b[38;5;241m.\u001b[39mlinalg\u001b[38;5;241m.\u001b[39mnorm(vec) \u001b[38;5;28;01mfor\u001b[39;00m vec \u001b[38;5;129;01min\u001b[39;00m evecs\u001b[38;5;241m.\u001b[39mtranspose()]\n\u001b[0;32m     53\u001b[0m \u001b[38;5;28;01mreturn\u001b[39;00m [\n\u001b[0;32m     54\u001b[0m         mu \u001b[38;5;241m*\u001b[39m\u001b[38;5;241m*\u001b[39m (\u001b[38;5;241m-\u001b[39m\u001b[38;5;241m.5\u001b[39m) \u001b[38;5;241m*\u001b[39m \u001b[38;5;28msum\u001b[39m( c\u001b[38;5;241m*\u001b[39m op \u001b[38;5;28;01mfor\u001b[39;00m c,op \u001b[38;5;129;01min\u001b[39;00m \u001b[38;5;28mzip\u001b[39m(v, basis))\n\u001b[1;32m---> 55\u001b[0m             \u001b[38;5;28;01mfor\u001b[39;00m mu, v \u001b[38;5;129;01min\u001b[39;00m \u001b[38;5;28mzip\u001b[39m(evals, evecs) \u001b[38;5;28;01mif\u001b[39;00m \u001b[43mp\u001b[49m \u001b[38;5;241m>\u001b[39m\u001b[38;5;241m=\u001b[39m tol\n\u001b[0;32m     56\u001b[0m     ]\n",
      "\u001b[1;31mNameError\u001b[0m: name 'p' is not defined"
     ]
    }
   ],
   "source": [
    "ts = np.linspace(0, 2.0,100)\n",
    "HB_B0 = [identity_op, H_loc, cl_ops[\"n_oc_op\"], cl_ops[\"n_oc_op\"]**2, cl_ops[\"x_op\"]]\n",
    "quantum_dynamics(Hamiltonian = HH, K0 = K0, basis = HB_B0, timespan  = ts, depth = 4, beta = beta, HB_B0 = HB_B0)"
   ]
  },
  {
   "cell_type": "code",
   "execution_count": 14,
   "id": "ad59f758",
   "metadata": {},
   "outputs": [],
   "source": [
    "evals, evecs = HB_B0[-1].eigenstates()"
   ]
  },
  {
   "cell_type": "code",
   "execution_count": 21,
   "id": "cea3fe8f",
   "metadata": {},
   "outputs": [],
   "source": [
    "res_exact, rhot = me.solve_exact(Hamiltonian = HH,\n",
    "                                     K0 = K0, \n",
    "                                     timespan = ts,\n",
    "                                     return_evolved_rhos = True,\n",
    "                                     return_qutip_res_obj = True)"
   ]
  },
  {
   "cell_type": "code",
   "execution_count": 29,
   "id": "0ebc5606",
   "metadata": {},
   "outputs": [
    {
     "data": {
      "text/plain": [
       "(Quantum object: dims = [[2, 2, 2, 2, 2, 2], [2, 2, 2, 2, 2, 2]], shape = (64, 64), type = oper, isherm = True\n",
       " Qobj data =\n",
       " [[ 0.0010003 +0.00000000e+00j  0.        +0.00000000e+00j\n",
       "    0.        +0.00000000e+00j ...  0.        +0.00000000e+00j\n",
       "    0.        +0.00000000e+00j -0.00325972+1.97532398e-06j]\n",
       "  [ 0.        +0.00000000e+00j  0.00241424+0.00000000e+00j\n",
       "    0.00280426+3.28479660e-06j ...  0.00645906+2.29592971e-05j\n",
       "    0.00781489+3.31444458e-05j  0.        +0.00000000e+00j]\n",
       "  [ 0.        +0.00000000e+00j  0.00280426-3.28479660e-06j\n",
       "    0.00326074+0.00000000e+00j ...  0.00749856+1.78707179e-05j\n",
       "    0.00907371+2.78546191e-05j  0.        +0.00000000e+00j]\n",
       "  ...\n",
       "  [ 0.        +0.00000000e+00j  0.00645906-2.29592971e-05j\n",
       "    0.00749856-1.78707179e-05j ...  0.01845093+0.00000000e+00j\n",
       "    0.02234004+1.53384481e-05j  0.        +0.00000000e+00j]\n",
       "  [ 0.        +0.00000000e+00j  0.00781489-3.31444458e-05j\n",
       "    0.00907371-2.78546191e-05j ...  0.02234004-1.53384481e-05j\n",
       "    0.02742032+0.00000000e+00j  0.        +0.00000000e+00j]\n",
       "  [-0.00325972-1.97532398e-06j  0.        +0.00000000e+00j\n",
       "    0.        +0.00000000e+00j ...  0.        +0.00000000e+00j\n",
       "    0.        +0.00000000e+00j  0.01120846+0.00000000e+00j]],\n",
       " None)"
      ]
     },
     "execution_count": 29,
     "metadata": {},
     "output_type": "execute_result"
    }
   ],
   "source": [
    "rhot[2]"
   ]
  },
  {
   "cell_type": "code",
   "execution_count": null,
   "id": "a915a2ac",
   "metadata": {},
   "outputs": [],
   "source": []
  }
 ],
 "metadata": {
  "kernelspec": {
   "display_name": "Python 3 (ipykernel)",
   "language": "python",
   "name": "python3"
  },
  "language_info": {
   "codemirror_mode": {
    "name": "ipython",
    "version": 3
   },
   "file_extension": ".py",
   "mimetype": "text/x-python",
   "name": "python",
   "nbconvert_exporter": "python",
   "pygments_lexer": "ipython3",
   "version": "3.9.12"
  }
 },
 "nbformat": 4,
 "nbformat_minor": 5
}
