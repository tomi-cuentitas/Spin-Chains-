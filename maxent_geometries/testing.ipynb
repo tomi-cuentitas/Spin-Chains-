{
 "cells": [
  {
   "cell_type": "code",
   "execution_count": 1,
   "id": "1f83a493",
   "metadata": {},
   "outputs": [],
   "source": [
    "import qutip, pickle, sys\n",
    "import matplotlib.pyplot as plt \n",
    "import numpy as np\n",
    "import scipy.optimize as opt \n",
    "import scipy.linalg as linalg\n",
    "import time as time\n",
    "import math, cmath\n",
    "\n",
    "import a_quantum_stateology_lib as qstates\n",
    "import b_quantum_geometries_lib as gij\n",
    "import c_matrix_analysis_lib as matAnsys \n",
    "import d_spin_representations_lib as su2\n",
    "import e_maxent_solver_lib as me\n",
    "\n",
    "from datetime import datetime"
   ]
  },
  {
   "cell_type": "code",
   "execution_count": 2,
   "id": "d16fbbdf",
   "metadata": {},
   "outputs": [],
   "source": [
    "N=6; chain_type = \"XY\"; k_B = 1; temp = 1e+1; temp_ref = 1e+1\n",
    "\n",
    "### One body local spin operators\n",
    "spin_ops_list = su2.one_body_spin_ops(size = N)\n",
    "identity_op = spin_ops_list[0][0]\n",
    "\n",
    "### Heisenberg Hamiltonian\n",
    "Hamiltonian_paras = [-1e-1, -2.5e-1, 0., .5e-1]\n",
    "H_loc = su2.Heisenberg_Hamiltonian(op_list = spin_ops_list, chain_type = chain_type,\n",
    "                                           size = N, Hamiltonian_paras = Hamiltonian_paras,\n",
    "                                           closed_bcs = True, visualization = False)\n",
    "\n",
    "### Generating classical observables\n",
    "\n",
    "cl_ops, label_ops = su2.classical_ops(size = N, Hamiltonian = H_loc,\n",
    "                                                op_list = spin_ops_list, centered_x_op = False)\n",
    "\n",
    "## The Hamiltonian is added a perturbation term \n",
    "perturbation_strength = max(Hamiltonian_paras)/2\n",
    "\n",
    "HH = H_loc + perturbation_strength * cl_ops[\"x_op\"]"
   ]
  },
  {
   "cell_type": "code",
   "execution_count": 3,
   "id": "33f4a7c5",
   "metadata": {
    "scrolled": false
   },
   "outputs": [],
   "source": [
    "# Exact evolution\n",
    "beta = 1/temp\n",
    "xmean = 10; nmean = 10; weight_H = 1e2; weight_x = 1e-2; weight_n = 1e-2\n",
    "\n",
    "K0 = weight_H * beta * HH + weight_x * (cl_ops[\"x_op\"] - xmean)**2 + weight_n * (cl_ops[\"n_oc_op\"] - nmean)**2\n",
    "rho0 = matAnsys.safe_expm_and_normalize(K = K0, return_free_energy = False)"
   ]
  },
  {
   "cell_type": "code",
   "execution_count": 4,
   "id": "d5c76b3b",
   "metadata": {
    "scrolled": true
   },
   "outputs": [
    {
     "data": {
      "text/plain": [
       "2.5221775081807545"
      ]
     },
     "execution_count": 4,
     "metadata": {},
     "output_type": "execute_result"
    }
   ],
   "source": [
    "qutip.expect(rho0, cl_ops[\"n_oc_op\"])"
   ]
  },
  {
   "cell_type": "code",
   "execution_count": 5,
   "id": "42b2aacb",
   "metadata": {},
   "outputs": [],
   "source": [
    "subset_of_observables = {}; subset_label_ops = []\n",
    "subset_of_observables[\"x_op_sq\"] = cl_ops[\"p_op\"]; subset_label_ops.append(\"x_op_sq\")\n",
    "subset_of_observables[\"n_oc_op\"] = cl_ops[\"n_oc_op\"]; subset_label_ops.append(\"n_oc_op\")\n",
    "subset_of_observables[\"n_oc_op_sq\"] = cl_ops[\"n_oc_op\"]**2; subset_label_ops.append(\"n_oc_op_sq\")\n",
    "subset_of_observables[\"p_op\"] = cl_ops[\"p_op\"]; subset_label_ops.append(\"p_op\")"
   ]
  },
  {
   "cell_type": "code",
   "execution_count": 6,
   "id": "cffed191",
   "metadata": {},
   "outputs": [],
   "source": [
    "ts = np.linspace(1e-1, 4., 500)\n",
    "exact_ev = qutip.mesolve(H = HH,\n",
    "                         rho0 = rho0,\n",
    "                         tlist = ts,\n",
    "                         e_ops = subset_of_observables\n",
    "                         )"
   ]
  },
  {
   "cell_type": "code",
   "execution_count": 11,
   "id": "0414c9d3",
   "metadata": {},
   "outputs": [],
   "source": [
    "def quantum_dynamics(Hamiltonian, K0, basis, timespan, depth, beta, HB_B0):\n",
    "    print(\"*** 1. Starting at\", datetime.now)\n",
    "    results = {}\n",
    "    print(\"*** 2. Processing initial state of the system\")\n",
    "    print(\"*** 3. Building Hierarchical Basis of depth l = \", depth)\n",
    "    HBasis_local = matAnsys.build_Hierarchical_Basis(Hamiltonian = Hamiltonian,\n",
    "                                                     seed_operator = HB_B0[-1], \n",
    "                                                     depth = depth,\n",
    "                                                     tol = 1e-5, verbose = False)\n",
    "    Hierarchical_B = []; del HB_B0[-1]\n",
    "    Hierarchical_B = HB_B0  + HBasis_local\n",
    "    print(\"*** 4. Processing Manifold Restricted Dynamics.\\n     4A. Fetching categories of inner products.\\n \") \n",
    "    print(\"        ###. Solving with Exact Geometry\")\n",
    "    res_exact, rhot = me.solve_exact(Hamiltonian = Hamiltonian,\n",
    "                                     K0 = K0, \n",
    "                                     timespan = timespan,\n",
    "                                     return_evolved_rhos = True,\n",
    "                                     return_qutip_res_obj = True)\n",
    "    K_at_timet = res_exact.states\n",
    "    print(\"        ###. Projected Max-Ent solution with: \")\n",
    "    print(\"                                            A. KMB-geometry\")\n",
    "    instantaneous_KMB_geometry = [gij.fetch_kubo_int_inner_prod(sigma = rho) for rho in rhot]\n",
    "    print(\"                                            B. instantaneous correlation geometry\")\n",
    "    instantaneous_corr_geometry = [gij.fetch_corr_inner_prod(sigma = rho) for rho in rhot]\n",
    "    \n",
    "    print(\"     4B. Computing evolutions and Projections.\\n \")\n",
    "    print(\"        ###. 1. KMB Geometry\")\n",
    "    \n",
    "    sp = [gij.fetch_kubo_int_inner_prod(sigma) for sigma in rhot]\n",
    "    orth_basis = [matAnsys.orthogonalize_basis(Hierarchical_B, sp_at_timet) for sp_at_timet in sp]\n",
    "    result[\"KMB\"] = [matAnsys.instantaneous_proj(rho_at_timet, orth_basis_at_timet, kmb_sp, kmb_sp)\n",
    "                     for rho_at_timet, orth_basis_at_timet, kmb_sp in zip(rhot, orth_basis_at_timet, instantaneous_KMB_geometry)]\n",
    "    \n",
    "    print(\"        ###. 2. Hilbert Schmidt Geometry\")\n",
    "    sp = gij.fetch_HS_scalar_product()\n",
    "    orth_basis = gij.orthogonalize_basis(Hierarchical_B, sp)\n",
    "    result[\"HS\"] = [matAnsys.static_proj(rho_at_timet, orth_basis, sp, kmb_sp)\n",
    "                    for rho_at_timet, kmb_sp in zip(rhot, instantaneous_KMB_geometry)\n",
    "                        ]\n",
    "    \n",
    "    print(\"        ###. 3. Stationary Correlation Geometry\")\n",
    "    sp = gij.fetch_corr_inner_prod(state)\n",
    "    orth_basis = gij.orthogonalize_basis(Hierarchical_B, sp)\n",
    "    result[\"corr (stationary)\"] = [matAnsys.static_proj(rho_at_timet, orth_basis, sp, kmb_sp)\n",
    "                                   for rho_at_timet, kmb_sp in zip(rhot, instantaneous_KMB_geometry)]\n",
    "    print(\"        ###. 4. Instantaneous Correlation Geometry\")\n",
    "    \n",
    "    result[\"corr (instataneous)\"] = [matAnsys.instaneous_proj(rho_at_timet, orth_basis, corr_sp, kmb_sp)\n",
    "                                     for rho_at_timet, kmb_sp in zip(rhot, instantaneous_KMB_geometry)]\n",
    "    \n",
    "    print(\"***. Test 1: Testing the Hermiticity of the Basis\")\n",
    "    "
   ]
  },
  {
   "cell_type": "code",
   "execution_count": 13,
   "id": "0fa9e1a5",
   "metadata": {
    "scrolled": false
   },
   "outputs": [
    {
     "name": "stdout",
     "output_type": "stream",
     "text": [
      "*** 1. Starting at <built-in method now of type object at 0x00007FFD2931B650>\n",
      "*** 2. Processing initial state of the system\n",
      "*** 3. Building Hierarchical Basis of depth l =  4\n",
      "*** 4. Processing Manifold Restricted Dynamics.\n",
      "     4A. Fetching categories of inner products.\n",
      " \n",
      "        ###. Solving with Exact Geometry\n",
      "        ###. Projected Max-Ent solution with: \n",
      "                                            A. KMB-geometry\n",
      "                                            B. instantaneous correlation geometry\n",
      "     4B. Computing evolutions and Projections.\n",
      " \n",
      "        ###. 1. KMB Geometry\n"
     ]
    },
    {
     "ename": "NameError",
     "evalue": "name 'innerprod' is not defined",
     "output_type": "error",
     "traceback": [
      "\u001b[1;31m---------------------------------------------------------------------------\u001b[0m",
      "\u001b[1;31mNameError\u001b[0m                                 Traceback (most recent call last)",
      "Input \u001b[1;32mIn [13]\u001b[0m, in \u001b[0;36m<cell line: 3>\u001b[1;34m()\u001b[0m\n\u001b[0;32m      1\u001b[0m ts \u001b[38;5;241m=\u001b[39m np\u001b[38;5;241m.\u001b[39mlinspace(\u001b[38;5;241m0\u001b[39m, \u001b[38;5;241m2.0\u001b[39m,\u001b[38;5;241m100\u001b[39m)\n\u001b[0;32m      2\u001b[0m HB_B0 \u001b[38;5;241m=\u001b[39m [identity_op, H_loc, cl_ops[\u001b[38;5;124m\"\u001b[39m\u001b[38;5;124mn_oc_op\u001b[39m\u001b[38;5;124m\"\u001b[39m], cl_ops[\u001b[38;5;124m\"\u001b[39m\u001b[38;5;124mn_oc_op\u001b[39m\u001b[38;5;124m\"\u001b[39m]\u001b[38;5;241m*\u001b[39m\u001b[38;5;241m*\u001b[39m\u001b[38;5;241m2\u001b[39m, cl_ops[\u001b[38;5;124m\"\u001b[39m\u001b[38;5;124mx_op\u001b[39m\u001b[38;5;124m\"\u001b[39m]]\n\u001b[1;32m----> 3\u001b[0m \u001b[43mquantum_dynamics\u001b[49m\u001b[43m(\u001b[49m\u001b[43mHamiltonian\u001b[49m\u001b[43m \u001b[49m\u001b[38;5;241;43m=\u001b[39;49m\u001b[43m \u001b[49m\u001b[43mHH\u001b[49m\u001b[43m,\u001b[49m\u001b[43m \u001b[49m\u001b[43mK0\u001b[49m\u001b[43m \u001b[49m\u001b[38;5;241;43m=\u001b[39;49m\u001b[43m \u001b[49m\u001b[43mK0\u001b[49m\u001b[43m,\u001b[49m\u001b[43m \u001b[49m\u001b[43mbasis\u001b[49m\u001b[43m \u001b[49m\u001b[38;5;241;43m=\u001b[39;49m\u001b[43m \u001b[49m\u001b[43mHB_B0\u001b[49m\u001b[43m,\u001b[49m\u001b[43m \u001b[49m\u001b[43mtimespan\u001b[49m\u001b[43m  \u001b[49m\u001b[38;5;241;43m=\u001b[39;49m\u001b[43m \u001b[49m\u001b[43mts\u001b[49m\u001b[43m,\u001b[49m\u001b[43m \u001b[49m\u001b[43mdepth\u001b[49m\u001b[43m \u001b[49m\u001b[38;5;241;43m=\u001b[39;49m\u001b[43m \u001b[49m\u001b[38;5;241;43m4\u001b[39;49m\u001b[43m,\u001b[49m\u001b[43m \u001b[49m\u001b[43mbeta\u001b[49m\u001b[43m \u001b[49m\u001b[38;5;241;43m=\u001b[39;49m\u001b[43m \u001b[49m\u001b[43mbeta\u001b[49m\u001b[43m,\u001b[49m\u001b[43m \u001b[49m\u001b[43mHB_B0\u001b[49m\u001b[43m \u001b[49m\u001b[38;5;241;43m=\u001b[39;49m\u001b[43m \u001b[49m\u001b[43mHB_B0\u001b[49m\u001b[43m)\u001b[49m\n",
      "Input \u001b[1;32mIn [11]\u001b[0m, in \u001b[0;36mquantum_dynamics\u001b[1;34m(Hamiltonian, K0, basis, timespan, depth, beta, HB_B0)\u001b[0m\n\u001b[0;32m     27\u001b[0m \u001b[38;5;28mprint\u001b[39m(\u001b[38;5;124m\"\u001b[39m\u001b[38;5;124m        ###. 1. KMB Geometry\u001b[39m\u001b[38;5;124m\"\u001b[39m)\n\u001b[0;32m     29\u001b[0m sp \u001b[38;5;241m=\u001b[39m [gij\u001b[38;5;241m.\u001b[39mfetch_kubo_int_inner_prod(sigma) \u001b[38;5;28;01mfor\u001b[39;00m sigma \u001b[38;5;129;01min\u001b[39;00m rhot]\n\u001b[1;32m---> 30\u001b[0m orth_basis \u001b[38;5;241m=\u001b[39m [matAnsys\u001b[38;5;241m.\u001b[39morthogonalize_basis(Hierarchical_B, sp_at_timet) \u001b[38;5;28;01mfor\u001b[39;00m sp_at_timet \u001b[38;5;129;01min\u001b[39;00m sp]\n\u001b[0;32m     31\u001b[0m result[\u001b[38;5;124m\"\u001b[39m\u001b[38;5;124mKMB\u001b[39m\u001b[38;5;124m\"\u001b[39m] \u001b[38;5;241m=\u001b[39m [matAnsys\u001b[38;5;241m.\u001b[39minstantaneous_proj(rho_at_timet, orth_basis_at_timet, kmb_sp, kmb_sp)\n\u001b[0;32m     32\u001b[0m                  \u001b[38;5;28;01mfor\u001b[39;00m rho_at_timet, orth_basis_at_timet, kmb_sp \u001b[38;5;129;01min\u001b[39;00m \u001b[38;5;28mzip\u001b[39m(rhot, orth_basis_at_timet, instantaneous_KMB_geometry)]\n\u001b[0;32m     34\u001b[0m \u001b[38;5;28mprint\u001b[39m(\u001b[38;5;124m\"\u001b[39m\u001b[38;5;124m        ###. 2. Hilbert Schmidt Geometry\u001b[39m\u001b[38;5;124m\"\u001b[39m)\n",
      "Input \u001b[1;32mIn [11]\u001b[0m, in \u001b[0;36m<listcomp>\u001b[1;34m(.0)\u001b[0m\n\u001b[0;32m     27\u001b[0m \u001b[38;5;28mprint\u001b[39m(\u001b[38;5;124m\"\u001b[39m\u001b[38;5;124m        ###. 1. KMB Geometry\u001b[39m\u001b[38;5;124m\"\u001b[39m)\n\u001b[0;32m     29\u001b[0m sp \u001b[38;5;241m=\u001b[39m [gij\u001b[38;5;241m.\u001b[39mfetch_kubo_int_inner_prod(sigma) \u001b[38;5;28;01mfor\u001b[39;00m sigma \u001b[38;5;129;01min\u001b[39;00m rhot]\n\u001b[1;32m---> 30\u001b[0m orth_basis \u001b[38;5;241m=\u001b[39m [\u001b[43mmatAnsys\u001b[49m\u001b[38;5;241;43m.\u001b[39;49m\u001b[43morthogonalize_basis\u001b[49m\u001b[43m(\u001b[49m\u001b[43mHierarchical_B\u001b[49m\u001b[43m,\u001b[49m\u001b[43m \u001b[49m\u001b[43msp_at_timet\u001b[49m\u001b[43m)\u001b[49m \u001b[38;5;28;01mfor\u001b[39;00m sp_at_timet \u001b[38;5;129;01min\u001b[39;00m sp]\n\u001b[0;32m     31\u001b[0m result[\u001b[38;5;124m\"\u001b[39m\u001b[38;5;124mKMB\u001b[39m\u001b[38;5;124m\"\u001b[39m] \u001b[38;5;241m=\u001b[39m [matAnsys\u001b[38;5;241m.\u001b[39minstantaneous_proj(rho_at_timet, orth_basis_at_timet, kmb_sp, kmb_sp)\n\u001b[0;32m     32\u001b[0m                  \u001b[38;5;28;01mfor\u001b[39;00m rho_at_timet, orth_basis_at_timet, kmb_sp \u001b[38;5;129;01min\u001b[39;00m \u001b[38;5;28mzip\u001b[39m(rhot, orth_basis_at_timet, instantaneous_KMB_geometry)]\n\u001b[0;32m     34\u001b[0m \u001b[38;5;28mprint\u001b[39m(\u001b[38;5;124m\"\u001b[39m\u001b[38;5;124m        ###. 2. Hilbert Schmidt Geometry\u001b[39m\u001b[38;5;124m\"\u001b[39m)\n",
      "File \u001b[1;32m~\\PhD Physics\\2nd Year\\MaxEntEvsGeometries\\c_matrix_analysis_lib.py:50\u001b[0m, in \u001b[0;36morthogonalize_basis\u001b[1;34m(basis, innerprod, idop, tol)\u001b[0m\n\u001b[0;32m     47\u001b[0m     id_comp \u001b[38;5;241m=\u001b[39m [innerprod(idop, op)\u001b[38;5;241m/\u001b[39msqidnorm \u001b[38;5;28;01mfor\u001b[39;00m op \u001b[38;5;129;01min\u001b[39;00m basis]\n\u001b[0;32m     48\u001b[0m     local_basis \u001b[38;5;241m=\u001b[39m [idop \u001b[38;5;241m*\u001b[39m sqidnorm \u001b[38;5;241m*\u001b[39m\u001b[38;5;241m*\u001b[39m (\u001b[38;5;241m-\u001b[39m\u001b[38;5;241m.5\u001b[39m)] \u001b[38;5;241m+\u001b[39m [op \u001b[38;5;241m-\u001b[39m mu \u001b[38;5;28;01mfor\u001b[39;00m mu, op \u001b[38;5;129;01min\u001b[39;00m \u001b[38;5;28mzip\u001b[39m(id_comp, basis)]\n\u001b[1;32m---> 50\u001b[0m gram \u001b[38;5;241m=\u001b[39m \u001b[43mgram_matrix\u001b[49m\u001b[43m(\u001b[49m\u001b[43mlocal_basis\u001b[49m\u001b[43m,\u001b[49m\u001b[43m \u001b[49m\u001b[43minnerprod\u001b[49m\u001b[43m,\u001b[49m\u001b[43m \u001b[49m\u001b[38;5;28;43;01mFalse\u001b[39;49;00m\u001b[43m)\u001b[49m\n\u001b[0;32m     51\u001b[0m evals, evecs \u001b[38;5;241m=\u001b[39m np\u001b[38;5;241m.\u001b[39mlinalg\u001b[38;5;241m.\u001b[39meigh(gram)\n\u001b[0;32m     52\u001b[0m evecs \u001b[38;5;241m=\u001b[39m [vec\u001b[38;5;241m/\u001b[39mnp\u001b[38;5;241m.\u001b[39mlinalg\u001b[38;5;241m.\u001b[39mnorm(vec) \u001b[38;5;28;01mfor\u001b[39;00m vec \u001b[38;5;129;01min\u001b[39;00m evecs\u001b[38;5;241m.\u001b[39mtranspose()]\n",
      "File \u001b[1;32m~\\PhD Physics\\2nd Year\\MaxEntEvsGeometries\\c_matrix_analysis_lib.py:31\u001b[0m, in \u001b[0;36mgram_matrix\u001b[1;34m(basis, innnerprod, as_qutip_qobj)\u001b[0m\n\u001b[0;32m     17\u001b[0m \u001b[38;5;28;01mdef\u001b[39;00m \u001b[38;5;21mgram_matrix\u001b[39m(basis: \u001b[38;5;28mlist\u001b[39m, innnerprod: callable, as_qutip_qobj \u001b[38;5;241m=\u001b[39m \u001b[38;5;28;01mTrue\u001b[39;00m):\n\u001b[0;32m     18\u001b[0m     \u001b[38;5;124;03m\"\"\"\u001b[39;00m\n\u001b[0;32m     19\u001b[0m \u001b[38;5;124;03m    This module computes the Gram matrix associated to a basis of observables, for a quantum system, and a specific inner product.\u001b[39;00m\n\u001b[0;32m     20\u001b[0m \u001b[38;5;124;03m    This module takes as input:\u001b[39;00m\n\u001b[1;32m   (...)\u001b[0m\n\u001b[0;32m     29\u001b[0m \u001b[38;5;124;03m    \u001b[39;00m\n\u001b[0;32m     30\u001b[0m \u001b[38;5;124;03m    \"\"\"\u001b[39;00m\n\u001b[1;32m---> 31\u001b[0m     gram \u001b[38;5;241m=\u001b[39m np\u001b[38;5;241m.\u001b[39marray([[innerprod(op1, op2)\u001b[38;5;241m.\u001b[39mround(\u001b[38;5;241m14\u001b[39m) \u001b[38;5;28;01mfor\u001b[39;00m op2 \u001b[38;5;129;01min\u001b[39;00m basis] \u001b[38;5;28;01mfor\u001b[39;00m op1 \u001b[38;5;129;01min\u001b[39;00m basis])\n\u001b[0;32m     32\u001b[0m     \u001b[38;5;28;01mif\u001b[39;00m as_qutip_qobj:\n\u001b[0;32m     33\u001b[0m         gram \u001b[38;5;241m=\u001b[39m qutip\u001b[38;5;241m.\u001b[39mQobj(gram)\n",
      "File \u001b[1;32m~\\PhD Physics\\2nd Year\\MaxEntEvsGeometries\\c_matrix_analysis_lib.py:31\u001b[0m, in \u001b[0;36m<listcomp>\u001b[1;34m(.0)\u001b[0m\n\u001b[0;32m     17\u001b[0m \u001b[38;5;28;01mdef\u001b[39;00m \u001b[38;5;21mgram_matrix\u001b[39m(basis: \u001b[38;5;28mlist\u001b[39m, innnerprod: callable, as_qutip_qobj \u001b[38;5;241m=\u001b[39m \u001b[38;5;28;01mTrue\u001b[39;00m):\n\u001b[0;32m     18\u001b[0m     \u001b[38;5;124;03m\"\"\"\u001b[39;00m\n\u001b[0;32m     19\u001b[0m \u001b[38;5;124;03m    This module computes the Gram matrix associated to a basis of observables, for a quantum system, and a specific inner product.\u001b[39;00m\n\u001b[0;32m     20\u001b[0m \u001b[38;5;124;03m    This module takes as input:\u001b[39;00m\n\u001b[1;32m   (...)\u001b[0m\n\u001b[0;32m     29\u001b[0m \u001b[38;5;124;03m    \u001b[39;00m\n\u001b[0;32m     30\u001b[0m \u001b[38;5;124;03m    \"\"\"\u001b[39;00m\n\u001b[1;32m---> 31\u001b[0m     gram \u001b[38;5;241m=\u001b[39m np\u001b[38;5;241m.\u001b[39marray([[innerprod(op1, op2)\u001b[38;5;241m.\u001b[39mround(\u001b[38;5;241m14\u001b[39m) \u001b[38;5;28;01mfor\u001b[39;00m op2 \u001b[38;5;129;01min\u001b[39;00m basis] \u001b[38;5;28;01mfor\u001b[39;00m op1 \u001b[38;5;129;01min\u001b[39;00m basis])\n\u001b[0;32m     32\u001b[0m     \u001b[38;5;28;01mif\u001b[39;00m as_qutip_qobj:\n\u001b[0;32m     33\u001b[0m         gram \u001b[38;5;241m=\u001b[39m qutip\u001b[38;5;241m.\u001b[39mQobj(gram)\n",
      "File \u001b[1;32m~\\PhD Physics\\2nd Year\\MaxEntEvsGeometries\\c_matrix_analysis_lib.py:31\u001b[0m, in \u001b[0;36m<listcomp>\u001b[1;34m(.0)\u001b[0m\n\u001b[0;32m     17\u001b[0m \u001b[38;5;28;01mdef\u001b[39;00m \u001b[38;5;21mgram_matrix\u001b[39m(basis: \u001b[38;5;28mlist\u001b[39m, innnerprod: callable, as_qutip_qobj \u001b[38;5;241m=\u001b[39m \u001b[38;5;28;01mTrue\u001b[39;00m):\n\u001b[0;32m     18\u001b[0m     \u001b[38;5;124;03m\"\"\"\u001b[39;00m\n\u001b[0;32m     19\u001b[0m \u001b[38;5;124;03m    This module computes the Gram matrix associated to a basis of observables, for a quantum system, and a specific inner product.\u001b[39;00m\n\u001b[0;32m     20\u001b[0m \u001b[38;5;124;03m    This module takes as input:\u001b[39;00m\n\u001b[1;32m   (...)\u001b[0m\n\u001b[0;32m     29\u001b[0m \u001b[38;5;124;03m    \u001b[39;00m\n\u001b[0;32m     30\u001b[0m \u001b[38;5;124;03m    \"\"\"\u001b[39;00m\n\u001b[1;32m---> 31\u001b[0m     gram \u001b[38;5;241m=\u001b[39m np\u001b[38;5;241m.\u001b[39marray([[\u001b[43minnerprod\u001b[49m(op1, op2)\u001b[38;5;241m.\u001b[39mround(\u001b[38;5;241m14\u001b[39m) \u001b[38;5;28;01mfor\u001b[39;00m op2 \u001b[38;5;129;01min\u001b[39;00m basis] \u001b[38;5;28;01mfor\u001b[39;00m op1 \u001b[38;5;129;01min\u001b[39;00m basis])\n\u001b[0;32m     32\u001b[0m     \u001b[38;5;28;01mif\u001b[39;00m as_qutip_qobj:\n\u001b[0;32m     33\u001b[0m         gram \u001b[38;5;241m=\u001b[39m qutip\u001b[38;5;241m.\u001b[39mQobj(gram)\n",
      "\u001b[1;31mNameError\u001b[0m: name 'innerprod' is not defined"
     ]
    }
   ],
   "source": [
    "ts = np.linspace(0, 2.0,100)\n",
    "HB_B0 = [identity_op, H_loc, cl_ops[\"n_oc_op\"], cl_ops[\"n_oc_op\"]**2, cl_ops[\"x_op\"]]\n",
    "quantum_dynamics(Hamiltonian = HH, K0 = K0, basis = HB_B0, timespan  = ts, depth = 4, beta = beta, HB_B0 = HB_B0)"
   ]
  },
  {
   "cell_type": "code",
   "execution_count": 14,
   "id": "ad59f758",
   "metadata": {},
   "outputs": [],
   "source": [
    "evals, evecs = HB_B0[-1].eigenstates()"
   ]
  },
  {
   "cell_type": "code",
   "execution_count": 21,
   "id": "cea3fe8f",
   "metadata": {},
   "outputs": [],
   "source": [
    "res_exact, rhot = me.solve_exact(Hamiltonian = HH,\n",
    "                                     K0 = K0, \n",
    "                                     timespan = ts,\n",
    "                                     return_evolved_rhos = True,\n",
    "                                     return_qutip_res_obj = True)"
   ]
  },
  {
   "cell_type": "code",
   "execution_count": 29,
   "id": "0ebc5606",
   "metadata": {},
   "outputs": [
    {
     "data": {
      "text/plain": [
       "(Quantum object: dims = [[2, 2, 2, 2, 2, 2], [2, 2, 2, 2, 2, 2]], shape = (64, 64), type = oper, isherm = True\n",
       " Qobj data =\n",
       " [[ 0.0010003 +0.00000000e+00j  0.        +0.00000000e+00j\n",
       "    0.        +0.00000000e+00j ...  0.        +0.00000000e+00j\n",
       "    0.        +0.00000000e+00j -0.00325972+1.97532398e-06j]\n",
       "  [ 0.        +0.00000000e+00j  0.00241424+0.00000000e+00j\n",
       "    0.00280426+3.28479660e-06j ...  0.00645906+2.29592971e-05j\n",
       "    0.00781489+3.31444458e-05j  0.        +0.00000000e+00j]\n",
       "  [ 0.        +0.00000000e+00j  0.00280426-3.28479660e-06j\n",
       "    0.00326074+0.00000000e+00j ...  0.00749856+1.78707179e-05j\n",
       "    0.00907371+2.78546191e-05j  0.        +0.00000000e+00j]\n",
       "  ...\n",
       "  [ 0.        +0.00000000e+00j  0.00645906-2.29592971e-05j\n",
       "    0.00749856-1.78707179e-05j ...  0.01845093+0.00000000e+00j\n",
       "    0.02234004+1.53384481e-05j  0.        +0.00000000e+00j]\n",
       "  [ 0.        +0.00000000e+00j  0.00781489-3.31444458e-05j\n",
       "    0.00907371-2.78546191e-05j ...  0.02234004-1.53384481e-05j\n",
       "    0.02742032+0.00000000e+00j  0.        +0.00000000e+00j]\n",
       "  [-0.00325972-1.97532398e-06j  0.        +0.00000000e+00j\n",
       "    0.        +0.00000000e+00j ...  0.        +0.00000000e+00j\n",
       "    0.        +0.00000000e+00j  0.01120846+0.00000000e+00j]],\n",
       " None)"
      ]
     },
     "execution_count": 29,
     "metadata": {},
     "output_type": "execute_result"
    }
   ],
   "source": [
    "rhot[2]"
   ]
  },
  {
   "cell_type": "code",
   "execution_count": null,
   "id": "a915a2ac",
   "metadata": {},
   "outputs": [],
   "source": []
  }
 ],
 "metadata": {
  "kernelspec": {
   "display_name": "Python 3 (ipykernel)",
   "language": "python",
   "name": "python3"
  },
  "language_info": {
   "codemirror_mode": {
    "name": "ipython",
    "version": 3
   },
   "file_extension": ".py",
   "mimetype": "text/x-python",
   "name": "python",
   "nbconvert_exporter": "python",
   "pygments_lexer": "ipython3",
   "version": "3.9.12"
  }
 },
 "nbformat": 4,
 "nbformat_minor": 5
}
