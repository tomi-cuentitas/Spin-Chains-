{
 "cells": [
  {
   "cell_type": "code",
   "execution_count": 1,
   "id": "1f83a493",
   "metadata": {},
   "outputs": [],
   "source": [
    "import qutip, pickle, sys\n",
    "import matplotlib.pyplot as plt \n",
    "import numpy as np\n",
    "import scipy.optimize as opt \n",
    "import scipy.linalg as linalg\n",
    "import time as time\n",
    "import math, cmath\n",
    "\n",
    "import a_quantum_stateology_lib as qstates\n",
    "import b_quantum_geometries_lib as gij\n",
    "import c_matrix_analysis_lib as matAnsys \n",
    "import d_spin_representations_lib as su2\n",
    "import e.maxent_solver_lib.py as me"
   ]
  },
  {
   "cell_type": "code",
   "execution_count": 3,
   "id": "d16fbbdf",
   "metadata": {},
   "outputs": [],
   "source": [
    "N=6; chain_type = \"XX\"; k_B = 1; temp = 1e+1; temp_ref = 1e+1\n",
    "\n",
    "### One body local spin operators\n",
    "spin_ops_list = su2.one_body_spin_ops(size = N)\n",
    "identity_op = spin_ops_list[0][0]\n",
    "\n",
    "### Heisenberg Hamiltonian\n",
    "Hamiltonian_paras = [-1e-1, -2.5e-1, 0., .5e-1]\n",
    "H_loc = su2.Heisenberg_Hamiltonian(op_list = spin_ops_list, chain_type = chain_type,\n",
    "                                           size = N, Hamiltonian_paras = Hamiltonian_paras,\n",
    "                                           closed_bcs = True, visualization = False)\n",
    "\n",
    "### Generating classical observables\n",
    "\n",
    "cl_ops, label_ops = su2.classical_ops(size = N, Hamiltonian = H_loc,\n",
    "                                                op_list = spin_ops_list, centered_x_op = False)\n",
    "\n",
    "## The Hamiltonian is added a perturbation term \n",
    "perturbation_strength = max(Hamiltonian_paras)/2\n",
    "\n",
    "HH = H_loc + perturbation_strength * cl_ops[\"x_op\"]"
   ]
  },
  {
   "cell_type": "code",
   "execution_count": 4,
   "id": "33f4a7c5",
   "metadata": {},
   "outputs": [],
   "source": [
    "# Exact evolution\n",
    "\n",
    "K0 = (.5 * cl_ops[\"n_oc_op\"])\n",
    "rho0 = matAnsys.safe_expm_and_normalize(K = K0, return_free_energy = False)[0]"
   ]
  },
  {
   "cell_type": "code",
   "execution_count": 5,
   "id": "42b2aacb",
   "metadata": {},
   "outputs": [],
   "source": [
    "subset_of_observables = {}; subset_label_ops = []\n",
    "subset_of_observables[\"x_op_sq\"] = cl_ops[\"p_op\"]; subset_label_ops.append(\"x_op_sq\")\n",
    "subset_of_observables[\"n_oc_op\"] = cl_ops[\"n_oc_op\"]; subset_label_ops.append(\"n_oc_op\")\n",
    "subset_of_observables[\"n_oc_op_sq\"] = cl_ops[\"n_oc_op\"]**2; subset_label_ops.append(\"n_oc_op_sq\")\n",
    "subset_of_observables[\"p_op\"] = cl_ops[\"p_op\"]; subset_label_ops.append(\"p_op\")"
   ]
  },
  {
   "cell_type": "code",
   "execution_count": 6,
   "id": "cffed191",
   "metadata": {},
   "outputs": [],
   "source": [
    "ts = np.linspace(1e-1, 4., 500)\n",
    "exact_ev = qutip.mesolve(H = HH,\n",
    "                         rho0 = rho0,\n",
    "                         tlist = ts,\n",
    "                         e_ops = subset_of_observables\n",
    "                         )"
   ]
  },
  {
   "cell_type": "code",
   "execution_count": 9,
   "id": "a3b1a335",
   "metadata": {},
   "outputs": [
    {
     "ename": "AttributeError",
     "evalue": "'Result' object has no attribute 'append'",
     "output_type": "error",
     "traceback": [
      "\u001b[1;31m---------------------------------------------------------------------------\u001b[0m",
      "\u001b[1;31mAttributeError\u001b[0m                            Traceback (most recent call last)",
      "Input \u001b[1;32mIn [9]\u001b[0m, in \u001b[0;36m<cell line: 3>\u001b[1;34m()\u001b[0m\n\u001b[0;32m      1\u001b[0m A \u001b[38;5;241m=\u001b[39m {}\n\u001b[0;32m      2\u001b[0m A[\u001b[38;5;124m\"\u001b[39m\u001b[38;5;124mgato\u001b[39m\u001b[38;5;124m\"\u001b[39m] \u001b[38;5;241m=\u001b[39m \u001b[38;5;124m\"\u001b[39m\u001b[38;5;124mFita\u001b[39m\u001b[38;5;124m\"\u001b[39m\n\u001b[1;32m----> 3\u001b[0m \u001b[43mexact_ev\u001b[49m\u001b[38;5;241;43m.\u001b[39;49m\u001b[43mappend\u001b[49m(A)\n",
      "\u001b[1;31mAttributeError\u001b[0m: 'Result' object has no attribute 'append'"
     ]
    }
   ],
   "source": [
    "A = {}\n",
    "A[\"gato\"] = \"Fita\"\n",
    "exact_ev.append(A)"
   ]
  },
  {
   "cell_type": "code",
   "execution_count": null,
   "id": "be4560ac",
   "metadata": {},
   "outputs": [],
   "source": [
    "def solve_exact(Hamiltonian, K0, timespan, return_evolved_rhos = True,\n",
    "                                           return_qutip_res_obj = True):\n",
    "    \n",
    "    res = qutip.mesolve(H = Hamiltonian, rho0 = K0, tlist = timespan,\n",
    "                        c_ops = None, e_ops = None)\n",
    "    if return_evolved_rhos: \n",
    "        rho_at_timet = [matAnsys.safe_expm_and_normalize(K = Kt1, return_free_energy = False, \n",
    "                                                                  tol = 1e-5) \n",
    "                           for Kt1 in res.states]\n",
    "    return res, rho_at_timet\n",
    "    "
   ]
  },
  {
   "cell_type": "code",
   "execution_count": null,
   "id": "0414c9d3",
   "metadata": {},
   "outputs": [],
   "source": [
    "def quantum_dynamics(Hamiltonian, K0, timespan, depth, beta, HB_B0):\n",
    "    print(\"*** 1. Starting at\", datetime.now)\n",
    "    results = {}\n",
    "    print(\"*** 2. Processing initial state of the system\")\n",
    "    print(\"*** 3. Building Hierarchical Basis of depth l = \", depth)\n",
    "    HBasis_local = matAnsys.build_Hierarchical_Basis(Hamiltonian = H,\n",
    "                                                     seed_operator = HB_B0[-1], \n",
    "                                                     depth = depth,\n",
    "                                                     tol = 1e-5, verbose = False)\n",
    "    HBasis_local = HB_B0.pop() + HBasis_local\n",
    "    print(\"*** 4. Processing Manifold Restricted Dynamics.\\n     4A. Fetching categories of inner products.\\n \") \n",
    "    print(\"        ###. Solving with Exact Geometry\")\n",
    "    res_exact, rhot = me.solve_exact(Hamiltonian = Hamiltonian,\n",
    "                                     K0 = K0, \n",
    "                                     timespan = timespan,\n",
    "                                     return_evolved_rhos = True,\n",
    "                                     return_qutip_res_obj = True)\n",
    "    K_at_timet = res_exact.states\n",
    "    print(\"        ###. Projected Max-Ent solution with: \")\n",
    "    print(\"                                            A. KMB-geometry\")\n",
    "    instantaneous_KMB_geometry = [gij.fetch_Kubo_inner_prod(sigma = rho) for rho in rhot]\n",
    "    print(\"                                            B. instantaneous correlation geometry\")\n",
    "    instantaneous_corr_geometry = [gij.fetch_corr_scalar_prod(sigma = rho) for rho in rhot]\n",
    "    print(\"     4B. Computing evolutions and Projections.\\n \")\n",
    "    print(\"        ###. 1. KMB Geometry\")\n",
    "    result[\"KMB\"] = [gij.instantaneous_proj(Kt, orth_basis, kmb_sp, kmb_sp)\n",
    "                     for Kt, kmb_sp in zip(K_at_timet, instantaneous_KMB_geometry)]\n",
    "    \n",
    "    \n",
    "    print(\"        ###. 2. Hilbert Schmidt Geometry\")\n",
    "    sp = gij.fetch_HS_scalar_product()\n",
    "    orth_basis = gij.orthogonalize_basis(basis, sp)\n",
    "    result[\"HS\"] = [gij.static_proj(Kt, orth_basis, sp, kmb_sp)\n",
    "                    for Kt, kmb_sp in zip(K_at_timet, instantaneous_KMB_geometry)\n",
    "                        ]\n",
    "    \n",
    "    print(\"        ###. 3. Stationary Correlation Geometry\")\n",
    "    sp = gij.fetch_corr_scalar_product(state)\n",
    "    orth_basis = gij.orthogonalize_basis(basis, sp)\n",
    "    result[\"corr (stationary)\"] = [gij.static_proj(Kt, orth_basis, sp, kmb_sp)\n",
    "                                   for Kt, kmb_sp in zip(K_at_timet, instantaneous_KMB_geometry)]\n",
    "    \n",
    "    print(\"        ###. 4. Instantaneous Correlation Geometry\")\n",
    "    \n",
    "    result[\"corr (instataneous)\"] = [gij.instaneous_proj(Kt, orth_basis, corr_sp, kmb_sp)\n",
    "                                     for Kt, kmb_sp in zip(K_at_timet, instantaneous_KMB_geometry)]\n",
    "    \n",
    "    print(\"***. Test 1: Testing the Hermiticity of the Basis\")\n",
    "    "
   ]
  },
  {
   "cell_type": "code",
   "execution_count": 1,
   "id": "0fa9e1a5",
   "metadata": {},
   "outputs": [
    {
     "name": "stdout",
     "output_type": "stream",
     "text": [
      "A\n",
      "B\n"
     ]
    }
   ],
   "source": [
    "print(\"A\\nB\")"
   ]
  },
  {
   "cell_type": "code",
   "execution_count": null,
   "id": "04a53e68",
   "metadata": {},
   "outputs": [],
   "source": [
    "def solve_MaxEnt_KMB(Hamiltonian, K0, timespan):"
   ]
  }
 ],
 "metadata": {
  "kernelspec": {
   "display_name": "Python 3 (ipykernel)",
   "language": "python",
   "name": "python3"
  },
  "language_info": {
   "codemirror_mode": {
    "name": "ipython",
    "version": 3
   },
   "file_extension": ".py",
   "mimetype": "text/x-python",
   "name": "python",
   "nbconvert_exporter": "python",
   "pygments_lexer": "ipython3",
   "version": "3.9.12"
  }
 },
 "nbformat": 4,
 "nbformat_minor": 5
}
