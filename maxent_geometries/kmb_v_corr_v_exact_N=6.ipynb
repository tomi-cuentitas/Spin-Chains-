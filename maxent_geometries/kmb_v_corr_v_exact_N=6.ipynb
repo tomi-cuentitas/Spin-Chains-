{
 "cells": [
  {
   "cell_type": "code",
   "execution_count": 16,
   "id": "f14f423f",
   "metadata": {},
   "outputs": [],
   "source": [
    "import qutip, pickle, sys\n",
    "import matplotlib.pyplot as plt \n",
    "import numpy as np\n",
    "import scipy.optimize as opt \n",
    "import scipy.linalg as linalg\n",
    "import time as time\n",
    "import math, cmath\n",
    "\n",
    "import a_quantum_stateology_lib as qstates\n",
    "import b_quantum_geometries_lib as gij\n",
    "import c_matrix_analysis_lib as matAnsys \n",
    "import d_spin_representations_lib as su2\n",
    "import e_maxent_solver_lib as me\n",
    "\n",
    "from datetime import datetime\n",
    "from qutip.qobj import Qobj\n",
    "from collections.abc import Iterable\n",
    "from typing import Callable, List, Optional, Tuple\n",
    "from datetime import datetime"
   ]
  },
  {
   "cell_type": "code",
   "execution_count": 34,
   "id": "65783a23",
   "metadata": {},
   "outputs": [],
   "source": [
    "N=6; chain_type = \"XX\"; k_B = 1; temp = 1e0; temp_ref = 1e0\n",
    "\n",
    "### One body local spin operators\n",
    "spin_ops_list = su2.one_body_spin_ops(size = N)\n",
    "identity_op = spin_ops_list[0][0]\n",
    "\n",
    "### Heisenberg Hamiltonian\n",
    "Hamiltonian_paras = [+1e-1, -2.5e-1, 0., .5e-1]\n",
    "H_loc = su2.Heisenberg_Hamiltonian(op_list = spin_ops_list, chain_type = chain_type,\n",
    "                                           size = N, Hamiltonian_paras = Hamiltonian_paras,\n",
    "                                           closed_bcs = True, visualization = False)\n",
    "\n",
    "### Generating classical observables\n",
    "\n",
    "cl_ops, label_ops = su2.classical_ops(size = N, Hamiltonian = H_loc,\n",
    "                                                op_list = spin_ops_list, centered_x_op = False)\n",
    "\n",
    "## The Hamiltonian is added a perturbation term \n",
    "perturbation_strength = max(Hamiltonian_paras)/2 \n",
    "\n",
    "HH = H_loc + perturbation_strength * cl_ops[\"x_op\"]"
   ]
  },
  {
   "cell_type": "code",
   "execution_count": 35,
   "id": "141a13f5",
   "metadata": {},
   "outputs": [],
   "source": [
    "def safe_expm_and_normalize(K) -> Qobj:\n",
    "    n_eig = sum(K.dims[0])\n",
    "    if n_eig <= 16:\n",
    "        e0 = max(np.real(K.eigenenergies()))\n",
    "    else:\n",
    "        e0 = max(np.real(K.eigenenergies(sparse=\"True\", sort=\"high\", eigvals=n_eig)))\n",
    "    sigma = (K - e0).expm()\n",
    "    return qutip.Qobj(sigma / sigma.tr())"
   ]
  },
  {
   "cell_type": "code",
   "execution_count": 54,
   "id": "6da686dc",
   "metadata": {},
   "outputs": [
    {
     "data": {
      "text/plain": [
       "1.2956651001099853"
      ]
     },
     "execution_count": 54,
     "metadata": {},
     "output_type": "execute_result"
    }
   ],
   "source": [
    "c1 = 0.1; c2 = 1; c3 = .5; zeta = .5; beta = 1/temp\n",
    "K0_init = c1 * H_loc + c2 * (cl_ops[\"n_oc_op\"] - zeta * identity_op)**2 + c3 * cl_ops[\"x_op\"]\n",
    "\n",
    "K0 = -(K0_init - max(K0_init.eigenenergies()))\n",
    "rho0 = safe_expm_and_normalize(K0)\n",
    "\n",
    "assert qstates.is_density_op(rho0), \"rho0 is not density state\"\n",
    "qutip.expect(cl_ops[\"n_oc_op\"], rho0)"
   ]
  },
  {
   "cell_type": "code",
   "execution_count": 55,
   "id": "a8f46fc4",
   "metadata": {
    "scrolled": true
   },
   "outputs": [
    {
     "data": {
      "text/plain": [
       "array([0.00000000e+00, 1.20823653e-10, 1.99322386e-10, 3.28627121e-10,\n",
       "       5.41814527e-10, 8.93315095e-10, 1.49698425e-09, 1.30434212e-07,\n",
       "       2.15049738e-07, 3.54557078e-07, 3.54766624e-07, 5.84574773e-07,\n",
       "       5.84911282e-07, 9.64356023e-07, 9.64370481e-07, 9.79608993e-07,\n",
       "       1.58997870e-06, 1.61605673e-06, 2.62143172e-06, 2.66442807e-06,\n",
       "       4.39289926e-06, 7.24277766e-06, 3.14187778e-05, 5.18008075e-05,\n",
       "       8.54051242e-05, 8.54064046e-05, 1.40811407e-04, 1.40892465e-04,\n",
       "       1.43120925e-04, 2.32158763e-04, 2.32295971e-04, 2.35966598e-04,\n",
       "       3.82991310e-04, 3.89043151e-04, 3.89273079e-04, 6.31446148e-04,\n",
       "       6.41433569e-04, 6.41802808e-04, 1.05815433e-03, 1.05817019e-03,\n",
       "       1.68867212e-03, 1.74462834e-03, 2.78419240e-03, 2.87640586e-03,\n",
       "       4.59035726e-03, 4.66564765e-03, 7.56822240e-03, 7.69235256e-03,\n",
       "       1.24852638e-02, 1.26825499e-02, 1.26827400e-02, 2.02519258e-02,\n",
       "       2.09103109e-02, 2.09223478e-02, 3.39374355e-02, 3.44752744e-02,\n",
       "       3.44956496e-02, 5.50821713e-02, 5.59542310e-02, 5.68737115e-02,\n",
       "       9.22529312e-02, 9.37689320e-02, 1.52099425e-01, 2.50917766e-01])"
      ]
     },
     "execution_count": 55,
     "metadata": {},
     "output_type": "execute_result"
    }
   ],
   "source": [
    "rho0.eigenenergies()"
   ]
  },
  {
   "cell_type": "code",
   "execution_count": 56,
   "id": "dfaf51ac",
   "metadata": {},
   "outputs": [],
   "source": [
    "subset_of_observables = {}; subset_label_ops = []\n",
    "subset_of_observables[\"x_op\"] = cl_ops[\"x_op\"]; subset_label_ops.append(\"x_op\")\n",
    "subset_of_observables[\"n_oc_op\"] = cl_ops[\"n_oc_op\"]; subset_label_ops.append(\"n_oc_op\")"
   ]
  },
  {
   "cell_type": "code",
   "execution_count": 57,
   "id": "152f8587",
   "metadata": {},
   "outputs": [],
   "source": [
    "ts = np.linspace(1e-1, 4., 500)\n",
    "exact_ev = qutip.mesolve(H = HH,\n",
    "                         rho0 = rho0,\n",
    "                         tlist = ts,\n",
    "                         e_ops = subset_of_observables\n",
    "                         )"
   ]
  },
  {
   "cell_type": "code",
   "execution_count": 58,
   "id": "ba71788d",
   "metadata": {},
   "outputs": [],
   "source": [
    "def fetch_kubo_scalar_product(sigma: Qobj, threshold=0.99999):\n",
    "    evals_evecs = sorted(zip(*sigma.eigenstates()), key=lambda x: -x[0])\n",
    "    w = 0\n",
    "    for i, val_vec in enumerate(evals_evecs):\n",
    "        w += val_vec[0]\n",
    "        if w > threshold:\n",
    "            evals_evecs = evals_evecs[: i + 1]\n",
    "            break\n",
    "\n",
    "    stored = {}\n",
    "        \n",
    "    def ksp(op1, op2):\n",
    "        if False:\n",
    "            key = (id(op2), id(op1))\n",
    "            if key in stored:\n",
    "                return stored[key]\n",
    "            key = (id(op1), id(op2))\n",
    "            if key in stored:\n",
    "                return stored[key]\n",
    "\n",
    "        result = sum(\n",
    "        (\n",
    "            np.conj((v2.dag() * op1 * v1).tr())\n",
    "            * ((v2.dag() * op2 * v1).tr())\n",
    "            * (p1 if p1 == p2 else (p1 - p2) / np.log(p1 / p2))\n",
    "        )\n",
    "        for p1, v1 in evals_evecs\n",
    "        for p2, v2 in evals_evecs\n",
    "        if (p1 > 0 and p2 > 0)\n",
    "        )\n",
    "        \n",
    "        #    stored[key] = result\n",
    "        return result\n",
    "\n",
    "    return ksp\n",
    "\n",
    "def fetch_kubo_int_scalar_product(sigma: Qobj):\n",
    "    evals, evecs = sigma.eigenstates()\n",
    "\n",
    "    def return_func(op1, op2):\n",
    "        return 0.01 * sum(\n",
    "            (\n",
    "                np.conj((v2.dag() * op1 * v1).tr())\n",
    "                * ((v2.dag() * op2 * v1).tr())\n",
    "                * ((p1) ** (1.0 - tau))\n",
    "                * ((p1) ** (tau))\n",
    "            )\n",
    "            for p1, v1 in zip(evals, evecs)\n",
    "            for p2, v2 in zip(evals, evecs)\n",
    "            for tau in np.linspace(0.0, 1.0, 100)\n",
    "            if (p1 > 0.0 and p2 > 0.0)\n",
    "        )\n",
    "\n",
    "    return return_func\n",
    "\n",
    "    return lambda op1, op2: 0.01 * sum(\n",
    "        (\n",
    "            np.conj((v2.dag() * op1 * v1).tr())\n",
    "            * ((v2.dag() * op2 * v1).tr())\n",
    "            * p1 ** (1 - tau)\n",
    "            * p1 ** (tau)\n",
    "        )\n",
    "        for p1, v1 in zip(evals, evecs)\n",
    "        for p2, v2 in zip(evals, evecs)\n",
    "        for tau in np.linspace(0, 1, 100)\n",
    "    )\n",
    "\n",
    "\n",
    "def fetch_corr_scalar_product(sigma: Qobj):\n",
    "    return lambda op1, op2: 0.5 * (sigma * (op1.dag() * op2 +\n",
    "                                            op2 * op1.dag())).tr()"
   ]
  },
  {
   "cell_type": "code",
   "execution_count": 59,
   "id": "c8ae8e5b",
   "metadata": {},
   "outputs": [],
   "source": [
    "def gram_matrix(basis: list, sp: Callable):\n",
    "    size = len(basis)\n",
    "    result = np.zeros([size, size], dtype=float)\n",
    "\n",
    "    for i, op1 in enumerate(basis):\n",
    "        for j, op2 in enumerate(basis):\n",
    "            if j < i:\n",
    "                continue\n",
    "            entry = np.real(sp(op1, op2))\n",
    "            if i == j:\n",
    "                result[i, i] = entry\n",
    "            else:\n",
    "                result[i, j] = result[j, i] = entry\n",
    "\n",
    "    return result.round(14)\n",
    "\n",
    "\n",
    "def orthogonalize_basis(basis: list, sp: Callable, idop: Qobj = None):\n",
    "    if idop:\n",
    "        idnorm_sq = sp(idop, idop)\n",
    "        id_comp = [sp(idop, op) / idnorm_sq for op in basis]\n",
    "        basis = ([idop * idnorm_sq**-0.5] +\n",
    "                 [op - la for la, op in zip(id_comp, basis)])\n",
    "\n",
    "    gs = gram_matrix(basis, sp)\n",
    "    evals, evecs = np.linalg.eigh(gs)\n",
    "    evecs = [vec / np.linalg.norm(vec) for vec in evecs.transpose()]\n",
    "    return [\n",
    "        p ** (-0.5) * sum(c * op for c, op in zip(w, basis))\n",
    "        for p, w in zip(evals, evecs)\n",
    "        if p > 0.00001\n",
    "    ]\n",
    "\n",
    "\n",
    "def project_op(op: Qobj, orthogonal_basis: list, sp: Callable):\n",
    "    return np.array([sp(op2, op) for op2 in orthogonal_basis])"
   ]
  },
  {
   "cell_type": "code",
   "execution_count": 60,
   "id": "da5528b0",
   "metadata": {},
   "outputs": [],
   "source": [
    "def logM(rho, svd = True):\n",
    "    if isinstance(rho, qutip.Qobj):\n",
    "        qutip_form = True\n",
    "        dims = rho.dims\n",
    "    else:\n",
    "        qutip_form = False        \n",
    "\n",
    "    if svd:            \n",
    "        if qutip_form:\n",
    "            rho = rho.full()\n",
    "        U, Sigma, Vdag = linalg.svd(rho, full_matrices = False)\n",
    "        matrix_log = U @ np.diag(np.log(Sigma)) @ U.conj().transpose() \n",
    "    else: \n",
    "        if qutip_form:\n",
    "            eigvals, eigvecs = rho.eigenstates()\n",
    "            matrix_log = sum([np.log(vl)*vc*vc.dag() for vl, vc in zip(eigvals, eigvecs)]) \n",
    "        else:\n",
    "            rho = rho.full()\n",
    "            eigvals, eigvecs = linalg.eigh(rho)\n",
    "            return evecs @ np.array([np.log(ev)*np.array(f) for ev, f in zip(evals, evecs.transpose().conj())])\n",
    "    \n",
    "    if qutip_form:\n",
    "        matrix_log = qutip.Qobj(matrix_log, dims)\n",
    "    return matrix_log\n",
    "\n",
    "def rel_entropy(rho, sigma, svd = True):\n",
    "    if svd:\n",
    "        val = (rho*(logM(rho, True) - logM(sigma, True))).tr()\n",
    "    else:\n",
    "        assert ((ev_checks(rho) and ev_checks(sigma))), \"Either rho or sigma have negative ev.\"\n",
    "        val = (rho*(logM(rho, False)-logM(sigma, False))).tr()\n",
    "        if (abs(val.imag - 0)>1.e-10):\n",
    "            val = None\n",
    "            raise Exception(\"Either rho or sigma have negative ev.\")\n",
    "    return val.real\n",
    "\n",
    "def fetch_induced_distance(sp):\n",
    "    def distance(op1, op2):\n",
    "        dop = op1 - op2\n",
    "        return np.sqrt(sp(dop, dop))\n",
    "\n",
    "    return distance"
   ]
  },
  {
   "cell_type": "markdown",
   "id": "30ec0931",
   "metadata": {},
   "source": [
    "Para cada trayectoria, calcular la evolución de X y N\n",
    "Entropías relativas entre los diferentes pares ((rho_KMB, rho_corr), (rho, rho_KMB) y (rho, rho_corr) )\n",
    "Distancia KMB entre los diferentes pares ((K_KMB, K_corr), (K, K_KMB) y (K, K_corr) )"
   ]
  },
  {
   "cell_type": "code",
   "execution_count": 61,
   "id": "952f9ab7",
   "metadata": {},
   "outputs": [],
   "source": [
    "def instantaneous_projs_and_avgs(K_exact, rho_exact, basis, corr_sp, kmb_sp, subset_of_observables, subset_label_ops):\n",
    "    \"Hace de todo\"\n",
    "    # primero corr\n",
    "    \n",
    "    rel_entropies_at_timeti = {}; matrix_norms_at_timeti = {}; expected_values_at_timeti = {}\n",
    "    distance = fetch_induced_distance(kmb_sp) #fixed\n",
    "    \n",
    "    basis = orthogonalize_basis(basis, corr_sp)\n",
    "    kp_corr = sum(phi * op for phi, op in zip(project_op(K_exact, basis, corr_sp), basis))\n",
    "    local_proj_state_corr = safe_expm_and_normalize(kp_corr)\n",
    "    \n",
    "    for name in subset_label_ops:\n",
    "        expected_values_at_timeti[\"corr \" + name] = qutip.expect(local_proj_state_corr, subset_of_observables[name]) # obs X y N para corr\n",
    "    \n",
    "    matrix_norms_at_timeti[\"kmb(exact_v_corr)\"] = distance(kp_corr, K_exact) # (K, K_corr)\n",
    "    \n",
    "    # ahora kmb\n",
    "    basis = orthogonalize_basis(basis, kmb_sp)\n",
    "    kp_kmb = sum(phi * op for phi, op in zip(project_op(K_exact, basis, kmb_sp), basis))\n",
    "    local_proj_state_kmb = safe_expm_and_normalize(kp_kmb)\n",
    "    \n",
    "    for name in subset_label_ops:\n",
    "        expected_values_at_timeti[\"kmb \" + name] = qutip.expect(local_proj_state_kmb, subset_of_observables[name]) # obs X y N para kmb\n",
    "    \n",
    "    matrix_norms_at_timeti[\"kmb(exact_v_kmb)\"] = distance(K_exact, kp_kmb) #(K, K_KMB)\n",
    "    matrix_norms_at_timeti[\"kmb(corr_v_kmb)\"] = distance(kp_corr, kp_kmb) #(K_KMB, K_corr)\n",
    "    \n",
    "    kp_corr = kp_kmb = None\n",
    "    \n",
    "    rel_entropies_at_timeti[\"exact_v_kmb\"] = rel_entropy(rho_exact, local_proj_state_kmb)\n",
    "    rel_entropies_at_timeti[\"exact_v_corr\"] = rel_entropy(rho_exact, local_proj_state_corr)\n",
    "    rel_entropies_at_timeti[\"corr_v_kmb\"] = rel_entropy(local_proj_state_corr, local_proj_state_kmb)\n",
    "    rel_entropies_at_timeti[\"kmb_v_corr\"] = rel_entropy(local_proj_state_kmb, local_proj_state_corr)\n",
    "    \n",
    "    local_proj_state_corr = local_proj_state_kmb = None\n",
    "    \n",
    "    return rel_entropies_at_timeti, matrix_norms_at_timeti, expected_values_at_timeti"
   ]
  },
  {
   "cell_type": "code",
   "execution_count": 62,
   "id": "ef7ffe1e",
   "metadata": {},
   "outputs": [],
   "source": [
    "def projections(Hamiltonian, K0, basis0, timespan, depth, beta, subset_of_observables, subset_label_ops):\n",
    "    print(\"**** Starting Simulation\", datetime.now())\n",
    "    results = {}\n",
    "    HBasis_local = matAnsys.build_Hierarchical_Basis(Hamiltonian = Hamiltonian,\n",
    "                                                     seed_operator = HB_B0[-1], \n",
    "                                                     depth = depth,\n",
    "                                                     tol = 1e-5, verbose = False)\n",
    "    Hierarchical_B = []; del basis0[-1]\n",
    "    Hierarchical_B = basis0  + HBasis_local\n",
    "        \n",
    "    for b in Hierarchical_B:\n",
    "        b.__hash__ = lambda slf: hash(id(slf))\n",
    "        \n",
    "    res_exact, rhot = me.solve_exact(Hamiltonian = Hamiltonian,\n",
    "                                     K0 = K0, \n",
    "                                     timespan = timespan,\n",
    "                                     return_evolved_rhos = True,\n",
    "                                     return_qutip_res_obj = True)\n",
    "    K_at_timet = res_exact.states\n",
    "    results[\"exact\"] = K_at_timet\n",
    "    results[\"exact_states\"] = rhot\n",
    "    ts = list(timespan)\n",
    "    \n",
    "    print(\"buildint the instantaneous KMB sp\", datetime.now())\n",
    "    inst_KMB_sp = [fetch_kubo_scalar_product(rho) for rho in rhot]\n",
    "    print(\"buildint the instantaneous corr sp\", datetime.now())\n",
    "    inst_corr_sp = [fetch_corr_scalar_product(rho) for rho in rhot]\n",
    "    \n",
    "    print(\"corr\", datetime.now())\n",
    "    ts_list = list(timespan)\n",
    "    results[\"projections\"] = []\n",
    "    for t in timespan: \n",
    "        ti = ts_list.index(t)\n",
    "        if ti%5 == 0:\n",
    "            print(\"------- Everything: step\", ti, \"at time\", datetime.now())\n",
    "        res_local = instantaneous_projs_and_avgs(K_at_timet[ti], \n",
    "                                                 rhot[ti], Hierarchical_B, \n",
    "                                                 inst_corr_sp[ti], inst_KMB_sp[ti], \n",
    "                                                 subset_of_observables, subset_label_ops)\n",
    "        results[\"projections\"].append(res_local)\n",
    "        \n",
    "    ts_list = None\n",
    "    return results"
   ]
  },
  {
   "cell_type": "code",
   "execution_count": 63,
   "id": "bc728e88",
   "metadata": {
    "scrolled": false
   },
   "outputs": [
    {
     "name": "stdout",
     "output_type": "stream",
     "text": [
      "**** Starting Simulation 2023-06-19 15:31:41.279120\n",
      "buildint the instantaneous KMB sp 2023-06-19 15:31:41.523964\n",
      "buildint the instantaneous corr sp 2023-06-19 15:31:42.964484\n",
      "corr 2023-06-19 15:31:42.964484\n",
      "------- Everything: step 0 at time 2023-06-19 15:31:42.964484\n",
      "------- Everything: step 5 at time 2023-06-19 15:35:31.947209\n",
      "------- Everything: step 10 at time 2023-06-19 15:38:40.284835\n",
      "------- Everything: step 15 at time 2023-06-19 15:41:45.374295\n",
      "------- Everything: step 20 at time 2023-06-19 15:44:55.065917\n",
      "------- Everything: step 25 at time 2023-06-19 15:48:01.291152\n",
      "------- Everything: step 30 at time 2023-06-19 15:50:59.849947\n",
      "------- Everything: step 35 at time 2023-06-19 15:53:57.108866\n",
      "------- Everything: step 40 at time 2023-06-19 15:57:02.706658\n",
      "------- Everything: step 45 at time 2023-06-19 16:00:11.700762\n"
     ]
    }
   ],
   "source": [
    "ts = np.linspace(0, 5.,50)\n",
    "HB_B0 = [identity_op, H_loc, cl_ops[\"n_oc_op\"], cl_ops[\"n_oc_op\"]**2,  cl_ops[\"x_op\"]**2, cl_ops[\"x_op\"], K0]\n",
    "res = projections(Hamiltonian = HH, K0 = K0, basis0 = HB_B0, timespan = ts, depth = 4, beta = beta, \n",
    "                 subset_of_observables = subset_of_observables, subset_label_ops = subset_label_ops)"
   ]
  },
  {
   "cell_type": "code",
   "execution_count": 64,
   "id": "2334acd8",
   "metadata": {},
   "outputs": [],
   "source": [
    "ts1 = list(ts)\n",
    "\n",
    "states = res[\"exact_states\"]\n",
    "expected_values_exact_X = [(states[ts1.index(t)] * subset_of_observables[\"x_op\"]).tr() for t in ts1]\n",
    "expected_values_exact_N = [(states[ts1.index(t)] * subset_of_observables[\"n_oc_op\"]).tr() for t in ts1]\n",
    "\n",
    "relative_entropy_exact_v_kmb = [res[\"projections\"][ts1.index(t)][0][\"exact_v_kmb\"] for t in ts1]\n",
    "relative_entropy_exact_v_corr = [res[\"projections\"][ts1.index(t)][0][\"exact_v_corr\"] for t in ts1]\n",
    "relative_entropy_kmb_v_corr = [res[\"projections\"][ts1.index(t)][0][\"corr_v_kmb\"] for t in ts1]\n",
    "relative_entropy_corr_v_kmb = [res[\"projections\"][ts1.index(t)][0][\"kmb_v_corr\"] for t in ts1]\n",
    "\n",
    "kmb_exact_v_corr = [res[\"projections\"][ts1.index(t)][1][\"kmb(exact_v_corr)\"] for t in ts1]\n",
    "kmb_exact_v_kmb = [res[\"projections\"][ts1.index(t)][1][\"kmb(exact_v_kmb)\"] for t in ts1]\n",
    "kmb_corr_v_kmb = [res[\"projections\"][ts1.index(t)][1][\"kmb(corr_v_kmb)\"] for t in ts1]\n",
    "difference = [res[\"projections\"][ts1.index(t)][1][\"kmb(exact_v_corr)\"] - res[\"projections\"][ts1.index(t)][1][\"kmb(corr_v_kmb)\"] for t in ts1]\n",
    "\n",
    "expected_values_corr_X = [res[\"projections\"][ts1.index(t)][2][\"corr x_op\"] for t in ts1]\n",
    "expected_values_corr_N = [res[\"projections\"][ts1.index(t)][2][\"corr n_oc_op\"] for t in ts1]\n",
    "expected_values_kmb_X = [res[\"projections\"][ts1.index(t)][2][\"kmb x_op\"] for t in ts1]\n",
    "expected_values_kmb_N = [res[\"projections\"][ts1.index(t)][2][\"kmb n_oc_op\"] for t in ts1]"
   ]
  },
  {
   "cell_type": "code",
   "execution_count": 65,
   "id": "4bc51c33",
   "metadata": {
    "scrolled": true
   },
   "outputs": [
    {
     "name": "stderr",
     "output_type": "stream",
     "text": [
      "C:\\Users\\tomas\\AppData\\Local\\Temp\\ipykernel_15464\\233697900.py:1: RuntimeWarning: divide by zero encountered in double_scalars\n",
      "  kmb_exact_v_corr_scaled = [res[\"projections\"][ts1.index(t)][1][\"kmb(exact_v_corr)\"]/t**4 for t in ts1]\n",
      "C:\\Users\\tomas\\AppData\\Local\\Temp\\ipykernel_15464\\233697900.py:2: RuntimeWarning: invalid value encountered in double_scalars\n",
      "  kmb_exact_v_kmb_scaled = [res[\"projections\"][ts1.index(t)][1][\"kmb(exact_v_kmb)\"]/t**4 for t in ts1]\n",
      "C:\\Users\\tomas\\AppData\\Local\\Temp\\ipykernel_15464\\233697900.py:3: RuntimeWarning: divide by zero encountered in double_scalars\n",
      "  kmb_corr_v_kmb_scaled = [res[\"projections\"][ts1.index(t)][1][\"kmb(corr_v_kmb)\"]/t**4 for t in ts1]\n"
     ]
    }
   ],
   "source": [
    "kmb_exact_v_corr_scaled = [res[\"projections\"][ts1.index(t)][1][\"kmb(exact_v_corr)\"]/t**4 for t in ts1]\n",
    "kmb_exact_v_kmb_scaled = [res[\"projections\"][ts1.index(t)][1][\"kmb(exact_v_kmb)\"]/t**4 for t in ts1]\n",
    "kmb_corr_v_kmb_scaled = [res[\"projections\"][ts1.index(t)][1][\"kmb(corr_v_kmb)\"]/t**4 for t in ts1]"
   ]
  },
  {
   "cell_type": "code",
   "execution_count": 69,
   "id": "6dc0c7f2",
   "metadata": {},
   "outputs": [
    {
     "data": {
      "image/png": "[encoded data removed]",
      "text/plain": [
       "<Figure size 720x432 with 1 Axes>"
      ]
     },
     "metadata": {
      "needs_background": "light"
     },
     "output_type": "display_data"
    },
    {
     "data": {
      "image/png": "[encoded data removed]",
      "text/plain": [
       "<Figure size 720x432 with 1 Axes>"
      ]
     },
     "metadata": {
      "needs_background": "light"
     },
     "output_type": "display_data"
    }
   ],
   "source": [
    "fig0, ax0 = plt.subplots(figsize=(10,6))\n",
    "\n",
    "plt.title(\"Expected Value Exact v. corr v. kmb, N = 6\")\n",
    "\n",
    "plt.scatter(ts, expected_values_corr_X, label = \"Corr\")\n",
    "plt.scatter(ts, expected_values_kmb_X, label = \"KMB\")\n",
    "plt.scatter(ts, expected_values_exact_X, label = \"Exact\")\n",
    "\n",
    "ax0.legend(loc = 0)\n",
    "plt.xlabel(\"Time[s]\")\n",
    "plt.show()\n",
    "\n",
    "fig1, ax1 = plt.subplots(figsize=(10,6))\n",
    "\n",
    "plt.title(\"Expected Value Exact v. corr v. kmb, N = 6\")\n",
    "\n",
    "plt.scatter(ts, expected_values_corr_N, label = \"Corr\")\n",
    "plt.scatter(ts, expected_values_kmb_N, label = \"KMB\")\n",
    "plt.scatter(ts, expected_values_exact_N, label = \"Exact\")\n",
    "\n",
    "ax1.legend(loc = 0)\n",
    "plt.xlabel(\"Time[s]\")\n",
    "plt.show()"
   ]
  },
  {
   "cell_type": "code",
   "execution_count": 70,
   "id": "7d3eb051",
   "metadata": {
    "scrolled": false
   },
   "outputs": [
    {
     "data": {
      "image/png": "[encoded data removed]",
      "text/plain": [
       "<Figure size 720x432 with 1 Axes>"
      ]
     },
     "metadata": {
      "needs_background": "light"
     },
     "output_type": "display_data"
    },
    {
     "data": {
      "image/png": "[encoded data removed]",
      "text/plain": [
       "<Figure size 720x432 with 1 Axes>"
      ]
     },
     "metadata": {
      "needs_background": "light"
     },
     "output_type": "display_data"
    }
   ],
   "source": [
    "fig0, ax0 = plt.subplots(figsize=(10,6))\n",
    "\n",
    "plt.title(\"Logarithmic Scale: KMB induced Norm: Exact v. corr v. kmb, N = 6\")\n",
    "\n",
    "plt.scatter(ts, kmb_exact_v_corr_scaled, label = \"Exact v. Corr\")\n",
    "plt.scatter(ts, kmb_exact_v_kmb_scaled, label = \"Exact v. KMB\")\n",
    "plt.scatter(ts, kmb_corr_v_kmb_scaled, label = \"Corr v. KMB\")\n",
    "\n",
    "plt.xscale('log')\n",
    "plt.yscale('log')\n",
    "ax0.legend(loc = 0)\n",
    "plt.xlabel(\"Time[s]\")\n",
    "plt.show()\n",
    "\n",
    "fig1, ax1 = plt.subplots(figsize=(10,6))\n",
    "\n",
    "plt.title(\"KMB induced Norm: Exact v. corr v. kmb, N = 6\")\n",
    "\n",
    "plt.scatter(ts, kmb_exact_v_corr, label = \"Exact v. Corr\")\n",
    "plt.scatter(ts, kmb_exact_v_kmb, label = \"Exact v. KMB\")\n",
    "plt.scatter(ts, kmb_corr_v_kmb, label = \"Corr v. KMB\")\n",
    "\n",
    "ax1.legend(loc = 0)\n",
    "plt.xlabel(\"Time[s]\")\n",
    "plt.show()"
   ]
  },
  {
   "cell_type": "code",
   "execution_count": 71,
   "id": "868fca95",
   "metadata": {
    "scrolled": false
   },
   "outputs": [
    {
     "data": {
      "image/png": "[encoded data removed]",
      "text/plain": [
       "<Figure size 720x432 with 1 Axes>"
      ]
     },
     "metadata": {
      "needs_background": "light"
     },
     "output_type": "display_data"
    }
   ],
   "source": [
    "fig0, ax0 = plt.subplots(figsize=(10,6))\n",
    "\n",
    "plt.title(\"Relative Entropies: N = 6\")\n",
    "\n",
    "plt.scatter(ts, relative_entropy_exact_v_kmb, label = \"Exact v. KMB\")\n",
    "plt.scatter(ts, relative_entropy_exact_v_corr, label = \"Exact v. Corr\")\n",
    "plt.scatter(ts, relative_entropy_kmb_v_corr, label = \"KMB v. corr\")\n",
    "plt.scatter(ts, relative_entropy_corr_v_kmb, label = \"Corr v. KMB\")\n",
    "\n",
    "ax0.legend(loc = 0)\n",
    "plt.xlabel(\"Time[s]\")\n",
    "plt.show()"
   ]
  },
  {
   "cell_type": "code",
   "execution_count": null,
   "id": "fff851e6",
   "metadata": {},
   "outputs": [],
   "source": []
  },
  {
   "cell_type": "code",
   "execution_count": null,
   "id": "1e0d10ac",
   "metadata": {},
   "outputs": [],
   "source": []
  },
  {
   "cell_type": "code",
   "execution_count": null,
   "id": "3c6376fb",
   "metadata": {},
   "outputs": [],
   "source": []
  }
 ],
 "metadata": {
  "kernelspec": {
   "display_name": "Python 3 (ipykernel)",
   "language": "python",
   "name": "python3"
  },
  "language_info": {
   "codemirror_mode": {
    "name": "ipython",
    "version": 3
   },
   "file_extension": ".py",
   "mimetype": "text/x-python",
   "name": "python",
   "nbconvert_exporter": "python",
   "pygments_lexer": "ipython3",
   "version": "3.9.12"
  }
 },
 "nbformat": 4,
 "nbformat_minor": 5
}
