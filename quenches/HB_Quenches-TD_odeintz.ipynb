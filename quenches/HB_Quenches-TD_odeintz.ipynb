{
 "cells": [
  {
   "cell_type": "code",
   "execution_count": 1,
   "id": "e4d03e90-4568-45ad-9112-e468580e4d6a",
   "metadata": {},
   "outputs": [],
   "source": [
    "import qutip, pickle, sys\n",
    "import matplotlib.pyplot as plt \n",
    "import numpy as np\n",
    "import scipy.optimize as opt \n",
    "import scipy.linalg as linalg\n",
    "import time as time\n",
    "import math, cmath\n",
    "\n",
    "from datetime import datetime\n",
    "from qutip.qobj import Qobj\n",
    "from collections.abc import Iterable\n",
    "from typing import Callable, List, Optional, Tuple\n",
    "from datetime import datetime\n",
    "from scipy.integrate import odeint"
   ]
  },
  {
   "cell_type": "code",
   "execution_count": 2,
   "id": "b983a4e0-2160-4740-b2c8-9fdc1578ddab",
   "metadata": {},
   "outputs": [],
   "source": [
    "import sys \n",
    "path = 'C:/Users/Tomas/PhD_Physics/3rd_Year/Max-Ent_Library'\n",
    "sys.path.insert(1, path) \n",
    "\n",
    "import a_quantum_geometries as gij\n",
    "import b_spin_ops as su2\n",
    "import c_maxent_tools as me"
   ]
  },
  {
   "cell_type": "code",
   "execution_count": 8,
   "id": "37881403-1f9a-4bae-a869-5694be7844df",
   "metadata": {},
   "outputs": [
    {
     "name": "stdout",
     "output_type": "stream",
     "text": [
      "0.0764020128853983\n"
     ]
    }
   ],
   "source": [
    "params={}\n",
    "\n",
    "params['size']=5\n",
    "params['beta']=5.\n",
    "\n",
    "params['omega']=.25*np.pi*2.; \n",
    "\n",
    "params['Jx']=5*10**-2*params['omega']; params['Jy'] = .5*params['Jx']; params['chain_type']='XY'\n",
    "\n",
    "params['Omega']=.9999*params['omega']; params['V0']=2.4*.05;params['phase'] = np.pi/4; params['period']=2.*np.pi/params['Omega']\n",
    "\n",
    "print(params['V0']/params['Omega'])"
   ]
  },
  {
   "cell_type": "code",
   "execution_count": 9,
   "id": "fef88e45-1b7a-4a21-8e81-25739e62765c",
   "metadata": {},
   "outputs": [],
   "source": [
    "spin_ops=su2.one_body_spin_ops(args=params)\n",
    "\n",
    "idop=spin_ops['idop']\n",
    "sx_total=sum(sx for sx in spin_ops['sx'])\n",
    "sy_total=sum(sx for sx in spin_ops['sy'])\n",
    "sz_total=sum(sx for sx in spin_ops['sz'])\n",
    "grad_field_sx=sum(j*spin_ops['sx'][j] for j in range(params['size']))\n",
    "grad_field_sy=sum(j*spin_ops['sy'][j] for j in range(params['size']))\n",
    "grad_field_sz=sum(j*spin_ops['sz'][j] for j in range(params['size']))"
   ]
  },
  {
   "cell_type": "code",
   "execution_count": 10,
   "id": "1f22d3f6-2424-4f4a-9231-59f86371e3db",
   "metadata": {},
   "outputs": [],
   "source": [
    "H0=params['omega']*sz_total\n",
    "Hint=1.*su2.Heisenberg_1D_Hamiltonian(spin_ops=spin_ops, args=params)\n",
    "\n",
    "### Lab\n",
    "driving_td=lambda t,args: args['V0']*np.cos(args['Omega']*t+args['phase'])\n",
    "Hlab=[H0+Hint,[grad_field_sx, driving_td]]\n",
    "\n",
    "### RWA\n",
    "Hrwa=H0-params['Omega']*sz_total \n",
    "Hrwa+=Hint \n",
    "Hrwa+=params['V0']*.5*(np.cos(params['phase'])*grad_field_sx + np.sin(params['phase'])*grad_field_sy)\n",
    "\n",
    "### ROT (RWA+CR)\n",
    "rot_sx_tdterm=lambda t,args: .5*args['V0']*np.cos(2*args['Omega']*t+args['phase'])\n",
    "rot_sy_tdterm=lambda t,args: -.5*args['V0']*np.sin(2*args['Omega']*t+args['phase'])\n",
    "\n",
    "Hrot_func=lambda t,args: Hrwa+rot_sx_tdterm(t=t,args=args)*grad_field_sx+rot_sy_tdterm(t=t,args=args)*grad_field_sy\n",
    "Hrot=[Hrwa,[grad_field_sx, rot_sx_tdterm],[grad_field_sy, rot_sy_tdterm]]"
   ]
  },
  {
   "cell_type": "code",
   "execution_count": 16,
   "id": "7bb92c4c-ddb2-46a0-994e-d928d525ffd3",
   "metadata": {},
   "outputs": [
    {
     "data": {
      "text/plain": [
       "array([-0.47808827, -0.47808827, -0.47808827, -0.47808827, -0.47808827])"
      ]
     },
     "execution_count": 16,
     "metadata": {},
     "output_type": "execute_result"
    }
   ],
   "source": [
    "HBB0=[idop, sx_total, sy_total, sz_total]\n",
    "phi0=np.array([0., 1, 1, 5.2])\n",
    "K0 = -sum(phia * opa for phia,opa in zip(phi0, HBB0))\n",
    "sigma0=gij.safe_expm_and_normalize(K=K0)\n",
    "phi0[0]=np.log(sigma0.tr())\n",
    "K0 = -sum(phia * opa for phia,opa in zip(phi0, HBB0))\n",
    "sigma0=gij.safe_expm_and_normalize(K=K0)\n",
    "#HBB0+=[K0]\n",
    "\n",
    "qutip.expect(spin_ops['sz'], sigma0)"
   ]
  },
  {
   "cell_type": "code",
   "execution_count": 17,
   "id": "9414cf9b-9f85-4484-86ef-5d9a3616b005",
   "metadata": {},
   "outputs": [],
   "source": [
    "N=400\n",
    "T=1*np.pi/max(.001,abs(params['V0']))/N\n",
    "timespan = np.linspace(0,N*T,N)\n",
    "\n",
    "resex=qutip.mesolve(H=Hlab,\n",
    "                    rho0=K0,\n",
    "                    tlist=timespan,\n",
    "                    args=params)\n",
    "\n",
    "resrwa=qutip.mesolve(H=Hrwa,\n",
    "                     rho0=K0,\n",
    "                     tlist=timespan,\n",
    "                     args=params)\n",
    "\n",
    "resrot=qutip.mesolve(H=Hrot,\n",
    "                       rho0=K0,\n",
    "                       tlist=timespan, \n",
    "                       args=params) \n",
    "\n",
    "Urot = lambda t,args: (-1j*sz_total*args['Omega']*t).expm()\n",
    "Urot_td=[Urot(t=ti,args=params) for ti in timespan]\n",
    "exact_Ks_rotframe=[Urot_ti.dag() * Kti * Urot_ti for Urot_ti,Kti in zip(Urot_td,resex.states)]\n",
    "\n",
    "rhos_resrwa=[gij.safe_expm_and_normalize(K=Kt) for Kt in resrwa.states]\n",
    "rhos_resex=[gij.safe_expm_and_normalize(K=Kti) for Kti in exact_Ks_rotframe]\n",
    "rhos_rotcr=[gij.safe_expm_and_normalize(K=Kti) for Kti in resrot.states]"
   ]
  },
  {
   "cell_type": "code",
   "execution_count": 41,
   "id": "52a6ae6c-e5f2-48ba-b679-b36d40e78860",
   "metadata": {},
   "outputs": [],
   "source": [
    "d = 1\n",
    "generator=Hrwa\n",
    "HBB_d = HBB0 + gij.build_HierarchicalBasis(generator=Hrwa, seed_operator=K0, depth=d)"
   ]
  },
  {
   "cell_type": "code",
   "execution_count": 58,
   "id": "bd7a6d63-7cba-4a54-8ea1-089ca6b48ce4",
   "metadata": {},
   "outputs": [],
   "source": [
    "def Hij_tensor(basis: List[Qobj], sp: Callable, generator):\n",
    "    local_Hij = np.array([[sp(op1, gij.commutator(-1j*generator, op2))\n",
    "                            for op2 in basis] for op1 in basis])\n",
    "    return local_Hij"
   ]
  },
  {
   "cell_type": "code",
   "execution_count": 59,
   "id": "f60bb547-2fc1-46fb-8095-a81fe02b81dd",
   "metadata": {},
   "outputs": [],
   "source": [
    "def func_restricted_ev(y, t, generator, basis):\n",
    "    K_local=-sum(yi*opi for yi,opi in zip(y, basis))\n",
    "    sigma_local=gij.safe_expm_and_normalize(K_local)\n",
    "    gram_matrix=gij.gram_matrix(basis=basis, sp=gij.fetch_covar_scalar_product(sigma_local))\n",
    "    local_Hij = -1j*Hij_tensor(generator=generator, basis=basis, sp=gij.fetch_covar_scalar_product(sigma_local))\n",
    "    return linalg.inv(gram_matrix) @ local_Hij @ y"
   ]
  },
  {
   "cell_type": "code",
   "execution_count": 60,
   "id": "ad7318e2-7f06-4d15-b5a8-b4bd3525a2d0",
   "metadata": {},
   "outputs": [],
   "source": [
    "def odeintz(func, z0, t, **kwargs):\n",
    "    \"\"\"An odeint-like function for complex valued differential equations.\"\"\"\n",
    "\n",
    "    # Disallow Jacobian-related arguments.\n",
    "    _unsupported_odeint_args = ['Dfun', 'col_deriv', 'ml', 'mu']\n",
    "    bad_args = [arg for arg in kwargs if arg in _unsupported_odeint_args]\n",
    "    if len(bad_args) > 0:\n",
    "        raise ValueError(\"The odeint argument %r is not supported by \"\n",
    "                         \"odeintz.\" % (bad_args[0],))\n",
    "\n",
    "    # Make sure z0 is a numpy array of type np.complex128.\n",
    "    z0 = np.array(z0, dtype=np.complex128, ndmin=1)\n",
    "\n",
    "    def realfunc(x, t, *args):\n",
    "        z = x.view(np.complex128)\n",
    "        dzdt = func(z, t, *args)\n",
    "        # func might return a python list, so convert its return\n",
    "        # value to an array with type np.complex128, and then return\n",
    "        # a np.float64 view of that array.\n",
    "        return np.asarray(dzdt, dtype=np.complex128).view(np.float64)\n",
    "\n",
    "    result = odeint(realfunc, z0.view(np.float64), t, **kwargs)\n",
    "\n",
    "    if kwargs.get('full_output', False):\n",
    "        z = result[0].view(np.complex128)\n",
    "        infodict = result[1]\n",
    "        return z, infodict\n",
    "    else:\n",
    "        z = result.view(np.complex128)\n",
    "        return z\n",
    "\n",
    "basis=HBB0\n",
    "phit,infodict = odeintz(func=func_restricted_ev, z0=phi0, t=timespan, args=(generator,basis), full_output=True)"
   ]
  },
  {
   "cell_type": "code",
   "execution_count": 69,
   "id": "f53dc0c5-233e-4c51-83f5-bcb28fc71772",
   "metadata": {},
   "outputs": [
    {
     "data": {
      "text/plain": [
       "True"
      ]
     },
     "execution_count": 69,
     "metadata": {},
     "output_type": "execute_result"
    }
   ],
   "source": [
    "Ks_at_timet[0]==K0"
   ]
  },
  {
   "cell_type": "code",
   "execution_count": 61,
   "id": "7bd4fd16-004a-40f4-b063-a9eaf47f5d0c",
   "metadata": {
    "scrolled": true
   },
   "outputs": [
    {
     "ename": "ValueError",
     "evalue": "cannot convert float NaN to integer",
     "output_type": "error",
     "traceback": [
      "\u001b[1;31m---------------------------------------------------------------------------\u001b[0m",
      "\u001b[1;31mValueError\u001b[0m                                Traceback (most recent call last)",
      "Cell \u001b[1;32mIn[61], line 2\u001b[0m\n\u001b[0;32m      1\u001b[0m Ks_at_timet\u001b[38;5;241m=\u001b[39m[\u001b[38;5;241m-\u001b[39m\u001b[38;5;28msum\u001b[39m(phii\u001b[38;5;241m*\u001b[39mopi \u001b[38;5;28;01mfor\u001b[39;00m phii, opi \u001b[38;5;129;01min\u001b[39;00m \u001b[38;5;28mzip\u001b[39m(phi_ti, HBB_d)) \u001b[38;5;28;01mfor\u001b[39;00m phi_ti \u001b[38;5;129;01min\u001b[39;00m phit]\n\u001b[1;32m----> 2\u001b[0m sigmas_at_timet\u001b[38;5;241m=\u001b[39m[gij\u001b[38;5;241m.\u001b[39msafe_expm_and_normalize(Kti) \u001b[38;5;28;01mfor\u001b[39;00m Kti \u001b[38;5;129;01min\u001b[39;00m Ks_at_timet]\n",
      "Cell \u001b[1;32mIn[61], line 2\u001b[0m, in \u001b[0;36m<listcomp>\u001b[1;34m(.0)\u001b[0m\n\u001b[0;32m      1\u001b[0m Ks_at_timet\u001b[38;5;241m=\u001b[39m[\u001b[38;5;241m-\u001b[39m\u001b[38;5;28msum\u001b[39m(phii\u001b[38;5;241m*\u001b[39mopi \u001b[38;5;28;01mfor\u001b[39;00m phii, opi \u001b[38;5;129;01min\u001b[39;00m \u001b[38;5;28mzip\u001b[39m(phi_ti, HBB_d)) \u001b[38;5;28;01mfor\u001b[39;00m phi_ti \u001b[38;5;129;01min\u001b[39;00m phit]\n\u001b[1;32m----> 2\u001b[0m sigmas_at_timet\u001b[38;5;241m=\u001b[39m[gij\u001b[38;5;241m.\u001b[39msafe_expm_and_normalize(Kti) \u001b[38;5;28;01mfor\u001b[39;00m Kti \u001b[38;5;129;01min\u001b[39;00m Ks_at_timet]\n",
      "File \u001b[1;32m~\\PhD_Physics\\3rd_Year\\Max-Ent_Library\\a_quantum_geometries.py:143\u001b[0m, in \u001b[0;36msafe_expm_and_normalize\u001b[1;34m(K)\u001b[0m\n\u001b[0;32m    141\u001b[0m \u001b[38;5;28;01melse\u001b[39;00m:\n\u001b[0;32m    142\u001b[0m     e0 \u001b[38;5;241m=\u001b[39m \u001b[38;5;28mmax\u001b[39m(np\u001b[38;5;241m.\u001b[39mreal(K\u001b[38;5;241m.\u001b[39meigenenergies(sparse\u001b[38;5;241m=\u001b[39m\u001b[38;5;124m\"\u001b[39m\u001b[38;5;124mTrue\u001b[39m\u001b[38;5;124m\"\u001b[39m, sort\u001b[38;5;241m=\u001b[39m\u001b[38;5;124m\"\u001b[39m\u001b[38;5;124mhigh\u001b[39m\u001b[38;5;124m\"\u001b[39m, eigvals\u001b[38;5;241m=\u001b[39mn_eig)))\n\u001b[1;32m--> 143\u001b[0m sigma \u001b[38;5;241m=\u001b[39m (K \u001b[38;5;241m-\u001b[39m e0)\u001b[38;5;241m.\u001b[39mexpm()\n\u001b[0;32m    144\u001b[0m \u001b[38;5;28;01mreturn\u001b[39;00m qutip\u001b[38;5;241m.\u001b[39mQobj(sigma \u001b[38;5;241m/\u001b[39m sigma\u001b[38;5;241m.\u001b[39mtr())\n",
      "File \u001b[1;32m~\\anaconda3\\Lib\\site-packages\\qutip\\qobj.py:1150\u001b[0m, in \u001b[0;36mQobj.expm\u001b[1;34m(self, method)\u001b[0m\n\u001b[0;32m   1147\u001b[0m     \u001b[38;5;28;01mraise\u001b[39;00m \u001b[38;5;167;01mTypeError\u001b[39;00m(\u001b[38;5;124m'\u001b[39m\u001b[38;5;124mInvalid operand for matrix exponential\u001b[39m\u001b[38;5;124m'\u001b[39m)\n\u001b[0;32m   1149\u001b[0m \u001b[38;5;28;01mif\u001b[39;00m method \u001b[38;5;241m==\u001b[39m \u001b[38;5;124m'\u001b[39m\u001b[38;5;124mdense\u001b[39m\u001b[38;5;124m'\u001b[39m:\n\u001b[1;32m-> 1150\u001b[0m     F \u001b[38;5;241m=\u001b[39m sp_expm(\u001b[38;5;28mself\u001b[39m\u001b[38;5;241m.\u001b[39mdata, sparse\u001b[38;5;241m=\u001b[39m\u001b[38;5;28;01mFalse\u001b[39;00m)\n\u001b[0;32m   1152\u001b[0m \u001b[38;5;28;01melif\u001b[39;00m method \u001b[38;5;241m==\u001b[39m \u001b[38;5;124m'\u001b[39m\u001b[38;5;124msparse\u001b[39m\u001b[38;5;124m'\u001b[39m:\n\u001b[0;32m   1153\u001b[0m     F \u001b[38;5;241m=\u001b[39m sp_expm(\u001b[38;5;28mself\u001b[39m\u001b[38;5;241m.\u001b[39mdata, sparse\u001b[38;5;241m=\u001b[39m\u001b[38;5;28;01mTrue\u001b[39;00m)\n",
      "File \u001b[1;32m~\\anaconda3\\Lib\\site-packages\\qutip\\sparse.py:401\u001b[0m, in \u001b[0;36msp_expm\u001b[1;34m(A, sparse)\u001b[0m\n\u001b[0;32m    399\u001b[0m     E \u001b[38;5;241m=\u001b[39m spla\u001b[38;5;241m.\u001b[39mexpm(A\u001b[38;5;241m.\u001b[39mtocsc())\n\u001b[0;32m    400\u001b[0m \u001b[38;5;28;01melse\u001b[39;00m:\n\u001b[1;32m--> 401\u001b[0m     E \u001b[38;5;241m=\u001b[39m spla\u001b[38;5;241m.\u001b[39mexpm(A\u001b[38;5;241m.\u001b[39mtoarray())\n\u001b[0;32m    402\u001b[0m \u001b[38;5;28;01mreturn\u001b[39;00m sp\u001b[38;5;241m.\u001b[39mcsr_matrix(E)\n",
      "File \u001b[1;32m~\\anaconda3\\Lib\\site-packages\\scipy\\sparse\\linalg\\_matfuncs.py:590\u001b[0m, in \u001b[0;36mexpm\u001b[1;34m(A)\u001b[0m\n\u001b[0;32m    545\u001b[0m \u001b[38;5;28;01mdef\u001b[39;00m \u001b[38;5;21mexpm\u001b[39m(A):\n\u001b[0;32m    546\u001b[0m \u001b[38;5;250m    \u001b[39m\u001b[38;5;124;03m\"\"\"\u001b[39;00m\n\u001b[0;32m    547\u001b[0m \u001b[38;5;124;03m    Compute the matrix exponential using Pade approximation.\u001b[39;00m\n\u001b[0;32m    548\u001b[0m \n\u001b[1;32m   (...)\u001b[0m\n\u001b[0;32m    588\u001b[0m \u001b[38;5;124;03m           [  0.        ,   0.        ,  20.08553692]])\u001b[39;00m\n\u001b[0;32m    589\u001b[0m \u001b[38;5;124;03m    \"\"\"\u001b[39;00m\n\u001b[1;32m--> 590\u001b[0m     \u001b[38;5;28;01mreturn\u001b[39;00m _expm(A, use_exact_onenorm\u001b[38;5;241m=\u001b[39m\u001b[38;5;124m'\u001b[39m\u001b[38;5;124mauto\u001b[39m\u001b[38;5;124m'\u001b[39m)\n",
      "File \u001b[1;32m~\\anaconda3\\Lib\\site-packages\\scipy\\sparse\\linalg\\_matfuncs.py:669\u001b[0m, in \u001b[0;36m_expm\u001b[1;34m(A, use_exact_onenorm)\u001b[0m\n\u001b[0;32m    667\u001b[0m     s \u001b[38;5;241m=\u001b[39m \u001b[38;5;241m0\u001b[39m\n\u001b[0;32m    668\u001b[0m \u001b[38;5;28;01melse\u001b[39;00m:\n\u001b[1;32m--> 669\u001b[0m     s \u001b[38;5;241m=\u001b[39m \u001b[38;5;28mmax\u001b[39m(\u001b[38;5;28mint\u001b[39m(np\u001b[38;5;241m.\u001b[39mceil(np\u001b[38;5;241m.\u001b[39mlog2(eta_5 \u001b[38;5;241m/\u001b[39m theta_13))), \u001b[38;5;241m0\u001b[39m)\n\u001b[0;32m    670\u001b[0m s \u001b[38;5;241m=\u001b[39m s \u001b[38;5;241m+\u001b[39m _ell(\u001b[38;5;241m2\u001b[39m\u001b[38;5;241m*\u001b[39m\u001b[38;5;241m*\u001b[39m\u001b[38;5;241m-\u001b[39ms \u001b[38;5;241m*\u001b[39m h\u001b[38;5;241m.\u001b[39mA, \u001b[38;5;241m13\u001b[39m)\n\u001b[0;32m    671\u001b[0m U, V \u001b[38;5;241m=\u001b[39m h\u001b[38;5;241m.\u001b[39mpade13_scaled(s)\n",
      "\u001b[1;31mValueError\u001b[0m: cannot convert float NaN to integer"
     ]
    }
   ],
   "source": [
    "Ks_at_timet=[-sum(phii*opi for phii, opi in zip(phi_ti, HBB_d)) for phi_ti in phit]\n",
    "sigmas_at_timet=[gij.safe_expm_and_normalize(Kti) for Kti in Ks_at_timet]"
   ]
  },
  {
   "cell_type": "code",
   "execution_count": null,
   "id": "6ab4acfa-6a95-4458-8f86-4b9d070d07fb",
   "metadata": {},
   "outputs": [],
   "source": [
    "obs1=spin_ops['sy'][2]*spin_ops['sy'][3]\n",
    "obs=sz_total\n",
    "\n",
    "obs_evex=np.array([(rho*obs).tr() for rho in rhos_resex])\n",
    "obs_evrwa=np.array([(sigma*obs).tr() for sigma in rhos_resrwa])\n",
    "obs_evrot=np.array([(sigma*obs).tr() for sigma in rhos_rotcr])\n",
    "\n",
    "obs_maxent=np.array([(sigma_t * obs).tr() for sigma_t in sigmas_at_timet])\n",
    "\n",
    "fig0,ax0=plt.subplots(figsize=(8,6))\n",
    "\n",
    "plt.plot(timespan, obs_evex, label='Exact', linestyle='dashed')\n",
    "plt.plot(timespan, obs_evrwa, label='RWA', linestyle='dotted', color='orange')\n",
    "plt.plot(timespan, obs_maxent, label='Restricted', linestyle='dashdot', color='black')\n",
    "\n",
    "ax0.legend(loc=0)\n",
    "plt.xlabel(\"Time[s]\")\n",
    "plt.ylabel(r\"$\\langle O \\rangle_{\\sigma^\\ell}$\")\n",
    "plt.title(r'$N={},\\,\\,\\omega={},\\,\\, J={},\\,\\, \\Delta={},\\,\\, V_0/\\Omega={}, \\,\\, \\phi={}$'.format(\n",
    "                                                                params['size'],\n",
    "                                                                round(params['omega'],3), \n",
    "                                                                round((params['Jx']),3), \n",
    "                                                                round(params['omega']-params['Omega'],3), \n",
    "                                                                round(params['V0']/params['Omega'],3),\n",
    "                                                                round(params['phase'],2)))\n",
    "plt.show()"
   ]
  },
  {
   "cell_type": "code",
   "execution_count": 12,
   "id": "074dce4e-55e2-4373-9cb0-3b5960558521",
   "metadata": {},
   "outputs": [
    {
     "data": {
      "text/plain": [
       "array([0. +0.j, 1. +0.j, 1. +0.j, 5.2+0.j])"
      ]
     },
     "execution_count": 12,
     "metadata": {},
     "output_type": "execute_result"
    }
   ],
   "source": [
    "z[0]"
   ]
  },
  {
   "cell_type": "code",
   "execution_count": null,
   "id": "39b1d53a-42a8-48dc-9529-fa9e0c220e53",
   "metadata": {},
   "outputs": [],
   "source": []
  }
 ],
 "metadata": {
  "kernelspec": {
   "display_name": "Python 3 (ipykernel)",
   "language": "python",
   "name": "python3"
  },
  "language_info": {
   "codemirror_mode": {
    "name": "ipython",
    "version": 3
   },
   "file_extension": ".py",
   "mimetype": "text/x-python",
   "name": "python",
   "nbconvert_exporter": "python",
   "pygments_lexer": "ipython3",
   "version": "3.11.7"
  }
 },
 "nbformat": 4,
 "nbformat_minor": 5
}
